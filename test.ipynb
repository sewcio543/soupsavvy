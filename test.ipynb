{
 "cells": [
  {
   "cell_type": "code",
   "execution_count": 1,
   "metadata": {},
   "outputs": [],
   "source": [
    "from src.soupsavvy import ElementTag, AnyTag"
   ]
  },
  {
   "cell_type": "code",
   "execution_count": 2,
   "metadata": {},
   "outputs": [
    {
     "data": {
      "text/plain": [
       "<div class=\"Popover js-hovercard-content position-absolute\" data-darkreader-inline-outline=\"\" style=\"\n",
       "    display: none;\n",
       "    outline: none;\n",
       "    --darkreader-inline-outline: initial;\n",
       "    top: 452.5px;\n",
       "    left: 460.141px;\n",
       "    z-index: 100;\n",
       "  \" tabindex=\"0\">\n",
       "<div class=\"Popover-message Popover-message--large Box color-shadow-large Popover-message--bottom-left\" style=\"width: 360px\"></div>\n",
       "</div>"
      ]
     },
     "execution_count": 2,
     "metadata": {},
     "output_type": "execute_result"
    }
   ],
   "source": [
    "from bs4 import BeautifulSoup as Bs\n",
    "\n",
    "with open('test.html') as f:\n",
    "    soup = Bs(f, 'html.parser')\n",
    "    \n",
    "soup.find()"
   ]
  },
  {
   "cell_type": "code",
   "execution_count": 26,
   "metadata": {},
   "outputs": [
    {
     "data": {
      "text/plain": [
       "'<a></a>'"
      ]
     },
     "execution_count": 26,
     "metadata": {},
     "output_type": "execute_result"
    }
   ],
   "source": [
    "str(Bs(\"<a></a>\", \"html.parser\").find(\"a\"))"
   ]
  },
  {
   "cell_type": "code",
   "execution_count": 14,
   "metadata": {},
   "outputs": [
    {
     "data": {
      "text/plain": [
       "<div class=\"Popover-message Popover-message--large Box color-shadow-large Popover-message--bottom-left\" style=\"width: 360px\"></div>"
      ]
     },
     "execution_count": 14,
     "metadata": {},
     "output_type": "execute_result"
    }
   ],
   "source": [
    "AnyTag().find_all(soup)[1]\n"
   ]
  }
 ],
 "metadata": {
  "kernelspec": {
   "display_name": "working",
   "language": "python",
   "name": "python3"
  },
  "language_info": {
   "codemirror_mode": {
    "name": "ipython",
    "version": 3
   },
   "file_extension": ".py",
   "mimetype": "text/x-python",
   "name": "python",
   "nbconvert_exporter": "python",
   "pygments_lexer": "ipython3",
   "version": "3.11.0"
  }
 },
 "nbformat": 4,
 "nbformat_minor": 2
}
