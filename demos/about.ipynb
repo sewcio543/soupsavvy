{
  "cells": [
    {
      "cell_type": "markdown",
      "metadata": {},
      "source": [
        "# About"
      ]
    },
    {
      "cell_type": "markdown",
      "metadata": {},
      "source": [
        "## Motivation"
      ]
    },
    {
      "cell_type": "markdown",
      "metadata": {},
      "source": [
        "While `BeautifulSoup` is great for parsing HTML, its search engine is limited and struggles with complex queries. The `Tag` component, couples node representation with search logic, making it difficult to extend or customize.\n",
        "`soupsavvy` addresses these limitations by introducing a flexible, reusable selector system that integrates seamlessly with `BeautifulSoup` and can be tailored to user needs."
      ]
    },
    {
      "cell_type": "markdown",
      "metadata": {},
      "source": [
        "## Selector concept"
      ]
    },
    {
      "cell_type": "markdown",
      "metadata": {},
      "source": [
        "With `BeautifulSoup`, dictionary of parameters can be used to imitate the concept of selector, but this approach is limited to simple queries like text, attributes, and name matching."
      ]
    },
    {
      "cell_type": "code",
      "execution_count": null,
      "metadata": {},
      "outputs": [],
      "source": [
        "from bs4 import BeautifulSoup\n",
        "\n",
        "PRICE_SELECTOR = {\"name\": \"p\", \"attrs\": {\"class\": \"price\"}}\n",
        "\n",
        "soup = BeautifulSoup(\"\"\"<p class=\"price\">Price: $10</p>\"\"\", \"lxml\")\n",
        "soup.find(**PRICE_SELECTOR)"
      ]
    },
    {
      "cell_type": "markdown",
      "metadata": {},
      "source": [
        "Alternatively, function can be used to implement more complex search logic."
      ]
    },
    {
      "cell_type": "code",
      "execution_count": null,
      "metadata": {},
      "outputs": [],
      "source": [
        "from bs4 import BeautifulSoup, Tag\n",
        "\n",
        "# CSS Selector equivalent: p.price > span ~ a.link\n",
        "\n",
        "\n",
        "def select_sth(tag: Tag):\n",
        "    # Find the first <p> tag with class \"price\"\n",
        "    tag1 = tag.find(\"p\", attrs={\"class\": \"price\"})\n",
        "\n",
        "    if not isinstance(tag1, Tag):\n",
        "        return None\n",
        "\n",
        "    # Find the first <span> tag within the <p> tag\n",
        "    tag2 = tag1.find(\"span\", recursive=False)\n",
        "\n",
        "    if not isinstance(tag2, Tag):\n",
        "        return None\n",
        "\n",
        "    # Find the next sibling <a> tag with class \"link\"\n",
        "    return tag2.find_next_sibling(\"a\", attrs={\"class\": \"link\"})\n",
        "\n",
        "\n",
        "soup = BeautifulSoup(\n",
        "    \"\"\"\n",
        "    <p class=\"price\">\n",
        "        <span>Price: $10</span>\n",
        "        <a class=\"link\"></a>\n",
        "    </p>\n",
        "    \"\"\",\n",
        "    features=\"lxml\",\n",
        ")\n",
        "select_sth(soup)"
      ]
    },
    {
      "cell_type": "markdown",
      "metadata": {},
      "source": [
        "`soupsavvy` encapsulates search logic and offers a more structured, declarative approach to defining selectors, including composite ones, that can handle intricate, layered criteria. Selectors in `soupsavvy` are designed to be intuitive and feature API similar to `BeautifulSoup`."
      ]
    },
    {
      "cell_type": "code",
      "execution_count": null,
      "metadata": {},
      "outputs": [],
      "source": [
        "from bs4 import BeautifulSoup\n",
        "\n",
        "from soupsavvy import ClassSelector, TypeSelector\n",
        "\n",
        "PRICE_SELECTOR = {\"name\": \"p\", \"attrs\": {\"class\": \"price\"}}\n",
        "\n",
        "soup = BeautifulSoup(\"\"\"<p class=\"price\">Price: $10</p>\"\"\", features=\"lxml\")\n",
        "selector = TypeSelector(\"p\") & ClassSelector(\"price\")\n",
        "selector.find(soup)"
      ]
    },
    {
      "cell_type": "code",
      "execution_count": null,
      "metadata": {},
      "outputs": [],
      "source": [
        "from bs4 import BeautifulSoup\n",
        "\n",
        "from soupsavvy import ClassSelector, TypeSelector\n",
        "\n",
        "soup = BeautifulSoup(\n",
        "    \"\"\"\n",
        "    <p class=\"price\">\n",
        "        <span>Price: $10</span>\n",
        "        <a class=\"link\"></a>\n",
        "    </p>\n",
        "    \"\"\",\n",
        "    features=\"lxml\",\n",
        ")\n",
        "selector = ClassSelector(\"price\") > TypeSelector(\"span\") + ClassSelector(\"link\")\n",
        "selector.find(soup)"
      ]
    },
    {
      "cell_type": "markdown",
      "metadata": {},
      "source": [
        "## Conclusion"
      ]
    },
    {
      "cell_type": "markdown",
      "metadata": {},
      "source": [
        "`soupsavvy` introduces declarative selectors that address the limitations of `BeautifulSoup`, offering custom solutions for even the most complex queries. Read more about selectors in the following sections."
      ]
    },
    {
      "cell_type": "markdown",
      "metadata": {},
      "source": [
        "**Enjoy `soupsavvy` and leave us feedback!**  \n",
        "**Happy scraping!**"
      ]
    }
  ],
  "metadata": {
    "kernelspec": {
      "display_name": "soupsavvy",
      "language": "python",
      "name": "python3"
    },
    "language_info": {
      "codemirror_mode": {
        "name": "ipython",
        "version": 3
      },
      "file_extension": ".py",
      "mimetype": "text/x-python",
      "name": "python",
      "nbconvert_exporter": "python",
      "pygments_lexer": "ipython3",
      "version": "3.11.9"
    }
  },
  "nbformat": 4,
  "nbformat_minor": 2
}
