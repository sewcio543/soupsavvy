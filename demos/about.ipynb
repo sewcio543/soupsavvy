{
 "cells": [
  {
   "cell_type": "markdown",
   "metadata": {},
   "source": [
    "# Soupsavvy"
   ]
  },
  {
   "cell_type": "markdown",
   "metadata": {},
   "source": [
    "## Motivation"
   ]
  },
  {
   "cell_type": "markdown",
   "metadata": {},
   "source": [
    "`soupsavvy` is flexible search engine for `BeautifulSoup`, designed to provide more powerful capabilities.\n",
    "While BeautifulSoup excels in excellent at parsing HTML documents, it falls short in performing more complex searches due to the lack of a robust `selector` concept. This limitation inspired the creation of `soupsavvy`, which integrates seamlessly with `BeautifulSoup` to provide advanced search functionalities."
   ]
  },
  {
   "cell_type": "markdown",
   "metadata": {},
   "source": [
    "In `BeautifulSoup`, a `Tag` component serves dual roles as both a node in the HTML tree and a search engine. Its search engine allows for basic searches using tag names, attributes, and text, which suffices for simple scenarios. However, this approach becomes cumbersome for more complex searches. The lack of separation between the tree structure and the search engine also makes reusability challenging. Simplified, the public API of `Tag` looks like this:\n",
    "\n",
    "```\n",
    "├── Tag\n",
    "│   ├── search\n",
    "│   │   ├── find\n",
    "│   │   ├── find_all\n",
    "│   │   ├── select\n",
    "│   │   ├── select_one\n",
    "│   │   ├── find_sibling\n",
    "│   ├── node\n",
    "│   │   ├── descendants\n",
    "│   │   ├── children\n",
    "│   │   ├── siblings\n",
    "│   │   ├── parent\n",
    "│   │   ├── next\n",
    "│   │   ├── previous\n",
    "```"
   ]
  },
  {
   "cell_type": "markdown",
   "metadata": {},
   "source": [
    "## Concept of Selector"
   ]
  },
  {
   "cell_type": "markdown",
   "metadata": {},
   "source": [
    "\n",
    "Imitating the concept of a `soupsavvy` selector can be achieved in various ways. For simple searches where the Tag search engine is enough, dictionary of parameters can be assigned to variable and be reused throughout your code by passing it as keyword arguments to the `Tag` find methods. Here is an example:"
   ]
  },
  {
   "cell_type": "code",
   "execution_count": 36,
   "metadata": {},
   "outputs": [
    {
     "data": {
      "text/plain": [
       "<p class=\"price\">Price: $10</p>"
      ]
     },
     "execution_count": 36,
     "metadata": {},
     "output_type": "execute_result"
    }
   ],
   "source": [
    "from bs4 import BeautifulSoup\n",
    "\n",
    "PRICE_SELECTOR = {\"name\": \"p\", \"attrs\": {\"class\": \"price\"}}\n",
    "\n",
    "soup = BeautifulSoup(\"\"\"<p class=\"price\">Price: $10</p>\"\"\", \"lxml\")\n",
    "soup.find_all(**PRICE_SELECTOR, limit=3)\n",
    "soup.find(**PRICE_SELECTOR, recursive=True)"
   ]
  },
  {
   "cell_type": "markdown",
   "metadata": {},
   "source": [
    "For more complex searches, we can define a function that takes a Tag as an argument and returns the desired element. This approach encapsulates the search logic, making it reusable across multiple places in your code. Here’s an example:"
   ]
  },
  {
   "cell_type": "code",
   "execution_count": 37,
   "metadata": {},
   "outputs": [
    {
     "data": {
      "text/plain": [
       "<a class=\"link\"></a>"
      ]
     },
     "execution_count": 37,
     "metadata": {},
     "output_type": "execute_result"
    }
   ],
   "source": [
    "from bs4 import BeautifulSoup, Tag\n",
    "\n",
    "# CSS Selector equivalent: p.price > span ~ a.link\n",
    "\n",
    "\n",
    "def select_sth(tag: Tag):\n",
    "    # Find the first <p> tag with class \"price\"\n",
    "    tag1 = tag.find(\"p\", attrs={\"class\": \"price\"})\n",
    "\n",
    "    if not isinstance(tag1, Tag):\n",
    "        return None\n",
    "\n",
    "    # Find the first <span> tag within the <p> tag\n",
    "    tag2 = tag1.find(\"span\", recursive=False)\n",
    "\n",
    "    if not isinstance(tag2, Tag):\n",
    "        return None\n",
    "\n",
    "    # Find the next sibling <a> tag with class \"link\"\n",
    "    return tag2.find_next_sibling(\"a\", attrs={\"class\": \"link\"})\n",
    "\n",
    "\n",
    "soup = BeautifulSoup(\n",
    "    \"\"\"<p class=\"price\"><span>Price: $10</span><a class=\"link\"></a></p>\"\"\", \"lxml\"\n",
    ")\n",
    "select_sth(soup)"
   ]
  },
  {
   "cell_type": "markdown",
   "metadata": {},
   "source": [
    "### Flaws"
   ]
  },
  {
   "cell_type": "markdown",
   "metadata": {},
   "source": [
    "Moving the search logic outside of the `Tag` class is a step towards a more structured search engine, but this approach has some limitations:\n",
    "\n",
    "* **Handling Not Found**: What if the function needs to raise an exception when the desired element is not found? In some scenarios, it is critical for the application to break if a required element is missing. This behavior is difficult to enforce with simple selector functions.\n",
    "* **Parameter Passing**: How to handle extra parameters for the `find` and `find_all` methods, such as `recursive` or `limit` for all functions in consistent way?\n",
    "* **Maintainability**: Maintaining multiple selector functions can become a nightmare. It makes the code harder to read and more prone to errors."
   ]
  },
  {
   "cell_type": "markdown",
   "metadata": {},
   "source": [
    "### Solution"
   ]
  },
  {
   "cell_type": "markdown",
   "metadata": {},
   "source": [
    "This is where `soupsavvy` comes in with solution to all these problems. It allows you to define selectors declaratively, using a simple and readable syntax. It's a powerful search engine for `BeautifulSoup`, similar to the [soupsieve](https://github.com/facelessuser/soupsieve \"soupsieve\") library, whose developers describe it as:\n",
    "\n",
    "* > Soup Sieve is a CSS selector library designed to be used with Beautiful Soup 4.\n",
    "* > Soup Sieve was written with the intent to replace Beautiful Soup's builtin select feature, and as of Beautiful Soup version 4.7.0, it now is 🎊\n",
    "\n",
    "While `soupsieve` is an excellent tool for CSS selectors, `soupsavvy` is a more general solution, offering greater flexibility in defining selectors.\n",
    "\n",
    "Perhaps one day `soupsavvy` will be integrated with BeautifulSoup, but for now, it remains a standalone library."
   ]
  },
  {
   "cell_type": "markdown",
   "metadata": {},
   "source": [
    "## Selector"
   ]
  },
  {
   "cell_type": "markdown",
   "metadata": {},
   "source": [
    "The most common feature of `soupsavvy` is the `Selector`. This versatile component can be adjusted to suit various needs. All selectors implement the `SoupSelector` interface, which means:\n",
    "\n",
    "* **Universal Usage**: Selectors can be used in a consistent manner across different scenarios.\n",
    "* **Combinability**: Selectors can be easily combined and work seamlessly together.\n",
    "* **Comparability**: Selectors can be compared with one another.\n",
    "* **Functionality**: Selectors are used to find elements within the soup."
   ]
  },
  {
   "cell_type": "markdown",
   "metadata": {},
   "source": [
    "### `find` method"
   ]
  },
  {
   "cell_type": "markdown",
   "metadata": {},
   "source": [
    "#### Docs"
   ]
  },
  {
   "cell_type": "code",
   "execution_count": 38,
   "metadata": {},
   "outputs": [
    {
     "name": "stdout",
     "output_type": "stream",
     "text": [
      "Help on function find in module soupsavvy.tags.base:\n",
      "\n",
      "find(self, tag: 'Tag', strict: 'bool' = False, recursive: 'bool' = True) -> 'Optional[Tag]'\n",
      "    Finds a first matching element in provided BeautifulSoup Tag.\n",
      "    \n",
      "    Parameters\n",
      "    ----------\n",
      "    tag : Tag\n",
      "        Any BeautifulSoup Tag object.\n",
      "    strict : bool, optional\n",
      "        If True, raises an exception if tag was not found in markup,\n",
      "        if False and tag was not found, returns None by defaulting to BeautifulSoup\n",
      "        implementation. Value of this parameter does not affect behavior if tag\n",
      "        was successfully found in the markup. By default False.\n",
      "    recursive : bool, optional\n",
      "        bs4.Tag.find method parameter that specifies if search should be recursive.\n",
      "        If set to False, only direct children of the tag will be searched.\n",
      "        By default True.\n",
      "    \n",
      "    Returns\n",
      "    -------\n",
      "    Tag | None\n",
      "        BeautifulSoup Tag if it tag was found in the markup, else None.\n",
      "    \n",
      "    Notes\n",
      "    -----\n",
      "    If result is an instance of NavigableString,\n",
      "    exception is raised to avoid any type of inconsistency downstream.\n",
      "    \n",
      "    Raises\n",
      "    ------\n",
      "    TagNotFoundException\n",
      "        If strict parameter is set to True and tag was not found in markup.\n",
      "    NavigableStringException\n",
      "        If NavigableString was returned by bs4.\n",
      "\n"
     ]
    }
   ],
   "source": [
    "from soupsavvy.tags.base import SoupSelector\n",
    "\n",
    "help(SoupSelector.find)"
   ]
  },
  {
   "cell_type": "markdown",
   "metadata": {},
   "source": [
    "#### Overview"
   ]
  },
  {
   "cell_type": "markdown",
   "metadata": {},
   "source": [
    "The `find` method is one of the two primary search methods in `soupsavvy` selectors, alongside `find_all`. Much like the `BeautifulSoup` `Tag.find` method, `find` returns the first element that matches the selector. In addition to the `recursive` option from `BeautifulSoup`, it introduces a `strict` parameter. \n",
    "\n",
    "The `strict` parameter addresses a common issue: often, not finding an element is not expected and can break the application. Continuously checking if returned objects are `None` creates a lot of boilerplate code. By setting the `strict` parameter to `True`, the `find` method will raise a `TagNotFoundException` if no element is found, ensuring that the application does not proceed in such cases. By default, `strict` is set to `False`.\n",
    "\n",
    "A particular challenge with `BeautifulSoup` arises when only a string is provided as a parameter to the `find` method, which if anything was matched returns `NavigableString` object. This makes searches based solely on text difficult. `soupsavvy` tackles this problem with the `PatternSelector`, though it won't be covered in this article.\n",
    "\n",
    "Furthermore, `soupsavvy` raises `NavigableStringException` if any selector's `find` method returns a `NavigableString` object, preventing unintended behavior.\n",
    "\n",
    "Generally, in most selectors, the `find` method operates by returning the first element from the results of the `find_all` method, but some selectors optimize this process."
   ]
  },
  {
   "cell_type": "markdown",
   "metadata": {},
   "source": [
    "#### Examples"
   ]
  },
  {
   "cell_type": "code",
   "execution_count": 39,
   "metadata": {},
   "outputs": [
    {
     "data": {
      "text/plain": [
       "<p class=\"price\">Price: $10</p>"
      ]
     },
     "execution_count": 39,
     "metadata": {},
     "output_type": "execute_result"
    }
   ],
   "source": [
    "from bs4 import BeautifulSoup\n",
    "\n",
    "from soupsavvy import TagSelector\n",
    "\n",
    "soup = BeautifulSoup(\n",
    "    \"\"\"<p class=\"price\">Price: $10</p><p class=\"price\">Price: $20</p>\"\"\", \"lxml\"\n",
    ")\n",
    "price_selector = TagSelector(\"p\")\n",
    "price_selector.find(soup)"
   ]
  },
  {
   "cell_type": "code",
   "execution_count": 40,
   "metadata": {},
   "outputs": [
    {
     "data": {
      "text/plain": [
       "<p class=\"price\">Price: $20</p>"
      ]
     },
     "execution_count": 40,
     "metadata": {},
     "output_type": "execute_result"
    }
   ],
   "source": [
    "from bs4 import BeautifulSoup, Tag\n",
    "\n",
    "from soupsavvy import TagSelector\n",
    "\n",
    "soup: Tag = BeautifulSoup(\n",
    "    \"\"\"<div><p class=\"price\">Price: $10</p></div><p class=\"price\">Price: $20</p>\"\"\",\n",
    "    \"lxml\",\n",
    ").body  # type: ignore\n",
    "\n",
    "price_selector = TagSelector(\"p\")\n",
    "price_selector.find(soup, recursive=False)"
   ]
  },
  {
   "cell_type": "code",
   "execution_count": 41,
   "metadata": {},
   "outputs": [
    {
     "name": "stdout",
     "output_type": "stream",
     "text": [
      "Tag was not found in markup.\n"
     ]
    }
   ],
   "source": [
    "from bs4 import BeautifulSoup\n",
    "\n",
    "from soupsavvy import TagSelector\n",
    "from soupsavvy.exceptions import TagNotFoundException\n",
    "\n",
    "soup = BeautifulSoup(\"\"\"<a class=\"price\">Price: $10</a>\"\"\", \"lxml\")\n",
    "\n",
    "price_selector = TagSelector(\"p\")\n",
    "\n",
    "try:\n",
    "    price_selector.find(soup, strict=True)\n",
    "except TagNotFoundException as e:\n",
    "    print(e)"
   ]
  },
  {
   "cell_type": "markdown",
   "metadata": {},
   "source": [
    "### `find_all` method"
   ]
  },
  {
   "cell_type": "markdown",
   "metadata": {},
   "source": [
    "#### Docs"
   ]
  },
  {
   "cell_type": "code",
   "execution_count": 42,
   "metadata": {},
   "outputs": [
    {
     "name": "stdout",
     "output_type": "stream",
     "text": [
      "Help on function find_all in module soupsavvy.tags.base:\n",
      "\n",
      "find_all(self, tag: 'Tag', recursive: 'bool' = True, limit: 'Optional[int]' = None) -> 'list[Tag]'\n",
      "    Finds all matching elements in provided BeautifulSoup Tag.\n",
      "    \n",
      "    Parameters\n",
      "    ----------\n",
      "    tag : Tag\n",
      "        Any BeautifulSoup Tag object.\n",
      "    recursive : bool, optional\n",
      "        bs4.Tag.find method parameter that specifies if search should be recursive.\n",
      "        If set to False, only direct children of the tag will be searched.\n",
      "        By default True.\n",
      "    limit : int, optional\n",
      "        bs4.Tag.find_all method parameter that specifies maximum number of elements\n",
      "        to return. If set to None, all elements are returned. By default None.\n",
      "    \n",
      "    Returns\n",
      "    -------\n",
      "    list[Tag]\n",
      "        A list of Tag objects matching tag specifications.\n",
      "        If none found, the list is empty.\n",
      "\n"
     ]
    }
   ],
   "source": [
    "from soupsavvy.tags.base import SoupSelector\n",
    "\n",
    "help(SoupSelector.find_all)"
   ]
  },
  {
   "cell_type": "markdown",
   "metadata": {},
   "source": [
    "#### Overview"
   ]
  },
  {
   "cell_type": "markdown",
   "metadata": {},
   "source": [
    "The `find_all` method, similar to `BeautifulSoup`'s `Tag.find_all` method, returns all elements that match the selector. It consistently returns a list, so there is no need for a `strict` parameter. If no elements match the selector, it simply returns an empty list. The `find_all` method also supports the `limit` and `recursive` parameters, familiar from `BeautifulSoup`, allowing for controlled and flexible searches."
   ]
  },
  {
   "cell_type": "markdown",
   "metadata": {},
   "source": [
    "#### Examples"
   ]
  },
  {
   "cell_type": "code",
   "execution_count": 43,
   "metadata": {},
   "outputs": [
    {
     "data": {
      "text/plain": [
       "[<p class=\"price\">Price: $10</p>, <p class=\"price\">Price: $20</p>]"
      ]
     },
     "execution_count": 43,
     "metadata": {},
     "output_type": "execute_result"
    }
   ],
   "source": [
    "from bs4 import BeautifulSoup\n",
    "\n",
    "from soupsavvy import TagSelector\n",
    "\n",
    "soup = BeautifulSoup(\n",
    "    \"\"\"<p class=\"price\">Price: $10</p><p class=\"price\">Price: $20</p>\"\"\", \"lxml\"\n",
    ")\n",
    "price_selector = TagSelector(\"p\")\n",
    "price_selector.find_all(soup)"
   ]
  },
  {
   "cell_type": "code",
   "execution_count": 44,
   "metadata": {},
   "outputs": [
    {
     "data": {
      "text/plain": [
       "[<p class=\"price\">Price: $20</p>]"
      ]
     },
     "execution_count": 44,
     "metadata": {},
     "output_type": "execute_result"
    }
   ],
   "source": [
    "from bs4 import BeautifulSoup, Tag\n",
    "\n",
    "from soupsavvy import TagSelector\n",
    "\n",
    "soup: Tag = BeautifulSoup(\n",
    "    \"\"\"<div><p class=\"price\">Price: $10</p></div><p class=\"price\">Price: $20</p>\"\"\",\n",
    "    \"lxml\",\n",
    ").body  # type: ignore\n",
    "\n",
    "price_selector = TagSelector(\"p\")\n",
    "price_selector.find_all(soup, recursive=False)"
   ]
  },
  {
   "cell_type": "code",
   "execution_count": 45,
   "metadata": {},
   "outputs": [
    {
     "data": {
      "text/plain": [
       "[]"
      ]
     },
     "execution_count": 45,
     "metadata": {},
     "output_type": "execute_result"
    }
   ],
   "source": [
    "from bs4 import BeautifulSoup\n",
    "\n",
    "from soupsavvy import TagSelector\n",
    "\n",
    "soup = BeautifulSoup(\"\"\"<a class=\"price\">Price: $10</a>\"\"\", \"lxml\")\n",
    "\n",
    "price_selector = TagSelector(\"p\")\n",
    "price_selector.find_all(soup)"
   ]
  },
  {
   "cell_type": "code",
   "execution_count": 46,
   "metadata": {},
   "outputs": [
    {
     "data": {
      "text/plain": [
       "[<p class=\"price\">Price: $10</p>, <p class=\"price\">Price: $20</p>]"
      ]
     },
     "execution_count": 46,
     "metadata": {},
     "output_type": "execute_result"
    }
   ],
   "source": [
    "from bs4 import BeautifulSoup\n",
    "\n",
    "from soupsavvy import TagSelector\n",
    "\n",
    "soup = BeautifulSoup(\n",
    "    \"\"\"\n",
    "        <p class=\"price\">Price: $10</p>\n",
    "        <p class=\"price\">Price: $20</p>\n",
    "        <p class=\"price\">Price: $30</p>\n",
    "    \"\"\",\n",
    "    \"lxml\",\n",
    ")\n",
    "price_selector = TagSelector(\"p\")\n",
    "price_selector.find_all(soup, limit=2)"
   ]
  },
  {
   "cell_type": "markdown",
   "metadata": {},
   "source": [
    "### Equality"
   ]
  },
  {
   "cell_type": "markdown",
   "metadata": {},
   "source": [
    "#### Docs"
   ]
  },
  {
   "cell_type": "code",
   "execution_count": 47,
   "metadata": {},
   "outputs": [
    {
     "name": "stdout",
     "output_type": "stream",
     "text": [
      "Help on function __eq__ in module soupsavvy.tags.base:\n",
      "\n",
      "__eq__(self, other: 'object') -> 'bool'\n",
      "    Check self and other object for equality.\n",
      "    \n",
      "    This method is abstract and must be implemented by all selectors.\n",
      "    Selectors are considered equal if their find methods return the same result.\n",
      "    \n",
      "    Calling find or find_all methods on selectors that are equal\n",
      "    should return the same results.\n",
      "    \n",
      "    Example\n",
      "    -------\n",
      "    >>> selector1 = ElementTag(\"div\")\n",
      "    >>> selector2 = ElementTag(\"div\")\n",
      "    >>> selector1 == selector2\n",
      "    True\n",
      "    >>> selector1.find(tag) == selector2.find(tag)\n",
      "    True\n",
      "\n"
     ]
    }
   ],
   "source": [
    "from soupsavvy.tags.base import SoupSelector\n",
    "\n",
    "help(SoupSelector.__eq__)"
   ]
  },
  {
   "cell_type": "markdown",
   "metadata": {},
   "source": [
    "#### Overview"
   ]
  },
  {
   "cell_type": "markdown",
   "metadata": {},
   "source": [
    "All `soupsavvy` Selectors are comparable, meaning they can be checked for equality. If two selectors are equal, their search results will always be identical. However, if two selectors are not equal, their search results may still be the same, but this is not guaranteed and depends on the structure of the soup being queried."
   ]
  },
  {
   "cell_type": "markdown",
   "metadata": {},
   "source": [
    "#### Examples"
   ]
  },
  {
   "cell_type": "code",
   "execution_count": 48,
   "metadata": {},
   "outputs": [
    {
     "name": "stdout",
     "output_type": "stream",
     "text": [
      "TagSelector('p') == TagSelector('div') = False\n",
      "TagSelector('p') == TagSelector('a') = False\n",
      "TagSelector() == AnyTagSelector() = True\n"
     ]
    }
   ],
   "source": [
    "from soupsavvy import TagSelector, AnyTagSelector\n",
    "\n",
    "print(f\"{TagSelector('p') == TagSelector('div') = }\")\n",
    "print(f\"{TagSelector('p') == TagSelector('a') = }\")\n",
    "# selectors of different types can be equal as well\n",
    "print(f\"{TagSelector() == AnyTagSelector() = }\")"
   ]
  },
  {
   "cell_type": "markdown",
   "metadata": {},
   "source": [
    "#### Combining selectors"
   ]
  },
  {
   "cell_type": "markdown",
   "metadata": {},
   "source": [
    "#### Overview"
   ]
  },
  {
   "cell_type": "markdown",
   "metadata": {},
   "source": [
    "All selectors in `soupsavvy` can be combined using Higher Order Selectors, such as `AndSelector`, or with syntactical sugar operators. This flexibility allows for complex and nuanced queries, enabling users to construct sophisticated search criteria. For more detailed information about combining selectors read the documentation [here](todo)."
   ]
  },
  {
   "cell_type": "markdown",
   "metadata": {},
   "source": [
    "#### Examples"
   ]
  },
  {
   "cell_type": "code",
   "execution_count": 49,
   "metadata": {},
   "outputs": [
    {
     "data": {
      "text/plain": [
       "<p class=\"price\">Price: $20</p>"
      ]
     },
     "execution_count": 49,
     "metadata": {},
     "output_type": "execute_result"
    }
   ],
   "source": [
    "from bs4 import BeautifulSoup\n",
    "\n",
    "from soupsavvy import TagSelector, PatternSelector, AndSelector\n",
    "\n",
    "soup = BeautifulSoup(\n",
    "    \"\"\"\n",
    "        <p class=\"price\">Price: $10</p>\n",
    "        <p class=\"price\">Price: $20</p>\n",
    "    \"\"\",\n",
    "    \"lxml\",\n",
    ")\n",
    "\n",
    "# combine selector using Higher Order Selector initializer\n",
    "price_selector = AndSelector(TagSelector(\"p\"), PatternSelector(r\"20\", re=True))\n",
    "price_selector.find(soup)"
   ]
  },
  {
   "cell_type": "code",
   "execution_count": 50,
   "metadata": {},
   "outputs": [
    {
     "data": {
      "text/plain": [
       "<p class=\"price\">Price: $20</p>"
      ]
     },
     "execution_count": 50,
     "metadata": {},
     "output_type": "execute_result"
    }
   ],
   "source": [
    "from bs4 import BeautifulSoup\n",
    "\n",
    "from soupsavvy import TagSelector, PatternSelector, AndSelector\n",
    "\n",
    "soup = BeautifulSoup(\n",
    "    \"\"\"\n",
    "        <p class=\"price\">Price: $10</p>\n",
    "        <p class=\"price\">Price: $20</p>\n",
    "    \"\"\",\n",
    "    \"lxml\",\n",
    ")\n",
    "\n",
    "# combine selectors with the & operator\n",
    "price_selector = TagSelector(\"p\") & PatternSelector(r\"20\", re=True)\n",
    "price_selector.find(soup)"
   ]
  },
  {
   "cell_type": "markdown",
   "metadata": {},
   "source": [
    "## Summary"
   ]
  },
  {
   "cell_type": "markdown",
   "metadata": {},
   "source": [
    "`Soupsavvy` is crafted to be a powerful and intuitive search engine for `BeautifulSoup`. By leveraging the concept of selectors, it encapsulates search logic in a structured and reusable manner, addressing the limitations of `BeautifulSoup` and offering seamless integration with it."
   ]
  },
  {
   "cell_type": "markdown",
   "metadata": {},
   "source": [
    "**Enjoy the library and leave us feedback!**  \n",
    "**Happy scraping!**"
   ]
  }
 ],
 "metadata": {
  "kernelspec": {
   "display_name": "soupsavvy",
   "language": "python",
   "name": "python3"
  },
  "language_info": {
   "codemirror_mode": {
    "name": "ipython",
    "version": 3
   },
   "file_extension": ".py",
   "mimetype": "text/x-python",
   "name": "python",
   "nbconvert_exporter": "python",
   "pygments_lexer": "ipython3",
   "version": "3.11.8"
  }
 },
 "nbformat": 4,
 "nbformat_minor": 2
}
