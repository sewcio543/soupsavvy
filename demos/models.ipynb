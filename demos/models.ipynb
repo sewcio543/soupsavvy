{
 "cells": [
  {
   "cell_type": "markdown",
   "metadata": {},
   "source": [
    "# Models"
   ]
  },
  {
   "cell_type": "markdown",
   "metadata": {},
   "source": [
    "`soupsavvy` supports object oriented web scraping out of the box with user-defined models. Models can be used to find instances of particular structures in provided html. Model defines an object that is expected to be found in particular scope element. `Operation` can be used to extract and transform desired data from target html element."
   ]
  },
  {
   "cell_type": "markdown",
   "metadata": {},
   "source": [
    "## Operation"
   ]
  },
  {
   "cell_type": "markdown",
   "metadata": {},
   "source": [
    "Operations are simple objects that wrap transformation logic, extracting text from element, converting to type or any custom transformation on provided object. Operations can be applied after selector and can be chained at will. Combining `selector` with `operation` can be done with pipe `|` operator. The same way, operations are chained with `|`. In example below, target information we want to extract is price of the book, that is expected to be inside element with class `price`, that is direct child of element with class `book`. In order to extract information in desired format, we can chain operations to extract text (`Text`), remove currency symbol (custom operation `Operation`) and convert to float (`Operation`). \n",
    "\n",
    "`Operation` is component that handles any user defined transformation. It expects callable that takes single argument and returns transformed value. This callable is applied to input object."
   ]
  },
  {
   "cell_type": "code",
   "execution_count": null,
   "metadata": {},
   "outputs": [],
   "source": [
    "from bs4 import BeautifulSoup\n",
    "\n",
    "from soupsavvy import ClassSelector\n",
    "from soupsavvy.operations import Operation, Text\n",
    "\n",
    "text = \"\"\"\n",
    "    <div class=\"book\" href=\"www.book.com\">\n",
    "        <p class=\"title\">Animal Farm</p>\n",
    "        <p class=\"price\">100$</p>\n",
    "        <p>George Orwell</p>\n",
    "    </div>\n",
    "\"\"\"\n",
    "soup = BeautifulSoup(text, features=\"lxml\")\n",
    "selector = ClassSelector(\"book\") > ClassSelector(\"price\")\n",
    "operation = Text() | Operation(lambda x: x.strip(\"$\")) | Operation(int)\n",
    "\n",
    "pipeline = selector | operation\n",
    "pipeline.find(soup)"
   ]
  },
  {
   "cell_type": "markdown",
   "metadata": {},
   "source": [
    "## Model"
   ]
  },
  {
   "cell_type": "markdown",
   "metadata": {},
   "source": [
    "### Definition"
   ]
  },
  {
   "cell_type": "markdown",
   "metadata": {},
   "source": [
    "Requirements for user-defined model are:\n",
    "- Class inheriting from `soupavvy.models.BaseModel`\n",
    "- `__scope__` class attribute that defines scope of model\n",
    "- At least one field defined as class attribute\n",
    "\n",
    "Scope - defines element that is expected to contain all fields of model. It must be `soupsavvy` selector. If element matches scope selector, model is considered to be found and is subsequently extracted from it.\n",
    "\n",
    "Field - defines single piece of information that is expected to be found in scope element. It needs to be defined as class attribute as in example below `title` and `price`. All attribute with value of instance `TagSearcher` is considered model field. Value can be for example:\n",
    "\n",
    "- Selector ex. `ClassSelector(\"book\")`\n",
    "- Selector-Operation pipeline ex `ClassSelector(\"price\") | Text()`\n",
    "- Any Model class that inherits from `BaseModel` ex. `Author`\n",
    "- Operation-Selector mixin (components that can be used both as selector and operation) ex. `Text()` or `Href()`"
   ]
  },
  {
   "cell_type": "code",
   "execution_count": null,
   "metadata": {},
   "outputs": [],
   "source": [
    "from bs4 import BeautifulSoup\n",
    "\n",
    "from soupsavvy import ClassSelector, TypeSelector\n",
    "from soupsavvy.models import BaseModel\n",
    "from soupsavvy.operations import Operation, Text\n",
    "\n",
    "\n",
    "class Book(BaseModel):\n",
    "\n",
    "    __scope__ = TypeSelector(\"div\") & ClassSelector(\"book\")\n",
    "\n",
    "    title = ClassSelector(\"title\") | Text()\n",
    "    price = ClassSelector(\"price\") | Text() | Operation(int)\n",
    "\n",
    "\n",
    "text = \"\"\"\n",
    "    <div class=\"book\">\n",
    "        <p class=\"title\">Animal Farm</p>\n",
    "        <p class=\"price\">100</p>\n",
    "        <p>George Orwell</p>\n",
    "    </div>\n",
    "\"\"\"\n",
    "soup = BeautifulSoup(text, features=\"lxml\")\n",
    "Book.find(soup)"
   ]
  },
  {
   "cell_type": "markdown",
   "metadata": {},
   "source": [
    "If no scope is found in provided tag, `find` method returns `None` and model is not extracted by default. "
   ]
  },
  {
   "cell_type": "code",
   "execution_count": null,
   "metadata": {},
   "outputs": [],
   "source": [
    "from bs4 import BeautifulSoup\n",
    "\n",
    "from soupsavvy import ClassSelector, TypeSelector\n",
    "from soupsavvy.models import BaseModel\n",
    "from soupsavvy.operations import Operation, Text\n",
    "\n",
    "\n",
    "class Book(BaseModel):\n",
    "\n",
    "    __scope__ = TypeSelector(\"div\") & ClassSelector(\"book\")\n",
    "\n",
    "    title = ClassSelector(\"title\") | Text()\n",
    "    price = ClassSelector(\"price\") | Text() | Operation(int)\n",
    "\n",
    "\n",
    "text = \"\"\"\n",
    "    <div class=\"ebook\" href=\"www.book.com\">\n",
    "        <p class=\"title\">Animal Farm</p>\n",
    "        <p class=\"price\">100</p>\n",
    "        <p>George Orwell</p>\n",
    "    </div>\n",
    "\"\"\"\n",
    "soup = BeautifulSoup(text, features=\"lxml\")\n",
    "result = Book.find(soup)\n",
    "assert result is None"
   ]
  },
  {
   "cell_type": "markdown",
   "metadata": {},
   "source": [
    "When using `strict` mode, when `find` method does not find scope `ModelNotFoundException` exception is raised."
   ]
  },
  {
   "cell_type": "code",
   "execution_count": null,
   "metadata": {},
   "outputs": [],
   "source": [
    "from bs4 import BeautifulSoup\n",
    "\n",
    "from soupsavvy import ClassSelector, TypeSelector\n",
    "from soupsavvy.exceptions import ModelNotFoundException\n",
    "from soupsavvy.models import BaseModel\n",
    "from soupsavvy.operations import Operation, Text\n",
    "\n",
    "\n",
    "class Book(BaseModel):\n",
    "\n",
    "    __scope__ = TypeSelector(\"div\") & ClassSelector(\"book\")\n",
    "\n",
    "    title = ClassSelector(\"title\") | Text()\n",
    "    price = ClassSelector(\"price\") | Text() | Operation(int)\n",
    "\n",
    "\n",
    "text = \"\"\"\n",
    "    <div class=\"ebook\" href=\"www.book.com\">\n",
    "        <p class=\"title\">Animal Farm</p>\n",
    "        <p class=\"price\">100</p>\n",
    "        <p>George Orwell</p>\n",
    "    </div>\n",
    "\"\"\"\n",
    "soup = BeautifulSoup(text, features=\"lxml\")\n",
    "\n",
    "try:\n",
    "    Book.find(soup, strict=True)\n",
    "except ModelNotFoundException as e:\n",
    "    print(e)"
   ]
  },
  {
   "cell_type": "markdown",
   "metadata": {},
   "source": [
    "By default, if any error occurs during extraction, it is propagated and model is not build. In example below, `price` element is not found in scope, selector returns `None` and `Text` operation fails, because it cannot extract text from `None`. `strict` parameter applies only to scope search. Field selector is *forgiving* and always applies next operation irrespective of result of previous one. Any expected edge cases need to be explicitly handled. "
   ]
  },
  {
   "cell_type": "code",
   "execution_count": null,
   "metadata": {},
   "outputs": [],
   "source": [
    "from bs4 import BeautifulSoup\n",
    "\n",
    "from soupsavvy import ClassSelector, TypeSelector\n",
    "from soupsavvy.exceptions import FieldExtractionException\n",
    "from soupsavvy.models import BaseModel\n",
    "from soupsavvy.operations import Operation, Text\n",
    "\n",
    "\n",
    "class Book(BaseModel):\n",
    "\n",
    "    __scope__ = TypeSelector(\"div\") & ClassSelector(\"book\")\n",
    "\n",
    "    title = ClassSelector(\"title\") | Text()\n",
    "    price = ClassSelector(\"price\") | Text() | Operation(int)\n",
    "\n",
    "\n",
    "text = \"\"\"\n",
    "    <div class=\"book\" href=\"www.book.com\">\n",
    "        <p class=\"title\">Animal Farm</p>\n",
    "        <p>George Orwell</p>\n",
    "    </div>\n",
    "\"\"\"\n",
    "soup = BeautifulSoup(text, features=\"lxml\")\n",
    "\n",
    "try:\n",
    "    Book.find(soup)\n",
    "except FieldExtractionException as e:\n",
    "    print(e)"
   ]
  },
  {
   "cell_type": "markdown",
   "metadata": {},
   "source": [
    "When expecting, that `price` element might not be present in scope, one of the options is to use `SkipNone` operation wrapper, that skips operation if input is `None`. This way, extraction of text and converting to integer happens only if `price` element is found. `SkipNone` operation returns `None` if input is `None`, otherwise it applies wrapped operation. By default all fields are nullable, so if field selector returns `None`, field of model instance is set to `None`."
   ]
  },
  {
   "cell_type": "code",
   "execution_count": null,
   "metadata": {},
   "outputs": [],
   "source": [
    "from bs4 import BeautifulSoup\n",
    "\n",
    "from soupsavvy import ClassSelector, TypeSelector\n",
    "from soupsavvy.models import BaseModel, SkipNone\n",
    "from soupsavvy.operations import Operation, Text\n",
    "\n",
    "\n",
    "class Book(BaseModel):\n",
    "\n",
    "    __scope__ = TypeSelector(\"div\") & ClassSelector(\"book\")\n",
    "\n",
    "    title = ClassSelector(\"title\") | Text()\n",
    "    price = ClassSelector(\"price\") | SkipNone(Text() | Operation(int))\n",
    "\n",
    "\n",
    "text = \"\"\"\n",
    "    <div class=\"book\" href=\"www.book.com\">\n",
    "        <p class=\"title\">Animal Farm</p>\n",
    "        <p>George Orwell</p>\n",
    "    </div>\n",
    "\"\"\"\n",
    "soup = BeautifulSoup(text, features=\"lxml\")\n",
    "Book.find(soup)"
   ]
  },
  {
   "cell_type": "markdown",
   "metadata": {},
   "source": [
    "Another way of handling errors is `Suppress` operation wrapper, that suppresses any exception that occurs during operation execution. It returns `None` if exception occurs. In case we expect, that input can have value, that is incompatible with operation, `Suppress` is used to handle this case. In example below, `price` element is expected to be present, but we allow case, when text is empty, so we suppress exception that occurs when converting empty string to integer, resulting in `None`."
   ]
  },
  {
   "cell_type": "code",
   "execution_count": null,
   "metadata": {},
   "outputs": [],
   "source": [
    "from bs4 import BeautifulSoup\n",
    "\n",
    "from soupsavvy import ClassSelector, TypeSelector\n",
    "from soupsavvy.models import BaseModel, Suppress\n",
    "from soupsavvy.operations import Operation, Text\n",
    "\n",
    "\n",
    "class Book(BaseModel):\n",
    "\n",
    "    __scope__ = TypeSelector(\"div\") & ClassSelector(\"book\")\n",
    "\n",
    "    title = ClassSelector(\"title\") | Text()\n",
    "    price = ClassSelector(\"price\") | Text() | Suppress(Operation(int))\n",
    "\n",
    "\n",
    "text = \"\"\"\n",
    "    <div class=\"book\" href=\"www.book.com\">\n",
    "        <p class=\"title\">Animal Farm</p>\n",
    "        <p class=\"price\"></p>\n",
    "        <p>George Orwell</p>\n",
    "    </div>\n",
    "\"\"\"\n",
    "soup = BeautifulSoup(text, features=\"lxml\")\n",
    "Book.find(soup)"
   ]
  },
  {
   "cell_type": "markdown",
   "metadata": {},
   "source": [
    "Such case can be handled more specifically with `Default` field wrapper. When field selector returns `None`, default value is used instead. When we know, that `price` element with empty text means, that price is `0`, we can use `Default` operation to handle this case. All errors need to be explicitly handled, `Default` selector propagates any exception that occurs during extraction."
   ]
  },
  {
   "cell_type": "code",
   "execution_count": null,
   "metadata": {},
   "outputs": [],
   "source": [
    "from bs4 import BeautifulSoup\n",
    "\n",
    "from soupsavvy import ClassSelector, TypeSelector\n",
    "from soupsavvy.models import BaseModel, Default, Suppress\n",
    "from soupsavvy.operations import Operation, Text\n",
    "\n",
    "\n",
    "class Book(BaseModel):\n",
    "\n",
    "    __scope__ = TypeSelector(\"div\") & ClassSelector(\"book\")\n",
    "\n",
    "    title = ClassSelector(\"title\") | Text()\n",
    "    price = Default(ClassSelector(\"price\") | Text() | Suppress(Operation(int)), 0)\n",
    "\n",
    "\n",
    "text = \"\"\"\n",
    "    <div class=\"book\" href=\"www.book.com\">\n",
    "        <p class=\"title\">Animal Farm</p>\n",
    "        <p class=\"price\">hundred</p>\n",
    "        <p>George Orwell</p>\n",
    "    </div>\n",
    "\"\"\"\n",
    "soup = BeautifulSoup(text, features=\"lxml\")\n",
    "Book.find(soup)"
   ]
  },
  {
   "cell_type": "markdown",
   "metadata": {},
   "source": [
    "As mentioned before, by default, any field is nullable, so when field selector returns `None`, field of model instance is set to `None`. This can be changed by `Required` field wrapper, that raises `FieldExtractionException` when field selector returns `None`. It is used to ensure the presence of field in model instance. All errors need to be explicitly handled, `Required` selector propagates any exception that occurs during extraction."
   ]
  },
  {
   "cell_type": "code",
   "execution_count": null,
   "metadata": {},
   "outputs": [],
   "source": [
    "from bs4 import BeautifulSoup\n",
    "\n",
    "from soupsavvy import ClassSelector, TypeSelector\n",
    "from soupsavvy.exceptions import FieldExtractionException\n",
    "from soupsavvy.models import BaseModel, Required, SkipNone\n",
    "from soupsavvy.operations import Operation, Text\n",
    "\n",
    "\n",
    "class Book(BaseModel):\n",
    "\n",
    "    __scope__ = TypeSelector(\"div\") & ClassSelector(\"book\")\n",
    "\n",
    "    title = ClassSelector(\"title\") | Text()\n",
    "    price = Required(ClassSelector(\"price\") | SkipNone(Text() | Operation(int)))\n",
    "\n",
    "\n",
    "text = \"\"\"\n",
    "    <div class=\"book\" href=\"www.book.com\">\n",
    "        <p class=\"title\">Animal Farm</p>\n",
    "        <p>George Orwell</p>\n",
    "    </div>\n",
    "\"\"\"\n",
    "soup = BeautifulSoup(text, features=\"lxml\")\n",
    "\n",
    "try:\n",
    "    Book.find(soup)\n",
    "except FieldExtractionException as e:\n",
    "    print(e)"
   ]
  },
  {
   "cell_type": "markdown",
   "metadata": {},
   "source": [
    "By default, only first element matching field selector is used for field extraction. If different result is expected, it can be defined with proper selector. `soupsavvy.selectors.nth` selectors might be used to match nth element matching selector. In this case, `NthLastOfSelector` selector is used to match the last element with class `price` in scope element."
   ]
  },
  {
   "cell_type": "code",
   "execution_count": null,
   "metadata": {},
   "outputs": [],
   "source": [
    "from bs4 import BeautifulSoup\n",
    "\n",
    "from soupsavvy import ClassSelector, TypeSelector\n",
    "from soupsavvy.models import BaseModel\n",
    "from soupsavvy.operations import Operation, Text\n",
    "from soupsavvy.selectors.nth import NthLastOfSelector\n",
    "\n",
    "\n",
    "class Book(BaseModel):\n",
    "\n",
    "    __scope__ = TypeSelector(\"div\") & ClassSelector(\"book\")\n",
    "\n",
    "    title = ClassSelector(\"title\") | Text()\n",
    "    price = NthLastOfSelector(ClassSelector(\"price\"), nth=\"1\") | Text() | Operation(int)\n",
    "\n",
    "\n",
    "text = \"\"\"\n",
    "    <div class=\"book\" href=\"www.book.com\">\n",
    "        <p class=\"price\"><s>100</s></p>\n",
    "        <p class=\"price\"><s>80</s></p>\n",
    "        <p class=\"title\">Animal Farm</p>\n",
    "        <p class=\"price\">60</p>\n",
    "        <p>George Orwell</p>\n",
    "    </div>\n",
    "\"\"\"\n",
    "soup = BeautifulSoup(text, features=\"lxml\")\n",
    "Book.find(soup)"
   ]
  },
  {
   "cell_type": "markdown",
   "metadata": {},
   "source": [
    "If we expect list of elements to be found in scope, we can use `All` field wrapper. It always extracts all elements matching field selector and returns list of extracted values. In example below all prices available for given book are extracted."
   ]
  },
  {
   "cell_type": "code",
   "execution_count": null,
   "metadata": {},
   "outputs": [],
   "source": [
    "from bs4 import BeautifulSoup\n",
    "\n",
    "from soupsavvy import ClassSelector, TypeSelector\n",
    "from soupsavvy.models import All, BaseModel\n",
    "from soupsavvy.operations import Operation, Text\n",
    "\n",
    "\n",
    "class Book(BaseModel):\n",
    "\n",
    "    __scope__ = TypeSelector(\"div\") & ClassSelector(\"book\")\n",
    "\n",
    "    title = ClassSelector(\"title\") | Text()\n",
    "    price = All(ClassSelector(\"price\") | Text() | Operation(int))\n",
    "\n",
    "\n",
    "text = \"\"\"\n",
    "    <div class=\"book\" href=\"www.book.com\">\n",
    "        <p class=\"title\">Animal Farm</p>\n",
    "        <p class=\"price\"><s>100</s></p>\n",
    "        <p class=\"price\"><s>80</s></p>\n",
    "        <p class=\"price\">60</p>\n",
    "        <p>George Orwell</p>\n",
    "    </div>\n",
    "\"\"\"\n",
    "soup = BeautifulSoup(text, features=\"lxml\")\n",
    "Book.find(soup)"
   ]
  },
  {
   "cell_type": "markdown",
   "metadata": {},
   "source": [
    "When extracted field need to be further transformed, `__post_init__` can be defined in model class to handle such cases in post initialization step. It works similar way to python `dataclass`. In example below, `price` is set to min of all prices for given book."
   ]
  },
  {
   "cell_type": "code",
   "execution_count": null,
   "metadata": {},
   "outputs": [],
   "source": [
    "from bs4 import BeautifulSoup\n",
    "\n",
    "from soupsavvy import ClassSelector, TypeSelector\n",
    "from soupsavvy.models import All, BaseModel\n",
    "from soupsavvy.operations import Operation, Text\n",
    "\n",
    "\n",
    "class Book(BaseModel):\n",
    "\n",
    "    __scope__ = TypeSelector(\"div\") & ClassSelector(\"book\")\n",
    "\n",
    "    title = ClassSelector(\"title\") | Text()\n",
    "    price = All(ClassSelector(\"price\") | Text() | Operation(int))\n",
    "\n",
    "    def __post_init__(self) -> None:\n",
    "        self.price = min(self.price) # type: ignore\n",
    "\n",
    "text = \"\"\"\n",
    "    <div class=\"book\" href=\"www.book.com\">\n",
    "        <p class=\"title\">Animal Farm</p>\n",
    "        <p class=\"price\"><s>100</s></p>\n",
    "        <p class=\"price\"><s>80</s></p>\n",
    "        <p class=\"price\">60</p>\n",
    "        <p>George Orwell</p>\n",
    "    </div>\n",
    "\"\"\"\n",
    "soup = BeautifulSoup(text, features=\"lxml\")\n",
    "Book.find(soup)"
   ]
  },
  {
   "cell_type": "markdown",
   "metadata": {},
   "source": [
    "Custom `Operation` can be used for any transformation. In example below, `Operation` is used to remove currency symbol from price text before converting it to integer. "
   ]
  },
  {
   "cell_type": "code",
   "execution_count": null,
   "metadata": {},
   "outputs": [],
   "source": [
    "from bs4 import BeautifulSoup\n",
    "\n",
    "from soupsavvy import ClassSelector, TypeSelector\n",
    "from soupsavvy.models import BaseModel\n",
    "from soupsavvy.operations import Operation, Text\n",
    "\n",
    "\n",
    "class Book(BaseModel):\n",
    "\n",
    "    __scope__ = TypeSelector(\"div\") & ClassSelector(\"book\")\n",
    "\n",
    "    title = ClassSelector(\"title\") | Text()\n",
    "    price = (\n",
    "        ClassSelector(\"price\")\n",
    "        | Text()\n",
    "        | Operation(lambda x: x.strip(\"$\"))\n",
    "        | Operation(int)\n",
    "    )\n",
    "\n",
    "\n",
    "text = \"\"\"\n",
    "    <div class=\"book\" href=\"www.book.com\">\n",
    "        <p class=\"title\">Animal Farm</p>\n",
    "        <p class=\"price\">100$</p>\n",
    "        <p>George Orwell</p>\n",
    "    </div>\n",
    "\"\"\"\n",
    "soup = BeautifulSoup(text, features=\"lxml\")\n",
    "Book.find(soup)"
   ]
  },
  {
   "cell_type": "markdown",
   "metadata": {},
   "source": [
    "As mentioned previously, any Model class can be used as field selector. In example below, `Author` model is used to extract author information from `author` element in scope. Instance of `Author` is set as `Book` model attribute."
   ]
  },
  {
   "cell_type": "code",
   "execution_count": null,
   "metadata": {},
   "outputs": [],
   "source": [
    "import re\n",
    "from datetime import datetime\n",
    "\n",
    "from bs4 import BeautifulSoup\n",
    "\n",
    "from soupsavvy import ClassSelector, PatternSelector, TypeSelector\n",
    "from soupsavvy.models import BaseModel\n",
    "from soupsavvy.operations import Operation, Text\n",
    "from soupsavvy.selectors.css import FirstChild\n",
    "\n",
    "\n",
    "class Author(BaseModel):\n",
    "    __scope__ = ClassSelector(\"author\")\n",
    "\n",
    "    birth = (\n",
    "        PatternSelector(re.compile(r\"\\d{4}-\\d{2}-\\d{2}\"))\n",
    "        | Text()\n",
    "        | Operation(lambda x: datetime.strptime(x, \"%Y-%m-%d\"))\n",
    "    )\n",
    "    name = FirstChild() | Text()\n",
    "\n",
    "\n",
    "class Book(BaseModel):\n",
    "\n",
    "    __scope__ = TypeSelector(\"div\") & ClassSelector(\"book\")\n",
    "\n",
    "    author = Author\n",
    "    title = ClassSelector(\"title\") | Text()\n",
    "\n",
    "\n",
    "text = \"\"\"\n",
    "    <div class=\"book\" href=\"www.book.com\">\n",
    "        <p class=\"title\">Animal Farm</p>\n",
    "        <div class=\"author\">\n",
    "            <p>George Orwell</p>\n",
    "            <p>Great author</p>\n",
    "            <p>1903-06-25</p>\n",
    "        </div>\n",
    "    </div>\n",
    "\"\"\"\n",
    "soup = BeautifulSoup(text, features=\"lxml\")\n",
    "Book.find(soup)"
   ]
  },
  {
   "cell_type": "markdown",
   "metadata": {},
   "source": [
    "### Inheritance"
   ]
  },
  {
   "cell_type": "markdown",
   "metadata": {},
   "source": [
    "In case of inheritance, fields are inherited by default, as expected. New fields can be specified to extend parent model. In example below, `eBook` inherits from `Book` models and extends it with two extra fields: `link` and `duration`. It also overwrites `__scope__`, but this is not required as special fields are inherited from parent model. Note that `eBook` uses `Href` as field selector, which is selector-operation mixin mentioned previously. It extracts `href` attribute directly from scope element."
   ]
  },
  {
   "cell_type": "code",
   "execution_count": null,
   "metadata": {},
   "outputs": [],
   "source": [
    "import re\n",
    "\n",
    "from bs4 import BeautifulSoup\n",
    "\n",
    "from soupsavvy import ClassSelector, PatternSelector, TypeSelector\n",
    "from soupsavvy.models import BaseModel\n",
    "from soupsavvy.operations import Href, Operation, Text\n",
    "\n",
    "\n",
    "class Book(BaseModel):\n",
    "\n",
    "    __scope__ = TypeSelector(\"div\") & ClassSelector(\"book\")\n",
    "\n",
    "    title = ClassSelector(\"title\") | Text()\n",
    "    price = ClassSelector(\"price\") | Text() | Operation(int)\n",
    "\n",
    "\n",
    "class eBook(Book):\n",
    "    __scope__ = TypeSelector(\"div\") & ClassSelector(\"ebook\")\n",
    "\n",
    "    link = Href()\n",
    "    duration = PatternSelector(re.compile(r\"\\d{1,2}:\\d{2}\")) | Text()\n",
    "\n",
    "\n",
    "text = \"\"\"\n",
    "    <div class=\"ebook\" href=\"www.ebook.com\">\n",
    "        <p class=\"title\">Animal Farm</p>\n",
    "        <p class=\"price\">50</p>\n",
    "        <p>George Orwell</p>\n",
    "        <p>2:30</p>\n",
    "    </div>\n",
    "\"\"\"\n",
    "soup = BeautifulSoup(text, features=\"lxml\")\n",
    "eBook.find(soup)"
   ]
  },
  {
   "cell_type": "markdown",
   "metadata": {},
   "source": [
    "This behavior can be turned off by setting `inherit_fields` to `False` in model class. In such case, only fields defined in subclass are used for extraction. In example below, `eBook` model does not inherit fields from `Book` model, so only `link` and `duration` are extracted."
   ]
  },
  {
   "cell_type": "code",
   "execution_count": null,
   "metadata": {},
   "outputs": [],
   "source": [
    "import re\n",
    "\n",
    "from bs4 import BeautifulSoup\n",
    "\n",
    "from soupsavvy import ClassSelector, PatternSelector, TypeSelector\n",
    "from soupsavvy.models import BaseModel\n",
    "from soupsavvy.operations import Href, Operation, Text\n",
    "\n",
    "\n",
    "class Book(BaseModel):\n",
    "\n",
    "    __scope__ = TypeSelector(\"div\")\n",
    "\n",
    "    title = ClassSelector(\"title\") | Text()\n",
    "    price = ClassSelector(\"price\") | Text() | Operation(int)\n",
    "\n",
    "\n",
    "class eBook(Book):\n",
    "    __inherit_fields__ = False\n",
    "\n",
    "    link = Href()\n",
    "    duration = PatternSelector(re.compile(r\"\\d{1,2}:\\d{2}\")) | Text()\n",
    "\n",
    "\n",
    "text = \"\"\"\n",
    "    <div class=\"ebook\" href=\"www.ebook.com\">\n",
    "        <p class=\"title\">Animal Farm</p>\n",
    "        <p class=\"price\">50</p>\n",
    "        <p>George Orwell</p>\n",
    "        <p>2:30</p>\n",
    "    </div>\n",
    "\"\"\"\n",
    "soup = BeautifulSoup(text, features=\"lxml\")\n",
    "eBook.find(soup)"
   ]
  },
  {
   "cell_type": "markdown",
   "metadata": {},
   "source": [
    "In general, it is recommended to use as specific scope selector as possible, to avoid matching elements, that has nothing to do with the model. Ensure that scope selector matches only elements that are expected to contain model instance. You can use `HasSelector` to match elements that have tags used to extract fields."
   ]
  },
  {
   "cell_type": "code",
   "execution_count": null,
   "metadata": {},
   "outputs": [],
   "source": [
    "from bs4 import BeautifulSoup\n",
    "\n",
    "from soupsavvy import ClassSelector, HasSelector, TypeSelector\n",
    "from soupsavvy.models import BaseModel\n",
    "from soupsavvy.operations import Operation, Text\n",
    "\n",
    "PRICE_SELECTOR = ClassSelector(\"price\")\n",
    "TITLE_SELECTOR = ClassSelector(\"title\")\n",
    "\n",
    "\n",
    "class Book(BaseModel):\n",
    "\n",
    "    __scope__ = (\n",
    "        ClassSelector(\"book\") & HasSelector(PRICE_SELECTOR) & HasSelector(TITLE_SELECTOR)\n",
    "    )\n",
    "\n",
    "    title = TITLE_SELECTOR | Text()\n",
    "    price = PRICE_SELECTOR | Text() | Operation(int)\n",
    "\n",
    "\n",
    "text = \"\"\"\n",
    "    <div class=\"book\">Unavailable</div>\n",
    "    <div class=\"book\">\n",
    "        <p class=\"title\">Animal Farm</p>\n",
    "        <p>George Orwell</p>\n",
    "        <p>4:30</p>\n",
    "    </div>\n",
    "    <div class=\"book\">\n",
    "        <p class=\"price\">50</p>\n",
    "        <p>Lois Lowry</p>\n",
    "        <p>3:30</p>\n",
    "    </div>\n",
    "    <div class=\"book\">\n",
    "        <p class=\"title\">Brave New World</p>\n",
    "        <p class=\"price\">50</p>\n",
    "        <p>Aldous Huxley</p>\n",
    "        <p>2:30</p>\n",
    "    </div>\n",
    "\"\"\"\n",
    "soup = BeautifulSoup(text, features=\"lxml\")\n",
    "Book.find(soup)"
   ]
  },
  {
   "cell_type": "markdown",
   "metadata": {},
   "source": [
    "`find_all` method uses the same logic as `find`, it first matches that scope element and then extracts all fields from it. It returns list of model instances from all elements matching scope selector."
   ]
  },
  {
   "cell_type": "code",
   "execution_count": null,
   "metadata": {},
   "outputs": [],
   "source": [
    "from bs4 import BeautifulSoup\n",
    "\n",
    "from soupsavvy import ClassSelector, TypeSelector\n",
    "from soupsavvy.models import BaseModel\n",
    "from soupsavvy.operations import Operation, Text\n",
    "from soupsavvy.selectors.css import LastOfType\n",
    "\n",
    "\n",
    "class Book(BaseModel):\n",
    "\n",
    "    __scope__ = TypeSelector(\"div\") & ClassSelector(\"book\")\n",
    "\n",
    "    title = ClassSelector(\"title\") | Text()\n",
    "    price = ClassSelector(\"price\") | Text() | Operation(int)\n",
    "    author = (LastOfType() & TypeSelector(\"p\")) | Text()\n",
    "\n",
    "\n",
    "text = \"\"\"\n",
    "    <div class=\"ebook\" href=\"www.book.com\">\n",
    "        <p class=\"title\">Animal Farm</p>\n",
    "        <p class=\"price\">100</p>\n",
    "        <p>George Orwell</p>\n",
    "    </div>\n",
    "    <div class=\"book\">\n",
    "        <p class=\"title\">Brave New World</p>\n",
    "        <p class=\"price\">100</p>\n",
    "        <p>Aldous Huxley</p>\n",
    "    </div>\n",
    "    <div class=\"book\">\n",
    "        <p class=\"title\">The Giver</p>\n",
    "        <p class=\"price\">80</p>\n",
    "        <p>Lois Lowry</p>\n",
    "    </div>\n",
    "\"\"\"\n",
    "soup = BeautifulSoup(text, features=\"lxml\")\n",
    "Book.find_all(soup)"
   ]
  },
  {
   "cell_type": "markdown",
   "metadata": {},
   "source": [
    "`find_all` method propagates any errors, if extraction of any model without found scope elements failed, `find_all` method fails, raising `FieldExtractionException`."
   ]
  },
  {
   "cell_type": "code",
   "execution_count": null,
   "metadata": {},
   "outputs": [],
   "source": [
    "from bs4 import BeautifulSoup\n",
    "\n",
    "from soupsavvy import ClassSelector, TypeSelector\n",
    "from soupsavvy.models import BaseModel\n",
    "from soupsavvy.operations import Operation, Text\n",
    "from soupsavvy.selectors.css import LastOfType\n",
    "from soupsavvy.exceptions import FieldExtractionException\n",
    "\n",
    "\n",
    "class Book(BaseModel):\n",
    "\n",
    "    __scope__ = TypeSelector(\"div\") & ClassSelector(\"book\")\n",
    "\n",
    "    title = ClassSelector(\"title\") | Text()\n",
    "    price = ClassSelector(\"price\") | Text() | Operation(int)\n",
    "    author = (LastOfType() & TypeSelector(\"p\")) | Text()\n",
    "\n",
    "\n",
    "text = \"\"\"\n",
    "    <div class=\"book\">\n",
    "        <p class=\"title\">Brave New World</p>\n",
    "        <p class=\"price\">100</p>\n",
    "        <p>Al\n",
    "    </div>\n",
    "    <div class=\"book\">\n",
    "        <p class=\"title\">The Giver</p>\n",
    "        <p>Lois Lowry</p>\n",
    "    </div>\n",
    "\"\"\"\n",
    "soup = BeautifulSoup(text, features=\"lxml\")\n",
    "\n",
    "try:\n",
    "    Book.find_all(soup)\n",
    "except FieldExtractionException as e:\n",
    "    print(e)"
   ]
  },
  {
   "cell_type": "markdown",
   "metadata": {},
   "source": [
    "If no scope elements are matched, `find_all` method returns empty list."
   ]
  },
  {
   "cell_type": "code",
   "execution_count": null,
   "metadata": {},
   "outputs": [],
   "source": [
    "from bs4 import BeautifulSoup\n",
    "\n",
    "from soupsavvy import ClassSelector, TypeSelector\n",
    "from soupsavvy.models import BaseModel\n",
    "from soupsavvy.operations import Operation, Text\n",
    "from soupsavvy.selectors.css import LastOfType\n",
    "\n",
    "\n",
    "class Book(BaseModel):\n",
    "\n",
    "    __scope__ = TypeSelector(\"div\") & ClassSelector(\"book\")\n",
    "\n",
    "    title = ClassSelector(\"title\") | Text()\n",
    "    price = ClassSelector(\"price\") | Text() | Operation(int)\n",
    "    author = (LastOfType() & TypeSelector(\"p\")) | Text()\n",
    "\n",
    "\n",
    "text = \"\"\"\n",
    "    <div class=\"ebook\" href=\"www.book.com\">\n",
    "        <p class=\"title\">Animal Farm</p>\n",
    "        <p class=\"price\">100</p>\n",
    "        <p>George Orwell</p>\n",
    "    </div>\n",
    "    <p class=\"title\">Animal Farm</p>\n",
    "    <p class=\"price\">100</p>\n",
    "    <p>George Orwell</p>\n",
    "\"\"\"\n",
    "soup = BeautifulSoup(text, features=\"lxml\")\n",
    "Book.find_all(soup)"
   ]
  },
  {
   "cell_type": "markdown",
   "metadata": {},
   "source": [
    "### Recursive option"
   ]
  },
  {
   "cell_type": "markdown",
   "metadata": {},
   "source": [
    "Recursive option applies only to scope search. When set to `True`, model scope is searched in all descendants of provided tag, if `False` only in direct children. When scope is found, field selectors search for elements always in recursive mode irrespective of `recursive` parameter."
   ]
  },
  {
   "cell_type": "code",
   "execution_count": null,
   "metadata": {},
   "outputs": [],
   "source": [
    "from bs4 import BeautifulSoup\n",
    "\n",
    "from soupsavvy import ClassSelector, TypeSelector\n",
    "from soupsavvy.models import BaseModel\n",
    "from soupsavvy.operations import Operation, Text\n",
    "from soupsavvy.selectors.css import LastOfType\n",
    "\n",
    "\n",
    "class Book(BaseModel):\n",
    "\n",
    "    __scope__ = TypeSelector(\"div\") & ClassSelector(\"book\")\n",
    "\n",
    "    title = ClassSelector(\"title\") | Text()\n",
    "    price = ClassSelector(\"price\") | Text() | Operation(int)\n",
    "    author = (LastOfType() & TypeSelector(\"p\")) | Text()\n",
    "\n",
    "\n",
    "text = \"\"\"\n",
    "    <div class=\"book\" href=\"www.book.com\">\n",
    "        <span>\n",
    "            <p class=\"title\">Animal Farm</p>\n",
    "            <p class=\"price\">100</p>\n",
    "            <span class=\"author\">\n",
    "                <p>George Orwell</p>\n",
    "            </span>\n",
    "        </span>\n",
    "    </div>\n",
    "\"\"\"\n",
    "soup = BeautifulSoup(text, features=\"html.parser\")\n",
    "Book.find(soup, recursive=False)"
   ]
  },
  {
   "cell_type": "markdown",
   "metadata": {},
   "source": [
    "In order to change this behavior and find field elements only within scope element children, relative selector can be used. It's best to create it with `Anchor`.\n",
    "`Anchor > selector` narrows down the search to only child elements. In example below, only `price` elements that are direct children of `book` element are matched."
   ]
  },
  {
   "cell_type": "code",
   "execution_count": null,
   "metadata": {},
   "outputs": [],
   "source": [
    "from bs4 import BeautifulSoup\n",
    "\n",
    "from soupsavvy import Anchor, ClassSelector, TypeSelector\n",
    "from soupsavvy.models import All, BaseModel\n",
    "from soupsavvy.operations import Operation, Text\n",
    "\n",
    "\n",
    "class Book(BaseModel):\n",
    "\n",
    "    __scope__ = TypeSelector(\"div\") & ClassSelector(\"book\")\n",
    "\n",
    "    title = ClassSelector(\"title\") | Text()\n",
    "    price = All((Anchor > ClassSelector(\"price\")) | Text() | Operation(int))\n",
    "\n",
    "\n",
    "text = \"\"\"\n",
    "    <div class=\"book\" href=\"www.book.com\">\n",
    "        <span>\n",
    "            <p class=\"title\">Animal Farm</p>\n",
    "            <p class=\"price\">100</p>\n",
    "            <p class=\"price\">50</p>\n",
    "            <span class=\"author\">\n",
    "                <p>George Orwell</p>\n",
    "            </span>\n",
    "        </span>\n",
    "        <p class=\"price\">200</p>\n",
    "    </div>\n",
    "\"\"\"\n",
    "soup = BeautifulSoup(text, features=\"html.parser\")\n",
    "Book.find(soup)"
   ]
  },
  {
   "cell_type": "markdown",
   "metadata": {},
   "source": [
    "With non-recursive option, scope is search only within children of element passed to `find` methods. In example below, scope element is found only if this element is `span`. When `body` is passed, it does not have any children, that would have type `div` and class `book`, thus scope is not found and returned model is `None`."
   ]
  },
  {
   "cell_type": "code",
   "execution_count": null,
   "metadata": {},
   "outputs": [],
   "source": [
    "from bs4 import BeautifulSoup\n",
    "\n",
    "from soupsavvy import ClassSelector, TypeSelector\n",
    "from soupsavvy.models import BaseModel\n",
    "from soupsavvy.operations import Operation, Text\n",
    "from soupsavvy.selectors.css import LastOfType\n",
    "\n",
    "\n",
    "class Book(BaseModel):\n",
    "\n",
    "    __scope__ = TypeSelector(\"div\") & ClassSelector(\"book\")\n",
    "\n",
    "    title = ClassSelector(\"title\") | Text()\n",
    "    price = ClassSelector(\"price\") | Text() | Operation(int)\n",
    "    author = (LastOfType() & TypeSelector(\"p\")) | Text()\n",
    "\n",
    "\n",
    "text = \"\"\"\n",
    "    <span>\n",
    "        <div class=\"book\" href=\"www.book.com\">\n",
    "            <p class=\"title\">Animal Farm</p>\n",
    "            <p class=\"price\">100</p>\n",
    "            <p>George Orwell</p>\n",
    "        </div>\n",
    "    </span>\n",
    "\"\"\"\n",
    "soup = BeautifulSoup(text, features=\"lxml\")\n",
    "result = Book.find(soup.body, recursive=False)  # type: ignore\n",
    "assert result is None\n",
    "\n",
    "Book.find(soup.span, recursive=False)  # type: ignore"
   ]
  },
  {
   "cell_type": "markdown",
   "metadata": {},
   "source": [
    "`__post_init__` can be used to replace some operations or perform more complex one, that depend on other extracted fields. New attributes can be set in this method as well."
   ]
  },
  {
   "cell_type": "code",
   "execution_count": null,
   "metadata": {},
   "outputs": [],
   "source": [
    "from bs4 import BeautifulSoup\n",
    "\n",
    "from soupsavvy import ClassSelector, TypeSelector\n",
    "from soupsavvy.models import BaseModel\n",
    "from soupsavvy.operations import Operation, Text\n",
    "from soupsavvy.selectors.css import LastOfType\n",
    "\n",
    "\n",
    "class Book(BaseModel):\n",
    "\n",
    "    __scope__ = TypeSelector(\"div\") & ClassSelector(\"book\")\n",
    "\n",
    "    title = ClassSelector(\"title\") | Text()\n",
    "    price = ClassSelector(\"price\") | Text()\n",
    "    author = (LastOfType() & TypeSelector(\"p\")) | Text()\n",
    "\n",
    "    def __post_init__(self) -> None:\n",
    "        self.price = int(str(self.price).strip(\"$\"))\n",
    "        self.title = str(self.title).upper()\n",
    "        self.affordable = (self.price < 100) or (self.author == \"George Orwell\")\n",
    "\n",
    "\n",
    "text = \"\"\"\n",
    "    <div class=\"book\" href=\"www.book.com\">\n",
    "        <p class=\"title\">Animal Farm</p>\n",
    "        <p class=\"price\">100$</p>\n",
    "        <p>George Orwell</p>\n",
    "    </div>\n",
    "\"\"\"\n",
    "soup = BeautifulSoup(text, features=\"lxml\")\n",
    "result = Book.find(soup)\n",
    "print(result)\n",
    "print(f\"Is affordable: {result.affordable}\")"
   ]
  },
  {
   "cell_type": "markdown",
   "metadata": {},
   "source": [
    "For fans of clean and consistent typing, `typing.cast` can be used to hint type checkers on type of instance field. By default, it expects the same type as field selector type. In example below, `typing.cast` is used to hint type checker, that attribute `title` is of type `str` and `price` is of type `int` or is `None`."
   ]
  },
  {
   "cell_type": "code",
   "execution_count": null,
   "metadata": {},
   "outputs": [],
   "source": [
    "from typing import cast, Optional\n",
    "\n",
    "from bs4 import BeautifulSoup\n",
    "\n",
    "from soupsavvy import ClassSelector, TypeSelector\n",
    "from soupsavvy.models import BaseModel, SkipNone\n",
    "from soupsavvy.operations import Operation, Text\n",
    "\n",
    "\n",
    "class Book(BaseModel):\n",
    "\n",
    "    __scope__ = TypeSelector(\"div\") & ClassSelector(\"book\")\n",
    "\n",
    "    title = cast(str, ClassSelector(\"title\") | Text())\n",
    "    price = cast(Optional[int], ClassSelector(\"price\") | SkipNone(Text() | Operation(int)))\n",
    "\n",
    "\n",
    "text = \"\"\"\n",
    "    <div class=\"book\" href=\"www.book.com\">\n",
    "        <p class=\"title\">Animal Farm</p>\n",
    "        <p class=\"price\">100</p>\n",
    "        <p>George Orwell</p>\n",
    "    </div>\n",
    "\"\"\"\n",
    "soup = BeautifulSoup(text, features=\"lxml\")\n",
    "Book.find(soup)"
   ]
  }
 ],
 "metadata": {
  "kernelspec": {
   "display_name": "soupsavvy",
   "language": "python",
   "name": "python3"
  },
  "language_info": {
   "codemirror_mode": {
    "name": "ipython",
    "version": 3
   },
   "file_extension": ".py",
   "mimetype": "text/x-python",
   "name": "python",
   "nbconvert_exporter": "python",
   "pygments_lexer": "ipython3",
   "version": "3.11.9"
  }
 },
 "nbformat": 4,
 "nbformat_minor": 2
}
