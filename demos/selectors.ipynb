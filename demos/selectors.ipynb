{
 "cells": [
  {
   "cell_type": "markdown",
   "metadata": {},
   "source": [
    "# Selectors"
   ]
  },
  {
   "cell_type": "markdown",
   "metadata": {},
   "source": [
    "In this tutorial, we'll explore the functionality of various simple `soupsavvy` selectors, showcasing how they can be used to perform searches in `BeautifulSoup` objects."
   ]
  },
  {
   "cell_type": "markdown",
   "metadata": {},
   "source": [
    "## AttributeSelector"
   ]
  },
  {
   "cell_type": "markdown",
   "metadata": {},
   "source": [
    "Attribute selectors allow you to select elements based on element attribute values."
   ]
  },
  {
   "cell_type": "markdown",
   "metadata": {},
   "source": [
    "### Finding by attribute name"
   ]
  },
  {
   "cell_type": "markdown",
   "metadata": {},
   "source": [
    "`AttributeSelector` can be used to find HTML elements with a specific attribute name. If an element contains the given attribute, it matches the selector, regardless of the attribute's value."
   ]
  },
  {
   "cell_type": "code",
   "execution_count": null,
   "metadata": {},
   "outputs": [],
   "source": [
    "from bs4 import BeautifulSoup\n",
    "\n",
    "from soupsavvy import AttributeSelector\n",
    "\n",
    "soup = BeautifulSoup(\n",
    "    \"\"\"<p id=\"12ghj8\">Book</p><p class=\"price\">Price: $20</p>\"\"\", features=\"lxml\"\n",
    ")\n",
    "price_selector = AttributeSelector(\"class\")\n",
    "price_selector.find(soup)"
   ]
  },
  {
   "cell_type": "markdown",
   "metadata": {},
   "source": [
    "### Finding by exact value"
   ]
  },
  {
   "cell_type": "markdown",
   "metadata": {},
   "source": [
    "`AttributeSelector` can be used to match the exact value of a given attribute. By passing a `string` as the `value` parameter, the selector will only match elements whose attribute matches this exact value."
   ]
  },
  {
   "cell_type": "code",
   "execution_count": null,
   "metadata": {},
   "outputs": [],
   "source": [
    "from bs4 import BeautifulSoup\n",
    "\n",
    "from soupsavvy import AttributeSelector\n",
    "\n",
    "soup = BeautifulSoup(\n",
    "    \"\"\"<span class=\"title\">Animal Farm</span><p class=\"price\">Price: $20</p>\"\"\",\n",
    "    features=\"lxml\",\n",
    ")\n",
    "price_selector = AttributeSelector(\"class\", value=\"price\")\n",
    "price_selector.find(soup)"
   ]
  },
  {
   "cell_type": "markdown",
   "metadata": {},
   "source": [
    "### Finding by regex"
   ]
  },
  {
   "cell_type": "markdown",
   "metadata": {},
   "source": [
    "For more flexible searches, `AttributeSelector` can also match elements based on a regular expression pattern. By passing a compiled regex pattern, you can perform partial matches, complex text patterns, or other advanced text queries on attribute value."
   ]
  },
  {
   "cell_type": "code",
   "execution_count": null,
   "metadata": {},
   "outputs": [],
   "source": [
    "import re\n",
    "\n",
    "from bs4 import BeautifulSoup\n",
    "\n",
    "from soupsavvy import AttributeSelector\n",
    "\n",
    "soup = BeautifulSoup(\n",
    "    \"\"\"\n",
    "        <a href=\"https://www.fictiondb.com/title/animal-farm~george-orwell~161188.htm\">fictiondb</a>\n",
    "        <a href=\"https://search.worldcat.org/title/1056176764\">worldcat</a>\n",
    "    \"\"\",\n",
    "    features=\"lxml\",\n",
    ")\n",
    "price_selector = AttributeSelector(\"href\", value=re.compile(r\"worldcat\\.org/.*/\\d{10}\"))\n",
    "price_selector.find(soup)"
   ]
  },
  {
   "cell_type": "markdown",
   "metadata": {},
   "source": [
    "### Other functionalities"
   ]
  },
  {
   "cell_type": "markdown",
   "metadata": {},
   "source": [
    "Let's explore some common functionalities available with the `AttributeSelector` and other selectors in `soupsavvy`. These functionalities behave consistently across all selector types, so the following examples apply universally."
   ]
  },
  {
   "cell_type": "markdown",
   "metadata": {},
   "source": [
    "#### Using `strict` mode"
   ]
  },
  {
   "cell_type": "markdown",
   "metadata": {},
   "source": [
    "When no match is found, the behavior of the `AttributeSelector.find` method depends on the `strict` parameter. If `strict` is set to `True`, it raises a `TagNotFoundException`. If `strict` is set to `False` (the default), it returns `None`."
   ]
  },
  {
   "cell_type": "code",
   "execution_count": null,
   "metadata": {},
   "outputs": [],
   "source": [
    "from bs4 import BeautifulSoup\n",
    "\n",
    "from soupsavvy import AttributeSelector\n",
    "from soupsavvy.exceptions import TagNotFoundException\n",
    "\n",
    "soup = BeautifulSoup(\n",
    "    \"\"\"<span class=\"title\">Animal Farm</span><p class=\"how_much\">Price: $20</p>\"\"\",\n",
    "    features=\"lxml\",\n",
    ")\n",
    "price_selector = AttributeSelector(\"class\", value=\"price\")\n",
    "\n",
    "print(f\"NOT STRICT: {price_selector.find(soup)}\")\n",
    "\n",
    "try:\n",
    "    price_selector.find(soup, strict=True)\n",
    "except TagNotFoundException as e:\n",
    "    print(f\"STRICT: {e}\")"
   ]
  },
  {
   "cell_type": "markdown",
   "metadata": {},
   "source": [
    "#### Finding all elements"
   ]
  },
  {
   "cell_type": "markdown",
   "metadata": {},
   "source": [
    "The `find_all` method can be used to return all matching elements, similar to the `BeautifulSoup` `Tag.find_all` method. The elements in the result list are always unique and maintain the same order as they appear in the document."
   ]
  },
  {
   "cell_type": "code",
   "execution_count": null,
   "metadata": {},
   "outputs": [],
   "source": [
    "from bs4 import BeautifulSoup\n",
    "\n",
    "from soupsavvy import AttributeSelector\n",
    "\n",
    "soup = BeautifulSoup(\n",
    "    \"\"\"\n",
    "        <span class=\"title\">Animal Farm</span>\n",
    "        <p class=\"price\">Price: $10</p>\n",
    "        <p class=\"price\">Price: $20</p>\n",
    "        <p class=\"price\">Price: $30</p>\n",
    "    \"\"\",\n",
    "    features=\"lxml\",\n",
    ")\n",
    "price_selector = AttributeSelector(\"class\", value=\"price\")\n",
    "price_selector.find_all(soup)"
   ]
  },
  {
   "cell_type": "markdown",
   "metadata": {},
   "source": [
    "#### Using `limit` option"
   ]
  },
  {
   "cell_type": "markdown",
   "metadata": {},
   "source": [
    "When using the `find_all` method, the `limit` parameter can be used to restrict the number of elements returned. If `limit` is set to `None` (the default), all matching elements are returned. This functionality is derived from the `BeautifulSoup` `Tag.find_all` method."
   ]
  },
  {
   "cell_type": "code",
   "execution_count": null,
   "metadata": {},
   "outputs": [],
   "source": [
    "from bs4 import BeautifulSoup\n",
    "\n",
    "from soupsavvy import AttributeSelector\n",
    "\n",
    "soup = BeautifulSoup(\n",
    "    \"\"\"\n",
    "        <span class=\"title\">Animal Farm</span>\n",
    "        <p class=\"price\">Price: $10</p>\n",
    "        <p class=\"price\">Price: $20</p>\n",
    "        <p class=\"price\">Price: $30</p>\n",
    "    \"\"\",\n",
    "    features=\"lxml\",\n",
    ")\n",
    "price_selector = AttributeSelector(\"class\", value=\"price\")\n",
    "price_selector.find_all(soup, limit=2)"
   ]
  },
  {
   "cell_type": "markdown",
   "metadata": {},
   "source": [
    "#### Using `recursive` option"
   ]
  },
  {
   "cell_type": "markdown",
   "metadata": {},
   "source": [
    "Both `find` and `find_all` methods have a `recursive` parameter. If `recursive` is set to `True` (the default), the search includes the entire document. If `recursive` is set to `False`, the search is limited to the direct children of the element. This behavior is consistent with how the `recursive` parameter works in `BeautifulSoup`."
   ]
  },
  {
   "cell_type": "code",
   "execution_count": null,
   "metadata": {},
   "outputs": [],
   "source": [
    "from bs4 import BeautifulSoup\n",
    "\n",
    "from soupsavvy import AttributeSelector\n",
    "\n",
    "soup = BeautifulSoup(\n",
    "    \"\"\"\n",
    "        <span class=\"title\">Animal Farm</span>\n",
    "        <div>\n",
    "            <p class=\"price\">Price: $10</p>\n",
    "            <p class=\"price\">Price: $20</p>\n",
    "        </div>\n",
    "        <p class=\"price\">Price: $30</p>\n",
    "    \"\"\",\n",
    "    features=\"html.parser\",\n",
    ")\n",
    "price_selector = AttributeSelector(\"class\", value=\"price\")\n",
    "price_selector.find(soup, recursive=False)"
   ]
  },
  {
   "cell_type": "markdown",
   "metadata": {},
   "source": [
    "### Specific attribute selectors"
   ]
  },
  {
   "cell_type": "markdown",
   "metadata": {},
   "source": [
    "`soupsavvy` offers convenience classes for selecting elements based on specific attributes, such as `id` and `class`. These classes, simplify the selection process by pre-defining commonly used attribute names. \n",
    "\n",
    "**Convenience Selectors:**\n",
    "\n",
    "- **`IdSelector`**: Selector for matching elements by their `id` attribute.\n",
    "\n",
    "- **`ClassSelector`**: Selector for matching elements by their `class` attribute.\n",
    "\n",
    "Both are subclasses of `AttributeSelector`. By pre-assigning attribute names, they offer a more intuitive interface and reduce the amount of boilerplate code needed for common attribute-based searches."
   ]
  },
  {
   "cell_type": "code",
   "execution_count": null,
   "metadata": {},
   "outputs": [],
   "source": [
    "from bs4 import BeautifulSoup\n",
    "\n",
    "from soupsavvy import ClassSelector\n",
    "\n",
    "soup = BeautifulSoup(\n",
    "    \"\"\"<span class=\"title\">Animal Farm</span><p class=\"price\">Price: $20</p>\"\"\",\n",
    "    features=\"lxml\",\n",
    ")\n",
    "price_selector = ClassSelector(\"price\")\n",
    "price_selector.find(soup)"
   ]
  },
  {
   "cell_type": "code",
   "execution_count": null,
   "metadata": {},
   "outputs": [],
   "source": [
    "import re\n",
    "\n",
    "from bs4 import BeautifulSoup\n",
    "\n",
    "from soupsavvy import IdSelector\n",
    "\n",
    "soup = BeautifulSoup(\n",
    "    \"\"\"<p id=\"12ghj8\">Book</p><p id=\"13cji0\" class=\"price\">Price: $20</p>\"\"\",\n",
    "    features=\"lxml\",\n",
    ")\n",
    "price_selector = IdSelector(re.compile(r\"^13.*0$\"))\n",
    "price_selector.find(soup)"
   ]
  },
  {
   "cell_type": "markdown",
   "metadata": {},
   "source": [
    "These are subclasses of `AttributeSelector` and provide a more user-friendly interface, as they skip `name` parameter which is pre-assigned to the component specific value."
   ]
  },
  {
   "cell_type": "markdown",
   "metadata": {},
   "source": [
    "## TagSelector"
   ]
  },
  {
   "cell_type": "markdown",
   "metadata": {},
   "source": [
    "`TagSelector` is used to select elements based on their tag name and attributes."
   ]
  },
  {
   "cell_type": "markdown",
   "metadata": {},
   "source": [
    "### Finding by tag name"
   ]
  },
  {
   "cell_type": "markdown",
   "metadata": {},
   "source": [
    "The `TagSelector` can be used to find elements based solely on their tag name. For example, selecting all `<p>` elements in a document. This basic usage allows you to target elements without specifying any additional attributes."
   ]
  },
  {
   "cell_type": "code",
   "execution_count": null,
   "metadata": {},
   "outputs": [],
   "source": [
    "from bs4 import BeautifulSoup\n",
    "\n",
    "from soupsavvy import TagSelector\n",
    "\n",
    "soup = BeautifulSoup(\n",
    "    \"\"\"<p class=\"price\">Price: $10</p><p class=\"price\">Price: $20</p>\"\"\",\n",
    "    features=\"lxml\",\n",
    ")\n",
    "price_selector = TagSelector(\"p\")\n",
    "price_selector.find(soup)"
   ]
  },
  {
   "cell_type": "markdown",
   "metadata": {},
   "source": [
    "### Finding by tag name and single attribute"
   ]
  },
  {
   "cell_type": "markdown",
   "metadata": {},
   "source": [
    "In addition to the tag name, the `TagSelector` can be configured to match elements with a specific attribute. For example, you can find all `<p>` elements with `class` attribute set to `price`."
   ]
  },
  {
   "cell_type": "code",
   "execution_count": null,
   "metadata": {},
   "outputs": [],
   "source": [
    "from bs4 import BeautifulSoup\n",
    "\n",
    "from soupsavvy import TagSelector, AttributeSelector\n",
    "\n",
    "soup = BeautifulSoup(\n",
    "    \"\"\"<p class=\"title\">Animal Farm</p><p class=\"price\">Price: $10</p>\"\"\",\n",
    "    features=\"lxml\",\n",
    ")\n",
    "price_selector = TagSelector(\"p\", attributes=[AttributeSelector(\"class\", \"price\")])\n",
    "price_selector.find(soup)"
   ]
  },
  {
   "cell_type": "markdown",
   "metadata": {},
   "source": [
    "### Finding by multiple class attributes"
   ]
  },
  {
   "cell_type": "markdown",
   "metadata": {},
   "source": [
    "When you need to select elements with a specific combination of class attributes, `TagSelector` can match those elements accordingly. For instance, you can select all elements that have both `price` and `discount` attributes. CSS `class` attribute is specific in this context, as it can have a list of values separated by spaces."
   ]
  },
  {
   "cell_type": "code",
   "execution_count": null,
   "metadata": {},
   "outputs": [],
   "source": [
    "from bs4 import BeautifulSoup\n",
    "\n",
    "from soupsavvy import AttributeSelector, TagSelector\n",
    "\n",
    "soup = BeautifulSoup(\n",
    "    \"\"\"\n",
    "        <p class=\"title\">Animal Farm</p>\n",
    "        <p class=\"price\"><s>Price: $20</s></p>\n",
    "        <p class=\"price discount\">Price: $10</p>\n",
    "    \"\"\",\n",
    "    features=\"lxml\",\n",
    ")\n",
    "price_selector = TagSelector(\n",
    "    attributes=[\n",
    "        AttributeSelector(\"class\", \"price\"),\n",
    "        AttributeSelector(\"class\", \"discount\"),\n",
    "    ],\n",
    ")\n",
    "price_selector.find(soup)"
   ]
  },
  {
   "cell_type": "markdown",
   "metadata": {},
   "source": [
    "### Finding by tag name and multiple attributes"
   ]
  },
  {
   "cell_type": "markdown",
   "metadata": {},
   "source": [
    "`TagSelector` can also match elements based on multiple distinct attributes. For example, selecting all `<p>` tags that have both `class` equal to `title` and `lang` equal to `en` attributes. You can specify as many attributes as needed to match the desired elements."
   ]
  },
  {
   "cell_type": "code",
   "execution_count": null,
   "metadata": {},
   "outputs": [],
   "source": [
    "from bs4 import BeautifulSoup\n",
    "\n",
    "from soupsavvy import AttributeSelector, TagSelector\n",
    "\n",
    "soup = BeautifulSoup(\n",
    "    \"\"\"\n",
    "        <p class=\"title\" lang=\"es\">Rebelión en la granja</p>\n",
    "        <p class=\"description\" lang=\"en\">Some animals are more equal than others</p>\n",
    "        <p class=\"title\" lang=\"en\">Animal Farm</p>\n",
    "    \"\"\",\n",
    "    features=\"lxml\",\n",
    ")\n",
    "title_selector = TagSelector(\n",
    "    \"p\",\n",
    "    attributes=[\n",
    "        AttributeSelector(\"class\", \"title\"),\n",
    "        AttributeSelector(\"lang\", \"en\"),\n",
    "    ],\n",
    ")\n",
    "title_selector.find(soup)"
   ]
  },
  {
   "cell_type": "markdown",
   "metadata": {},
   "source": [
    "### Finding only by attributes "
   ]
  },
  {
   "cell_type": "markdown",
   "metadata": {},
   "source": [
    "Tag name is not required to define. `TagSelector` can also find elements based only on their attributes. For example, selecting elements with `class` equal to `title` and `lang` equal to `en` attributes, without specifying a tag name."
   ]
  },
  {
   "cell_type": "code",
   "execution_count": null,
   "metadata": {},
   "outputs": [],
   "source": [
    "from bs4 import BeautifulSoup\n",
    "\n",
    "from soupsavvy import AttributeSelector, TagSelector\n",
    "\n",
    "soup = BeautifulSoup(\n",
    "    \"\"\"\n",
    "        <p class=\"title\" lang=\"es\">Rebelión en la granja</p>\n",
    "        <p class=\"description\" lang=\"en\">Some animals are more equal than others</p>\n",
    "        <span class=\"title\" lang=\"en\">Animal Farm</span>\n",
    "    \"\"\",\n",
    "    features=\"lxml\",\n",
    ")\n",
    "title_selector = TagSelector(\n",
    "    attributes=[\n",
    "        AttributeSelector(\"class\", \"title\"),\n",
    "        AttributeSelector(\"lang\", \"en\"),\n",
    "    ],\n",
    ")\n",
    "title_selector.find(soup)"
   ]
  },
  {
   "cell_type": "markdown",
   "metadata": {},
   "source": [
    "### Finding any element with empty selector"
   ]
  },
  {
   "cell_type": "markdown",
   "metadata": {},
   "source": [
    "When initializing `TagSelector` without any parameters, it matches any element in the document. This behavior is similar to using a wildcard selector in CSS. Using `find` in this context it an equivalent of getting the first element of the soup."
   ]
  },
  {
   "cell_type": "code",
   "execution_count": null,
   "metadata": {},
   "outputs": [],
   "source": [
    "from bs4 import BeautifulSoup\n",
    "\n",
    "from soupsavvy import TagSelector\n",
    "\n",
    "soup = BeautifulSoup(\n",
    "    \"\"\"\n",
    "        <p class=\"title\" lang=\"es\">Rebelión en la granja</p>\n",
    "        <p class=\"description\" lang=\"en\">Some animals are more equal than others</p>\n",
    "        <span class=\"title\" lang=\"en\">Animal Farm</span>\n",
    "    \"\"\",\n",
    "    features=\"html.parser\",\n",
    ")\n",
    "title_selector = TagSelector()\n",
    "title_selector.find(soup)"
   ]
  },
  {
   "cell_type": "markdown",
   "metadata": {},
   "source": [
    "## AnyTagSelector"
   ]
  },
  {
   "cell_type": "markdown",
   "metadata": {},
   "source": [
    "This selector is a wildcard selector that matches any tag. It can be used to select any element in the document. It is equivalent to using `*` in CSS selectors and `TagSelector()` defined without any parameters."
   ]
  },
  {
   "cell_type": "code",
   "execution_count": null,
   "metadata": {},
   "outputs": [],
   "source": [
    "from bs4 import BeautifulSoup\n",
    "\n",
    "from soupsavvy import AnyTagSelector\n",
    "\n",
    "soup = BeautifulSoup(\n",
    "    \"\"\"\n",
    "        <p class=\"title\" lang=\"es\">Rebelión en la granja</p>\n",
    "        <p class=\"description\" lang=\"en\">Some animals are more equal than others</p>\n",
    "        <span class=\"title\" lang=\"en\">Animal Farm</span>\n",
    "    \"\"\",\n",
    "    features=\"html.parser\",\n",
    ")\n",
    "any_selector = AnyTagSelector()\n",
    "any_selector.find(soup)"
   ]
  },
  {
   "cell_type": "markdown",
   "metadata": {},
   "source": [
    "Additionally, when two selectors are sure to yield the same results, they are considered equal. `AnyTagSelector` is equal to any other `AnyTagSelector` and `TagSelector` with no tag name specified."
   ]
  },
  {
   "cell_type": "code",
   "execution_count": null,
   "metadata": {},
   "outputs": [],
   "source": [
    "from soupsavvy import AnyTagSelector, TagSelector\n",
    "\n",
    "any_selector = AnyTagSelector()\n",
    "another_any_selector = AnyTagSelector()\n",
    "empty_tag_selector = TagSelector()\n",
    "\n",
    "any_selector == another_any_selector == empty_tag_selector"
   ]
  },
  {
   "cell_type": "markdown",
   "metadata": {},
   "source": [
    "When using `find_all` method, it returns all elements in the document. This can be restricted to only direct children of the element by setting `recursive` parameter to `False`."
   ]
  },
  {
   "cell_type": "code",
   "execution_count": null,
   "metadata": {},
   "outputs": [],
   "source": [
    "from bs4 import BeautifulSoup\n",
    "\n",
    "from soupsavvy import AnyTagSelector\n",
    "\n",
    "soup = BeautifulSoup(\n",
    "    \"\"\"\n",
    "        <p class=\"title\" lang=\"es\">Rebelión en la granja</p>\n",
    "        <p class=\"description\" lang=\"en\">Some animals are more equal than others</p>\n",
    "        <span class=\"title\" lang=\"en\">Animal Farm</span>\n",
    "    \"\"\",\n",
    "    features=\"html.parser\",\n",
    ")\n",
    "any_selector = AnyTagSelector()\n",
    "any_selector.find_all(soup)"
   ]
  },
  {
   "cell_type": "markdown",
   "metadata": {},
   "source": [
    "## PatternSelector"
   ]
  },
  {
   "cell_type": "markdown",
   "metadata": {},
   "source": [
    "`PatternSelector` is designed to select elements based on their text content. Unlike the standard `BeautifulSoup` implementation, which returns `NavigableString` when querying by text content, `PatternSelector` provides a more consistent and practical approach.\n",
    "\n",
    "In `BeautifulSoup`, searching for elements by text content always returns `NavigableString` when element was found, which can be cumbersome and inconsistent, especially when further searching or processing is needed. `NavigableString` does not support additional searches or operations, making it less useful for many applications."
   ]
  },
  {
   "cell_type": "code",
   "execution_count": null,
   "metadata": {},
   "outputs": [],
   "source": [
    "import re\n",
    "\n",
    "from bs4 import BeautifulSoup\n",
    "\n",
    "soup = BeautifulSoup(\n",
    "    \"\"\"\n",
    "        <p class=\"title\" lang=\"es\">Rebelión en la granja</p>\n",
    "        <p class=\"description\" lang=\"en\">Some animals are more equal than others</p>\n",
    "        <span class=\"title\" lang=\"en\">Animal Farm</span>\n",
    "    \"\"\",\n",
    "    features=\"lxml\",\n",
    ")\n",
    "result = soup.find(string=re.compile(\"animal\", re.IGNORECASE))\n",
    "print(f\"Result is of type {type(result)} : {result}\")"
   ]
  },
  {
   "cell_type": "markdown",
   "metadata": {},
   "source": [
    "`PatternSelector` addresses this limitation by returning a `Tag` object instead of `NavigableString`. This behavior aligns with other selectors and allows for more effective manipulation and querying of the text-containing elements."
   ]
  },
  {
   "cell_type": "markdown",
   "metadata": {},
   "source": [
    "### Finding by plain text"
   ]
  },
  {
   "cell_type": "markdown",
   "metadata": {},
   "source": [
    "When searching by plain text, `PatternSelector` matches elements whose text content exactly matches the provided string."
   ]
  },
  {
   "cell_type": "code",
   "execution_count": null,
   "metadata": {},
   "outputs": [],
   "source": [
    "from bs4 import BeautifulSoup\n",
    "\n",
    "from soupsavvy import PatternSelector\n",
    "\n",
    "soup = BeautifulSoup(\n",
    "    \"\"\"\n",
    "        <p class=\"title\" lang=\"es\">Rebelión en la granja</p>\n",
    "        <p class=\"description\" lang=\"en\">Some animals are more equal than others</p>\n",
    "        <span class=\"title\" lang=\"en\">Animal Farm</span>\n",
    "    \"\"\",\n",
    "    features=\"lxml\",\n",
    ")\n",
    "animal_selector = PatternSelector(\"Animal Farm\")\n",
    "animal_selector.find(soup)"
   ]
  },
  {
   "cell_type": "markdown",
   "metadata": {},
   "source": [
    "### Finding by regex"
   ]
  },
  {
   "cell_type": "markdown",
   "metadata": {},
   "source": [
    "For more flexible searches, `PatternSelector` can also match elements based on a regular expression pattern. By passing a compiled regex pattern, you can perform partial matches, complex text patterns, or other advanced text queries"
   ]
  },
  {
   "cell_type": "code",
   "execution_count": null,
   "metadata": {},
   "outputs": [],
   "source": [
    "import re\n",
    "\n",
    "from bs4 import BeautifulSoup\n",
    "\n",
    "from soupsavvy import PatternSelector\n",
    "\n",
    "soup = BeautifulSoup(\n",
    "    \"\"\"\n",
    "        <p class=\"title\" lang=\"es\">Rebelión en la granja</p>\n",
    "        <p class=\"description\" lang=\"en\">Some animals are more equal than others</p>\n",
    "        <span class=\"title\" lang=\"en\">Animal Farm</span>\n",
    "    \"\"\",\n",
    "    features=\"lxml\",\n",
    ")\n",
    "animal_selector = PatternSelector(re.compile(r\"animal\", re.IGNORECASE))\n",
    "animal_selector.find(soup)"
   ]
  },
  {
   "cell_type": "markdown",
   "metadata": {},
   "source": [
    "To maintain a streamlined and intuitive interface, `TagSelector` does not include text-based search functionalities. Instead, `PatternSelector` was introduced as a separate selector to provide a more coherent design. However, these two selectors can be combined to match elements based on both text content and attributes or tag names. For example, the snippet below demonstrates how to use `TagSelector` alongside `PatternSelector` to locate all `<p>` elements with a `class` of `title`, a `lang` attribute of `en`, and text content containing the word \"animal\" (case-insensitive)."
   ]
  },
  {
   "cell_type": "code",
   "execution_count": null,
   "metadata": {},
   "outputs": [],
   "source": [
    "import re\n",
    "\n",
    "from bs4 import BeautifulSoup\n",
    "\n",
    "from soupsavvy import AttributeSelector, PatternSelector, TagSelector\n",
    "\n",
    "soup = BeautifulSoup(\n",
    "    \"\"\"\n",
    "        <p class=\"title\" lang=\"es\">Rebelión en la granja</p>\n",
    "        <p class=\"description\" lang=\"es\">Todos los animales son iguales</p>\n",
    "        <p class=\"title\" lang=\"en\">Animal Farm</p>\n",
    "        <p class=\"description\" lang=\"en\">Some animals are more equal than others</p>\n",
    "    \"\"\",\n",
    "    features=\"lxml\",\n",
    ")\n",
    "description_selector = TagSelector(\n",
    "    \"p\",\n",
    "    attributes=[\n",
    "        AttributeSelector(\"lang\", value=\"en\"),\n",
    "        AttributeSelector(\"class\", value=\"description\"),\n",
    "    ],\n",
    ")\n",
    "animal_selector = PatternSelector(re.compile(r\"animal\", re.IGNORECASE))\n",
    "\n",
    "combined_selector = description_selector & animal_selector\n",
    "combined_selector.find(soup)"
   ]
  },
  {
   "cell_type": "markdown",
   "metadata": {},
   "source": [
    "This example uses syntax for combination of selectors specific to `soupsavvy` which results in `AndSelector`. This topic with examples is explained in details in the next tutorial. "
   ]
  },
  {
   "cell_type": "markdown",
   "metadata": {},
   "source": [
    "## Overview"
   ]
  },
  {
   "cell_type": "markdown",
   "metadata": {},
   "source": [
    "These fundamental selectors form the core of `soupsavvy` and provide the building blocks for more complex queries. In the next tutorials, we'll explore advanced options and composite selectors that build upon these basics to enable even more powerful and flexible searching capabilities.\n",
    "\n",
    "**Enjoy `soupsavvy` and leave us feedback!**  \n",
    "**Happy scraping!**"
   ]
  }
 ],
 "metadata": {
  "kernelspec": {
   "display_name": "soupsavvy",
   "language": "python",
   "name": "python3"
  },
  "language_info": {
   "codemirror_mode": {
    "name": "ipython",
    "version": 3
   },
   "file_extension": ".py",
   "mimetype": "text/x-python",
   "name": "python",
   "nbconvert_exporter": "python",
   "pygments_lexer": "ipython3",
   "version": "3.11.8"
  }
 },
 "nbformat": 4,
 "nbformat_minor": 2
}
