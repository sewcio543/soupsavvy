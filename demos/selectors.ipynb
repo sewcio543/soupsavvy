{
 "cells": [
  {
   "cell_type": "markdown",
   "metadata": {},
   "source": [
    "# Selectors"
   ]
  },
  {
   "cell_type": "markdown",
   "metadata": {},
   "source": [
    "In this tutorial, we'll explore the functionality of various simple `soupsavvy` selectors, showcasing how they can be used to perform searches in `BeautifulSoup` objects."
   ]
  },
  {
   "cell_type": "markdown",
   "metadata": {},
   "source": [
    "## AttributeSelector"
   ]
  },
  {
   "cell_type": "markdown",
   "metadata": {},
   "source": [
    "Attribute selectors allow you to select elements based on element attribute value. For more information about this selector refer to [Mozilla](https://developer.mozilla.org/en-US/docs/Web/CSS/Attribute_selectors)."
   ]
  },
  {
   "cell_type": "markdown",
   "metadata": {},
   "source": [
    "### Finding by attribute name"
   ]
  },
  {
   "cell_type": "markdown",
   "metadata": {},
   "source": [
    "`AttributeSelector` can be used to find HTML elements with a specific attribute name. If an element contains the given attribute, it matches the selector, regardless of the attribute's value."
   ]
  },
  {
   "cell_type": "code",
   "execution_count": null,
   "metadata": {},
   "outputs": [],
   "source": [
    "from bs4 import BeautifulSoup\n",
    "\n",
    "from soupsavvy import AttributeSelector\n",
    "\n",
    "soup = BeautifulSoup(\n",
    "    \"\"\"<p id=\"12ghj8\">Book</p><p class=\"price\">Price: $20</p>\"\"\", features=\"lxml\"\n",
    ")\n",
    "price_selector = AttributeSelector(\"class\")\n",
    "price_selector.find(soup)"
   ]
  },
  {
   "cell_type": "markdown",
   "metadata": {},
   "source": [
    "### Finding by exact value"
   ]
  },
  {
   "cell_type": "markdown",
   "metadata": {},
   "source": [
    "`AttributeSelector` can be used to match the exact value of a given attribute. By passing a `string` as the `value` parameter, the selector will only match elements whose attribute matches this exact value."
   ]
  },
  {
   "cell_type": "code",
   "execution_count": null,
   "metadata": {},
   "outputs": [],
   "source": [
    "from bs4 import BeautifulSoup\n",
    "\n",
    "from soupsavvy import AttributeSelector\n",
    "\n",
    "soup = BeautifulSoup(\n",
    "    \"\"\"<span class=\"title\">Animal Farm</span><p class=\"price\">Price: $20</p>\"\"\",\n",
    "    features=\"lxml\",\n",
    ")\n",
    "price_selector = AttributeSelector(\"class\", value=\"price\")\n",
    "price_selector.find(soup)"
   ]
  },
  {
   "cell_type": "markdown",
   "metadata": {},
   "source": [
    "### Finding by regex"
   ]
  },
  {
   "cell_type": "markdown",
   "metadata": {},
   "source": [
    "For more flexible searches, `AttributeSelector` can also match elements based on a regular expression pattern. By passing a compiled regex pattern, you can perform partial matches, complex text patterns, or other advanced text queries on attribute value."
   ]
  },
  {
   "cell_type": "code",
   "execution_count": null,
   "metadata": {},
   "outputs": [],
   "source": [
    "import re\n",
    "\n",
    "from bs4 import BeautifulSoup\n",
    "\n",
    "from soupsavvy import AttributeSelector\n",
    "\n",
    "soup = BeautifulSoup(\n",
    "    \"\"\"\n",
    "        <a href=\"https://www.fictiondb.com/title/animal-farm~george-orwell~161188.htm\">fictiondb</a>\n",
    "        <a href=\"https://search.worldcat.org/title/1056176764\">worldcat</a>\n",
    "    \"\"\",\n",
    "    features=\"lxml\",\n",
    ")\n",
    "price_selector = AttributeSelector(\"href\", value=re.compile(r\"worldcat\\.org/.*/\\d{10}\"))\n",
    "price_selector.find(soup)"
   ]
  },
  {
   "cell_type": "markdown",
   "metadata": {},
   "source": [
    "### Other functionalities"
   ]
  },
  {
   "cell_type": "markdown",
   "metadata": {},
   "source": [
    "Let's explore some common functionalities available with the `AttributeSelector` and other selectors in `soupsavvy`. These functionalities behave consistently across all selector types, so the following examples apply universally."
   ]
  },
  {
   "cell_type": "markdown",
   "metadata": {},
   "source": [
    "#### Using `strict` mode"
   ]
  },
  {
   "cell_type": "markdown",
   "metadata": {},
   "source": [
    "When no match is found, the behavior of the `AttributeSelector.find` method depends on the `strict` parameter. If `strict` is set to `True`, it raises a `TagNotFoundException`. If `strict` is set to `False` (the default), it returns `None`."
   ]
  },
  {
   "cell_type": "code",
   "execution_count": null,
   "metadata": {},
   "outputs": [],
   "source": [
    "from bs4 import BeautifulSoup\n",
    "\n",
    "from soupsavvy import AttributeSelector\n",
    "from soupsavvy.exceptions import TagNotFoundException\n",
    "\n",
    "soup = BeautifulSoup(\n",
    "    \"\"\"<span class=\"title\">Animal Farm</span><p class=\"how_much\">Price: $20</p>\"\"\",\n",
    "    features=\"lxml\",\n",
    ")\n",
    "price_selector = AttributeSelector(\"class\", value=\"price\")\n",
    "\n",
    "print(f\"NOT STRICT: {price_selector.find(soup)}\")\n",
    "\n",
    "try:\n",
    "    price_selector.find(soup, strict=True)\n",
    "except TagNotFoundException as e:\n",
    "    print(f\"STRICT: {e}\")"
   ]
  },
  {
   "cell_type": "markdown",
   "metadata": {},
   "source": [
    "#### Finding all elements"
   ]
  },
  {
   "cell_type": "markdown",
   "metadata": {},
   "source": [
    "The `find_all` method can be used to return all matching elements, similar to the `BeautifulSoup` `Tag.find_all` method. The elements in the result list are always unique and maintain the same order as they appear in the document."
   ]
  },
  {
   "cell_type": "code",
   "execution_count": null,
   "metadata": {},
   "outputs": [],
   "source": [
    "from bs4 import BeautifulSoup\n",
    "\n",
    "from soupsavvy import AttributeSelector\n",
    "\n",
    "soup = BeautifulSoup(\n",
    "    \"\"\"\n",
    "        <span class=\"title\">Animal Farm</span>\n",
    "        <p class=\"price\">Price: $10</p>\n",
    "        <p class=\"price\">Price: $20</p>\n",
    "        <p class=\"price\">Price: $30</p>\n",
    "    \"\"\",\n",
    "    features=\"lxml\",\n",
    ")\n",
    "price_selector = AttributeSelector(\"class\", value=\"price\")\n",
    "price_selector.find_all(soup)"
   ]
  },
  {
   "cell_type": "markdown",
   "metadata": {},
   "source": [
    "#### Using `limit` option"
   ]
  },
  {
   "cell_type": "markdown",
   "metadata": {},
   "source": [
    "When using the `find_all` method, the `limit` parameter can be used to restrict the number of elements returned. If `limit` is set to `None` (the default), all matching elements are returned. This functionality is derived from the `BeautifulSoup` `Tag.find_all` method."
   ]
  },
  {
   "cell_type": "code",
   "execution_count": null,
   "metadata": {},
   "outputs": [],
   "source": [
    "from bs4 import BeautifulSoup\n",
    "\n",
    "from soupsavvy import AttributeSelector\n",
    "\n",
    "soup = BeautifulSoup(\n",
    "    \"\"\"\n",
    "        <span class=\"title\">Animal Farm</span>\n",
    "        <p class=\"price\">Price: $10</p>\n",
    "        <p class=\"price\">Price: $20</p>\n",
    "        <p class=\"price\">Price: $30</p>\n",
    "    \"\"\",\n",
    "    features=\"lxml\",\n",
    ")\n",
    "price_selector = AttributeSelector(\"class\", value=\"price\")\n",
    "price_selector.find_all(soup, limit=2)"
   ]
  },
  {
   "cell_type": "markdown",
   "metadata": {},
   "source": [
    "#### Using `recursive` option"
   ]
  },
  {
   "cell_type": "markdown",
   "metadata": {},
   "source": [
    "Both `find` and `find_all` methods have a `recursive` parameter. If `recursive` is set to `True` (the default), the search includes the entire document. If `recursive` is set to `False`, the search is limited to the direct children of the element. This behavior is consistent with how the `recursive` parameter works in `BeautifulSoup`."
   ]
  },
  {
   "cell_type": "code",
   "execution_count": null,
   "metadata": {},
   "outputs": [],
   "source": [
    "from bs4 import BeautifulSoup\n",
    "\n",
    "from soupsavvy import AttributeSelector\n",
    "\n",
    "soup = BeautifulSoup(\n",
    "    \"\"\"\n",
    "        <span class=\"title\">Animal Farm</span>\n",
    "        <div>\n",
    "            <p class=\"price\">Price: $10</p>\n",
    "            <p class=\"price\">Price: $20</p>\n",
    "        </div>\n",
    "        <p class=\"price\">Price: $30</p>\n",
    "    \"\"\",\n",
    "    features=\"html.parser\",\n",
    ")\n",
    "price_selector = AttributeSelector(\"class\", value=\"price\")\n",
    "price_selector.find(soup, recursive=False)"
   ]
  },
  {
   "cell_type": "markdown",
   "metadata": {},
   "source": [
    "### Specific attribute selectors"
   ]
  },
  {
   "cell_type": "markdown",
   "metadata": {},
   "source": [
    "`soupsavvy` offers convenience classes for selecting elements based on specific attributes, such as `id` and `class`. These classes, simplify the selection process by pre-defining commonly used attribute names. \n",
    "\n",
    "**Convenience Selectors:**\n",
    "\n",
    "- **`IdSelector`**: Selector for matching elements by their `id` attribute value.\n",
    "\n",
    "- **`ClassSelector`**: Selector for matching elements by their `class` attribute value.\n",
    "\n",
    "Both are subclasses of `AttributeSelector`. By pre-assigning attribute names, they offer a more intuitive interface and reduce the amount of boilerplate code needed for common attribute-based searches.\n",
    "\n",
    "For more information about this selector refer to Mozilla for [Class](https://developer.mozilla.org/en-US/docs/Web/CSS/Class_selectors) and [ID](https://developer.mozilla.org/en-US/docs/Web/CSS/ID_selectors) selectors."
   ]
  },
  {
   "cell_type": "code",
   "execution_count": null,
   "metadata": {},
   "outputs": [],
   "source": [
    "from bs4 import BeautifulSoup\n",
    "\n",
    "from soupsavvy import ClassSelector\n",
    "\n",
    "soup = BeautifulSoup(\n",
    "    \"\"\"<span class=\"title\">Animal Farm</span><p class=\"price\">Price: $20</p>\"\"\",\n",
    "    features=\"lxml\",\n",
    ")\n",
    "price_selector = ClassSelector(\"price\")\n",
    "price_selector.find(soup)"
   ]
  },
  {
   "cell_type": "code",
   "execution_count": null,
   "metadata": {},
   "outputs": [],
   "source": [
    "import re\n",
    "\n",
    "from bs4 import BeautifulSoup\n",
    "\n",
    "from soupsavvy import IdSelector\n",
    "\n",
    "soup = BeautifulSoup(\n",
    "    \"\"\"<p id=\"12ghj8\">Book</p><p id=\"13cji0\" class=\"price\">Price: $20</p>\"\"\",\n",
    "    features=\"lxml\",\n",
    ")\n",
    "price_selector = IdSelector(re.compile(r\"^13.*0$\"))\n",
    "price_selector.find(soup)"
   ]
  },
  {
   "cell_type": "markdown",
   "metadata": {},
   "source": [
    "These are subclasses of `AttributeSelector` and provide a more user-friendly interface, as they skip `name` parameter which is pre-assigned to the component specific value."
   ]
  },
  {
   "cell_type": "markdown",
   "metadata": {},
   "source": [
    "## TypeSelector"
   ]
  },
  {
   "cell_type": "markdown",
   "metadata": {},
   "source": [
    "`TypeSelector` is used to select elements based on their tag name. Selects all elements of the given type within a document. For more information about this selector refer to [Mozilla](https://developer.mozilla.org/en-US/docs/Web/CSS/Type_selectors)."
   ]
  },
  {
   "cell_type": "markdown",
   "metadata": {},
   "source": [
    "### Finding by tag name"
   ]
  },
  {
   "cell_type": "markdown",
   "metadata": {},
   "source": [
    "The `TypeSelector` can be used to find elements based solely on their tag name. For example, selecting all `<p>` elements in a document. This basic usage allows you to target elements without specifying any additional attributes."
   ]
  },
  {
   "cell_type": "code",
   "execution_count": null,
   "metadata": {},
   "outputs": [],
   "source": [
    "from bs4 import BeautifulSoup\n",
    "\n",
    "from soupsavvy import TypeSelector\n",
    "\n",
    "soup = BeautifulSoup(\n",
    "    \"\"\"<p class=\"price\">Price: $10</p><p class=\"price\">Price: $20</p>\"\"\",\n",
    "    features=\"lxml\",\n",
    ")\n",
    "price_selector = TypeSelector(\"p\")\n",
    "price_selector.find(soup)"
   ]
  },
  {
   "cell_type": "markdown",
   "metadata": {},
   "source": [
    "`TypeSelector` can be combined with `AttributeSelector` as well as with any other, to make composite selector and perform more complex searches. More about this in `Combining` tutorial."
   ]
  },
  {
   "cell_type": "markdown",
   "metadata": {},
   "source": [
    "## UniversalSelector"
   ]
  },
  {
   "cell_type": "markdown",
   "metadata": {},
   "source": [
    "This selector is a wildcard selector that matches any tag. It can be used to select any element in the document. It is equivalent to using `*` in CSS selectors. For more information about this selector refer to [Mozilla](https://developer.mozilla.org/en-US/docs/Web/CSS/Universal_selectors)."
   ]
  },
  {
   "cell_type": "code",
   "execution_count": null,
   "metadata": {},
   "outputs": [],
   "source": [
    "from bs4 import BeautifulSoup\n",
    "\n",
    "from soupsavvy import UniversalSelector\n",
    "\n",
    "soup = BeautifulSoup(\n",
    "    \"\"\"\n",
    "        <p class=\"title\" lang=\"es\">Rebelión en la granja</p>\n",
    "        <p class=\"description\" lang=\"en\">Some animals are more equal than others</p>\n",
    "        <span class=\"title\" lang=\"en\">Animal Farm</span>\n",
    "    \"\"\",\n",
    "    features=\"html.parser\",\n",
    ")\n",
    "any_selector = UniversalSelector()\n",
    "any_selector.find(soup)"
   ]
  },
  {
   "cell_type": "markdown",
   "metadata": {},
   "source": [
    "When using `find_all` method, it returns all elements in the document. This can be restricted to only direct children of the element by setting `recursive` parameter to `False`."
   ]
  },
  {
   "cell_type": "code",
   "execution_count": null,
   "metadata": {},
   "outputs": [],
   "source": [
    "from bs4 import BeautifulSoup\n",
    "\n",
    "from soupsavvy import UniversalSelector\n",
    "\n",
    "soup = BeautifulSoup(\n",
    "    \"\"\"\n",
    "        <p class=\"title\" lang=\"es\">Rebelión en la granja</p>\n",
    "        <p class=\"description\" lang=\"en\">Some animals are more equal than others</p>\n",
    "        <span class=\"title\" lang=\"en\">Animal Farm</span>\n",
    "    \"\"\",\n",
    "    features=\"html.parser\",\n",
    ")\n",
    "any_selector = UniversalSelector()\n",
    "any_selector.find_all(soup)"
   ]
  },
  {
   "cell_type": "markdown",
   "metadata": {},
   "source": [
    "## PatternSelector"
   ]
  },
  {
   "cell_type": "markdown",
   "metadata": {},
   "source": [
    "`PatternSelector` is designed to select elements based on their text content. Unlike the standard `BeautifulSoup` implementation, which returns `NavigableString` when querying by text content, `PatternSelector` provides a more consistent and practical approach.\n",
    "\n",
    "In `BeautifulSoup`, searching for elements by text content always returns `NavigableString` when element was found, which can be cumbersome and inconsistent, especially when further searching or processing is needed. `NavigableString` does not support additional searches or operations, making it less useful for many applications."
   ]
  },
  {
   "cell_type": "code",
   "execution_count": null,
   "metadata": {},
   "outputs": [],
   "source": [
    "import re\n",
    "\n",
    "from bs4 import BeautifulSoup\n",
    "\n",
    "soup = BeautifulSoup(\n",
    "    \"\"\"\n",
    "        <p class=\"title\" lang=\"es\">Rebelión en la granja</p>\n",
    "        <p class=\"description\" lang=\"en\">Some animals are more equal than others</p>\n",
    "        <span class=\"title\" lang=\"en\">Animal Farm</span>\n",
    "    \"\"\",\n",
    "    features=\"lxml\",\n",
    ")\n",
    "result = soup.find(string=re.compile(\"animal\", re.IGNORECASE))\n",
    "print(f\"Result is of type {type(result)} : {result}\")"
   ]
  },
  {
   "cell_type": "markdown",
   "metadata": {},
   "source": [
    "`PatternSelector` addresses this limitation by returning a `Tag` object instead of `NavigableString`. This behavior aligns with other selectors and allows for more effective manipulation and querying of the text-containing elements."
   ]
  },
  {
   "cell_type": "markdown",
   "metadata": {},
   "source": [
    "### Finding by plain text"
   ]
  },
  {
   "cell_type": "markdown",
   "metadata": {},
   "source": [
    "When searching by plain text, `PatternSelector` matches elements whose text content exactly matches the provided string."
   ]
  },
  {
   "cell_type": "code",
   "execution_count": null,
   "metadata": {},
   "outputs": [],
   "source": [
    "from bs4 import BeautifulSoup\n",
    "\n",
    "from soupsavvy import PatternSelector\n",
    "\n",
    "soup = BeautifulSoup(\n",
    "    \"\"\"\n",
    "        <p class=\"title\" lang=\"es\">Rebelión en la granja</p>\n",
    "        <p class=\"description\" lang=\"en\">Some animals are more equal than others</p>\n",
    "        <span class=\"title\" lang=\"en\">Animal Farm</span>\n",
    "    \"\"\",\n",
    "    features=\"lxml\",\n",
    ")\n",
    "animal_selector = PatternSelector(\"Animal Farm\")\n",
    "animal_selector.find(soup)"
   ]
  },
  {
   "cell_type": "markdown",
   "metadata": {},
   "source": [
    "### Finding by regex"
   ]
  },
  {
   "cell_type": "markdown",
   "metadata": {},
   "source": [
    "For more flexible searches, `PatternSelector` can also match elements based on a regular expression pattern. By passing a compiled regex pattern, you can perform partial matches, complex text patterns, or other advanced text queries"
   ]
  },
  {
   "cell_type": "code",
   "execution_count": null,
   "metadata": {},
   "outputs": [],
   "source": [
    "import re\n",
    "\n",
    "from bs4 import BeautifulSoup\n",
    "\n",
    "from soupsavvy import PatternSelector\n",
    "\n",
    "soup = BeautifulSoup(\n",
    "    \"\"\"\n",
    "        <p class=\"title\" lang=\"es\">Rebelión en la granja</p>\n",
    "        <p class=\"description\" lang=\"en\">Some animals are more equal than others</p>\n",
    "        <span class=\"title\" lang=\"en\">Animal Farm</span>\n",
    "    \"\"\",\n",
    "    features=\"lxml\",\n",
    ")\n",
    "animal_selector = PatternSelector(re.compile(r\"animal\", re.IGNORECASE))\n",
    "animal_selector.find(soup)"
   ]
  },
  {
   "cell_type": "markdown",
   "metadata": {},
   "source": [
    "## Summary"
   ]
  },
  {
   "cell_type": "markdown",
   "metadata": {},
   "source": [
    "These fundamental selectors form the core of `soupsavvy` and provide the building blocks for more complex queries. In the next tutorials, we'll explore advanced options and composite selectors that build upon these basics to enable even more powerful and flexible searching capabilities.\n",
    "\n",
    "**Enjoy `soupsavvy` and leave us feedback!**  \n",
    "**Happy scraping!**"
   ]
  }
 ],
 "metadata": {
  "kernelspec": {
   "display_name": "soupsavvy",
   "language": "python",
   "name": "python3"
  },
  "language_info": {
   "codemirror_mode": {
    "name": "ipython",
    "version": 3
   },
   "file_extension": ".py",
   "mimetype": "text/x-python",
   "name": "python",
   "nbconvert_exporter": "python",
   "pygments_lexer": "ipython3",
   "version": "3.11.8"
  }
 },
 "nbformat": 4,
 "nbformat_minor": 2
}
