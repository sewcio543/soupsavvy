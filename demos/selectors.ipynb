{
 "cells": [
  {
   "cell_type": "markdown",
   "metadata": {},
   "source": [
    "# Selectors"
   ]
  },
  {
   "cell_type": "markdown",
   "metadata": {},
   "source": [
    "In this tutorial, we will go through the functionality of different `soupsavvy` selectors."
   ]
  },
  {
   "cell_type": "markdown",
   "metadata": {},
   "source": [
    "## AttributeSelector"
   ]
  },
  {
   "cell_type": "markdown",
   "metadata": {},
   "source": [
    "Attribute selectors are used to select elements based on their attributes. They are used to select elements with specific attributes."
   ]
  },
  {
   "cell_type": "markdown",
   "metadata": {},
   "source": [
    "### Finding by attribute name"
   ]
  },
  {
   "cell_type": "markdown",
   "metadata": {},
   "source": [
    "`AttributeSelector` can be used to find html element with specific attribute name. If element has given attribute, it matches the selector. Value of the attribute is ignore in this case."
   ]
  },
  {
   "cell_type": "code",
   "execution_count": 67,
   "metadata": {},
   "outputs": [
    {
     "data": {
      "text/plain": [
       "<p class=\"price\">Price: $20</p>"
      ]
     },
     "execution_count": 67,
     "metadata": {},
     "output_type": "execute_result"
    }
   ],
   "source": [
    "from bs4 import BeautifulSoup\n",
    "\n",
    "from soupsavvy import AttributeSelector\n",
    "\n",
    "soup = BeautifulSoup(\n",
    "    \"\"\"<p id=\"12ghj8\">Book</p><p class=\"price\">Price: $20</p>\"\"\",\n",
    "    features=\"lxml\"\n",
    ")\n",
    "price_selector = AttributeSelector(\"class\")\n",
    "price_selector.find(soup)"
   ]
  },
  {
   "cell_type": "markdown",
   "metadata": {},
   "source": [
    "### Finding by value exact match"
   ]
  },
  {
   "cell_type": "markdown",
   "metadata": {},
   "source": [
    "`AttributeSelector` can be used to match the value of the given attribute. `string` should be passed as `value` parameter to match the exact value of the attribute. "
   ]
  },
  {
   "cell_type": "code",
   "execution_count": 68,
   "metadata": {},
   "outputs": [
    {
     "data": {
      "text/plain": [
       "<p class=\"price\">Price: $20</p>"
      ]
     },
     "execution_count": 68,
     "metadata": {},
     "output_type": "execute_result"
    }
   ],
   "source": [
    "from bs4 import BeautifulSoup\n",
    "\n",
    "from soupsavvy import AttributeSelector\n",
    "\n",
    "soup = BeautifulSoup(\n",
    "    \"\"\"<span class=\"title\">Animal Farm</span><p class=\"price\">Price: $20</p>\"\"\",\n",
    "    features=\"lxml\"\n",
    ")\n",
    "price_selector = AttributeSelector(\"class\", value=\"price\")\n",
    "price_selector.find(soup)"
   ]
  },
  {
   "cell_type": "markdown",
   "metadata": {},
   "source": [
    "### Finding by value partial match"
   ]
  },
  {
   "cell_type": "markdown",
   "metadata": {},
   "source": [
    "Matching element by partial value of the attribute is also possible. Setting `re` parameter to `True` uses compiled regex pattern to match the value of the attribute. It uses `re.search` under the hood."
   ]
  },
  {
   "cell_type": "code",
   "execution_count": 69,
   "metadata": {},
   "outputs": [
    {
     "data": {
      "text/plain": [
       "<a href=\"https://search.worldcat.org/title/1056176764\">worldcat</a>"
      ]
     },
     "execution_count": 69,
     "metadata": {},
     "output_type": "execute_result"
    }
   ],
   "source": [
    "from bs4 import BeautifulSoup\n",
    "\n",
    "from soupsavvy import AttributeSelector\n",
    "\n",
    "soup = BeautifulSoup(\n",
    "    \"\"\"\n",
    "        <a href=\"https://www.fictiondb.com/title/animal-farm~george-orwell~161188.htm\">fictiondb</a>\n",
    "        <a href=\"https://search.worldcat.org/title/1056176764\">worldcat</a>\n",
    "    \"\"\",\n",
    "    features=\"lxml\"\n",
    ")\n",
    "price_selector = AttributeSelector(\"href\", value=\"worldcat\", re=True)\n",
    "price_selector.find(soup)"
   ]
  },
  {
   "cell_type": "markdown",
   "metadata": {},
   "source": [
    "In similar fashion, compiled regex pattern can be passed as `value` parameter, which is equivalent to above example."
   ]
  },
  {
   "cell_type": "code",
   "execution_count": 70,
   "metadata": {},
   "outputs": [
    {
     "data": {
      "text/plain": [
       "<a href=\"https://search.worldcat.org/title/1056176764\">worldcat</a>"
      ]
     },
     "execution_count": 70,
     "metadata": {},
     "output_type": "execute_result"
    }
   ],
   "source": [
    "from bs4 import BeautifulSoup\n",
    "import re\n",
    "\n",
    "from soupsavvy import AttributeSelector\n",
    "\n",
    "soup = BeautifulSoup(\n",
    "    \"\"\"\n",
    "        <a href=\"https://www.fictiondb.com/title/animal-farm~george-orwell~161188.htm\">fictiondb</a>\n",
    "        <a href=\"https://search.worldcat.org/title/1056176764\">worldcat</a>\n",
    "    \"\"\",\n",
    "    features=\"lxml\"\n",
    ")\n",
    "price_selector = AttributeSelector(\"href\", value=re.compile(\"worldcat\"))\n",
    "price_selector.find(soup)"
   ]
  },
  {
   "cell_type": "markdown",
   "metadata": {},
   "source": [
    "By default when `re` is set to `True`, complied regex is created from `value` string, it does not escape special characters. In this case, `AttributeSelector` looks for digit in element `class` attribute value followed by literal `escription`, instead of intended `\\description` literal string.  "
   ]
  },
  {
   "cell_type": "code",
   "execution_count": 98,
   "metadata": {},
   "outputs": [
    {
     "name": "stdout",
     "output_type": "stream",
     "text": [
      "None\n"
     ]
    }
   ],
   "source": [
    "from bs4 import BeautifulSoup\n",
    "\n",
    "from soupsavvy import AttributeSelector\n",
    "\n",
    "soup = BeautifulSoup(\n",
    "    \"\"\"\n",
    "    <span class=\"title\\description\">Animal Farm; Some animals are more equal than others</span>\n",
    "    \"\"\",\n",
    "    features=\"lxml\"\n",
    ")\n",
    "price_selector = AttributeSelector(\"class\", value=\"\\description\", re=True)\n",
    "print(price_selector.find(soup))"
   ]
  },
  {
   "cell_type": "markdown",
   "metadata": {},
   "source": [
    "To remedy this, compiled regex with escaped sequence needs to be passed as `value` parameter, which gives user more control over the regex pattern."
   ]
  },
  {
   "cell_type": "code",
   "execution_count": 95,
   "metadata": {},
   "outputs": [
    {
     "name": "stdout",
     "output_type": "stream",
     "text": [
      "<span class=\"title\\description\">Animal Farm; Some animals are more equal than others</span>\n"
     ]
    }
   ],
   "source": [
    "from bs4 import BeautifulSoup\n",
    "\n",
    "from soupsavvy import AttributeSelector\n",
    "\n",
    "soup = BeautifulSoup(\n",
    "    \"\"\"\n",
    "        <span class=\"title\\description\">Animal Farm; Some animals are more equal than others</span>\n",
    "        <p class=\"how_much\">Price: $20</p>\n",
    "    \"\"\",\n",
    "    features=\"lxml\"\n",
    ")\n",
    "price_selector = AttributeSelector(\"class\", value=re.compile(re.escape(r\"\\d\")))\n",
    "print(price_selector.find(soup))"
   ]
  },
  {
   "cell_type": "markdown",
   "metadata": {},
   "source": [
    "When no match is found, `AttributeSelector.find` method behavior depends on `strict` parameter value. If `strict` is set to `True`, it raises `ValueError` exception. If `strict` is set to `False`, which is default, it returns `None`. "
   ]
  },
  {
   "cell_type": "code",
   "execution_count": 73,
   "metadata": {},
   "outputs": [
    {
     "name": "stdout",
     "output_type": "stream",
     "text": [
      "Tag was not found in markup.\n"
     ]
    }
   ],
   "source": [
    "from bs4 import BeautifulSoup\n",
    "\n",
    "from soupsavvy import AttributeSelector\n",
    "from soupsavvy.exceptions import TagNotFoundException\n",
    "\n",
    "soup = BeautifulSoup(\n",
    "    \"\"\"<span class=\"title\">Animal Farm</span><p class=\"how_much\">Price: $20</p>\"\"\",\n",
    "    features=\"lxml\"\n",
    ")\n",
    "price_selector = AttributeSelector(\"class\", value=\"price\")\n",
    "\n",
    "try:\n",
    "    price_selector.find(soup, strict=True)\n",
    "except TagNotFoundException as e:\n",
    "    print(e)"
   ]
  },
  {
   "cell_type": "markdown",
   "metadata": {},
   "source": [
    "`find_all` method can be used to return all matching elements, similar to `BeautifulSoup` `Tag.find_all` method."
   ]
  },
  {
   "cell_type": "code",
   "execution_count": 74,
   "metadata": {},
   "outputs": [
    {
     "data": {
      "text/plain": [
       "[<p class=\"price\">Price: $10</p>,\n",
       " <p class=\"price\">Price: $20</p>,\n",
       " <p class=\"price\">Price: $30</p>]"
      ]
     },
     "execution_count": 74,
     "metadata": {},
     "output_type": "execute_result"
    }
   ],
   "source": [
    "from bs4 import BeautifulSoup\n",
    "\n",
    "from soupsavvy import AttributeSelector\n",
    "\n",
    "soup = BeautifulSoup(\n",
    "    \"\"\"\n",
    "        <span class=\"title\">Animal Farm</span>\n",
    "        <p class=\"price\">Price: $10</p>\n",
    "        <p class=\"price\">Price: $20</p>\n",
    "        <p class=\"price\">Price: $30</p>\n",
    "    \"\"\",\n",
    "    features=\"lxml\"\n",
    ")\n",
    "price_selector = AttributeSelector(\"class\", value=\"price\")\n",
    "price_selector.find_all(soup)"
   ]
  },
  {
   "cell_type": "code",
   "execution_count": 75,
   "metadata": {},
   "outputs": [
    {
     "data": {
      "text/plain": [
       "[<p class=\"price\">Price: $10</p>, <p class=\"price\">Price: $20</p>]"
      ]
     },
     "execution_count": 75,
     "metadata": {},
     "output_type": "execute_result"
    }
   ],
   "source": [
    "from bs4 import BeautifulSoup\n",
    "\n",
    "from soupsavvy import AttributeSelector\n",
    "\n",
    "soup = BeautifulSoup(\n",
    "    \"\"\"\n",
    "        <span class=\"title\">Animal Farm</span>\n",
    "        <p class=\"price\">Price: $10</p>\n",
    "        <p class=\"price\">Price: $20</p>\n",
    "        <p class=\"price\">Price: $30</p>\n",
    "    \"\"\",\n",
    "    features=\"lxml\"\n",
    ")\n",
    "price_selector = AttributeSelector(\"class\", value=\"price\")\n",
    "price_selector.find_all(soup, limit=2)"
   ]
  },
  {
   "cell_type": "code",
   "execution_count": 76,
   "metadata": {},
   "outputs": [
    {
     "data": {
      "text/plain": [
       "<p class=\"price\">Price: $30</p>"
      ]
     },
     "execution_count": 76,
     "metadata": {},
     "output_type": "execute_result"
    }
   ],
   "source": [
    "from bs4 import BeautifulSoup\n",
    "\n",
    "from soupsavvy import AttributeSelector\n",
    "\n",
    "soup = BeautifulSoup(\n",
    "    \"\"\"\n",
    "        <span class=\"title\">Animal Farm</span>\n",
    "        <div>\n",
    "            <p class=\"price\">Price: $10</p>\n",
    "            <p class=\"price\">Price: $20</p>\n",
    "        </div>\n",
    "        <p class=\"price\">Price: $30</p>\n",
    "    \"\"\",\n",
    "    features=\"html.parser\"\n",
    ")\n",
    "price_selector = AttributeSelector(\"class\", value=\"price\")\n",
    "price_selector.find(soup, recursive=False)"
   ]
  },
  {
   "cell_type": "code",
   "execution_count": 77,
   "metadata": {},
   "outputs": [
    {
     "data": {
      "text/plain": [
       "<p class=\"price\">Price: $10</p>"
      ]
     },
     "execution_count": 77,
     "metadata": {},
     "output_type": "execute_result"
    }
   ],
   "source": [
    "from bs4 import BeautifulSoup\n",
    "\n",
    "from soupsavvy import TagSelector\n",
    "\n",
    "soup = BeautifulSoup(\n",
    "    \"\"\"<p class=\"price\">Price: $10</p><p class=\"price\">Price: $20</p>\"\"\",\n",
    "    features=\"lxml\"\n",
    ")\n",
    "price_selector = TagSelector(\"p\")\n",
    "price_selector.find(soup)"
   ]
  },
  {
   "cell_type": "code",
   "execution_count": 78,
   "metadata": {},
   "outputs": [
    {
     "data": {
      "text/plain": [
       "<p class=\"price\">Price: $10</p>"
      ]
     },
     "execution_count": 78,
     "metadata": {},
     "output_type": "execute_result"
    }
   ],
   "source": [
    "from bs4 import BeautifulSoup\n",
    "\n",
    "from soupsavvy import TagSelector, AttributeSelector\n",
    "\n",
    "soup = BeautifulSoup(\n",
    "    \"\"\"<p class=\"title\">Animal Farm</p><p class=\"price\">Price: $10</p>\"\"\",\n",
    "    features=\"lxml\"\n",
    ")\n",
    "price_selector = TagSelector(\"p\", attributes=[AttributeSelector(\"class\", \"price\")])\n",
    "price_selector.find(soup)"
   ]
  },
  {
   "cell_type": "code",
   "execution_count": 79,
   "metadata": {},
   "outputs": [
    {
     "data": {
      "text/plain": [
       "<p class=\"price discount\">Price: $10</p>"
      ]
     },
     "execution_count": 79,
     "metadata": {},
     "output_type": "execute_result"
    }
   ],
   "source": [
    "from bs4 import BeautifulSoup\n",
    "\n",
    "from soupsavvy import AttributeSelector, TagSelector\n",
    "\n",
    "soup = BeautifulSoup(\n",
    "    \"\"\"\n",
    "        <p class=\"title\">Animal Farm</p>\n",
    "        <p class=\"price\"><s>Price: $20</s></p>\n",
    "        <p class=\"price discount\">Price: $10</p>\n",
    "    \"\"\",\n",
    "    features=\"lxml\"\n",
    ")\n",
    "price_selector = TagSelector(\n",
    "    \"p\",\n",
    "    attributes=[\n",
    "        AttributeSelector(\"class\", \"price\"),\n",
    "        AttributeSelector(\"class\", \"discount\"),\n",
    "    ],\n",
    ")\n",
    "price_selector.find(soup)"
   ]
  },
  {
   "cell_type": "code",
   "execution_count": 80,
   "metadata": {},
   "outputs": [
    {
     "data": {
      "text/plain": [
       "<p class=\"title\" lang=\"en\">Animal Farm</p>"
      ]
     },
     "execution_count": 80,
     "metadata": {},
     "output_type": "execute_result"
    }
   ],
   "source": [
    "from bs4 import BeautifulSoup\n",
    "\n",
    "from soupsavvy import AttributeSelector, TagSelector\n",
    "\n",
    "soup = BeautifulSoup(\n",
    "    \"\"\"\n",
    "        <p class=\"title\" lang=\"es\">Rebelión en la granja</p>\n",
    "        <p class=\"description\" lang=\"en\">Some animals are more equal than others</p>\n",
    "        <p class=\"title\" lang=\"en\">Animal Farm</p>\n",
    "    \"\"\",\n",
    "    features=\"lxml\"\n",
    ")\n",
    "title_selector = TagSelector(\n",
    "    \"p\",\n",
    "    attributes=[\n",
    "        AttributeSelector(\"class\", \"title\"),\n",
    "        AttributeSelector(\"lang\", \"en\"),\n",
    "    ],\n",
    ")\n",
    "title_selector.find(soup)"
   ]
  },
  {
   "cell_type": "code",
   "execution_count": 81,
   "metadata": {},
   "outputs": [
    {
     "data": {
      "text/plain": [
       "<span class=\"title\" lang=\"en\">Animal Farm</span>"
      ]
     },
     "execution_count": 81,
     "metadata": {},
     "output_type": "execute_result"
    }
   ],
   "source": [
    "from bs4 import BeautifulSoup\n",
    "\n",
    "from soupsavvy import AttributeSelector, TagSelector\n",
    "\n",
    "soup = BeautifulSoup(\n",
    "    \"\"\"\n",
    "        <p class=\"title\" lang=\"es\">Rebelión en la granja</p>\n",
    "        <p class=\"description\" lang=\"en\">Some animals are more equal than others</p>\n",
    "        <span class=\"title\" lang=\"en\">Animal Farm</span>\n",
    "    \"\"\",\n",
    "    features=\"lxml\"\n",
    ")\n",
    "title_selector = TagSelector(\n",
    "    attributes=[\n",
    "        AttributeSelector(\"class\", \"title\"),\n",
    "        AttributeSelector(\"lang\", \"en\"),\n",
    "    ],\n",
    ")\n",
    "title_selector.find(soup)"
   ]
  },
  {
   "cell_type": "code",
   "execution_count": 82,
   "metadata": {},
   "outputs": [
    {
     "data": {
      "text/plain": [
       "<html><body><p class=\"title\" lang=\"es\">Rebelión en la granja</p>\n",
       "<p class=\"description\" lang=\"en\">Some animals are more equal than others</p>\n",
       "<span class=\"title\" lang=\"en\">Animal Farm</span>\n",
       "</body></html>"
      ]
     },
     "execution_count": 82,
     "metadata": {},
     "output_type": "execute_result"
    }
   ],
   "source": [
    "from bs4 import BeautifulSoup\n",
    "\n",
    "from soupsavvy import TagSelector\n",
    "\n",
    "soup = BeautifulSoup(\n",
    "    \"\"\"\n",
    "        <p class=\"title\" lang=\"es\">Rebelión en la granja</p>\n",
    "        <p class=\"description\" lang=\"en\">Some animals are more equal than others</p>\n",
    "        <span class=\"title\" lang=\"en\">Animal Farm</span>\n",
    "    \"\"\",\n",
    "    features=\"lxml\"\n",
    ")\n",
    "title_selector = TagSelector()\n",
    "title_selector.find(soup)"
   ]
  },
  {
   "cell_type": "code",
   "execution_count": 83,
   "metadata": {},
   "outputs": [
    {
     "data": {
      "text/plain": [
       "<p class=\"title\" lang=\"es\">Rebelión en la granja</p>"
      ]
     },
     "execution_count": 83,
     "metadata": {},
     "output_type": "execute_result"
    }
   ],
   "source": [
    "from bs4 import BeautifulSoup\n",
    "\n",
    "from soupsavvy import TagSelector\n",
    "\n",
    "soup = BeautifulSoup(\n",
    "    \"\"\"\n",
    "        <p class=\"title\" lang=\"es\">Rebelión en la granja</p>\n",
    "        <p class=\"description\" lang=\"en\">Some animals are more equal than others</p>\n",
    "        <span class=\"title\" lang=\"en\">Animal Farm</span>\n",
    "    \"\"\",\n",
    "    features=\"html.parser\"\n",
    ")\n",
    "title_selector = TagSelector()\n",
    "title_selector.find(soup)"
   ]
  },
  {
   "cell_type": "code",
   "execution_count": 84,
   "metadata": {},
   "outputs": [
    {
     "data": {
      "text/plain": [
       "[<p class=\"title\" lang=\"es\">Rebelión en la granja</p>,\n",
       " <p class=\"title\" lang=\"en\">Animal Farm</p>]"
      ]
     },
     "execution_count": 84,
     "metadata": {},
     "output_type": "execute_result"
    }
   ],
   "source": [
    "from bs4 import BeautifulSoup\n",
    "\n",
    "from soupsavvy import TagSelector\n",
    "\n",
    "soup = BeautifulSoup(\n",
    "    \"\"\"\n",
    "        <p class=\"title\" lang=\"es\">Rebelión en la granja</p>\n",
    "        <p class=\"description\" lang=\"en\">Some animals are more equal than others</p>\n",
    "        <p class=\"title\" lang=\"en\">Animal Farm</p>\n",
    "    \"\"\",\n",
    "    features=\"lxml\"\n",
    ")\n",
    "title_selector = TagSelector(\"p\", attributes=[AttributeSelector(\"class\", \"title\")])\n",
    "title_selector.find_all(soup)"
   ]
  }
 ],
 "metadata": {
  "kernelspec": {
   "display_name": "soupsavvy",
   "language": "python",
   "name": "python3"
  },
  "language_info": {
   "codemirror_mode": {
    "name": "ipython",
    "version": 3
   },
   "file_extension": ".py",
   "mimetype": "text/x-python",
   "name": "python",
   "nbconvert_exporter": "python",
   "pygments_lexer": "ipython3",
   "version": "3.11.9"
  }
 },
 "nbformat": 4,
 "nbformat_minor": 2
}
