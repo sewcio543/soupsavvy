{
 "cells": [
  {
   "cell_type": "markdown",
   "metadata": {},
   "source": [
    "# Use Cases"
   ]
  },
  {
   "cell_type": "markdown",
   "metadata": {},
   "source": [
    "We will use [Rotten Tomatoes](https://editorial.rottentomatoes.com/) webpage, which is an American review-aggregation website for film and television. We will use `soupsavvy`to extract information from there."
   ]
  },
  {
   "cell_type": "code",
   "execution_count": 1,
   "metadata": {},
   "outputs": [],
   "source": [
    "import requests\n",
    "from bs4 import BeautifulSoup\n",
    "\n",
    "headers = {\n",
    "    \"User-Agent\": \"Mozilla/5.0\",\n",
    "    \"Accept-Language\": \"en-US,en;q=0.9\",\n",
    "}\n",
    "url = \"https://editorial.rottentomatoes.com/guide/best-movies-of-all-time/\"\n",
    "response = requests.get(url, headers=headers)\n",
    "bs = BeautifulSoup(response.text, \"lxml\")"
   ]
  },
  {
   "cell_type": "code",
   "execution_count": null,
   "metadata": {},
   "outputs": [],
   "source": [
    "from soupsavvy import ClassSelector, TypeSelector\n",
    "\n",
    "movie_selector = ClassSelector(\"movie\") & TypeSelector(\"p\")\n",
    "result = movie_selector.find_all(bs)\n",
    "\n",
    "print(f\"Found {len(result)} movies\")\n",
    "result[0]"
   ]
  },
  {
   "cell_type": "code",
   "execution_count": null,
   "metadata": {},
   "outputs": [],
   "source": [
    "from soupsavvy.operations import Text\n",
    "from soupsavvy import ClassSelector\n",
    "\n",
    "title_selector = (movie_selector >> ClassSelector(\"title\")) | Text(strip=True)\n",
    "result = title_selector.find_all(bs)\n",
    "\n",
    "print(f\"Found {len(result)} titles\")\n",
    "print(result[:3])"
   ]
  },
  {
   "cell_type": "code",
   "execution_count": null,
   "metadata": {},
   "outputs": [],
   "source": [
    "from soupsavvy import ClassSelector, TypeSelector\n",
    "from soupsavvy.models import BaseModel, post\n",
    "from soupsavvy.operations import Text\n",
    "\n",
    "\n",
    "class Movie(BaseModel):\n",
    "    __scope__ = (ClassSelector(\"movie\") & TypeSelector(\"p\")) << TypeSelector(\"tr\")\n",
    "\n",
    "    title = ClassSelector(\"title\") | Text(strip=True)\n",
    "    score = ClassSelector(\"score\") | Text()\n",
    "    \n",
    "    @post(\"score\")\n",
    "    def process_score(self, score: str) -> int:\n",
    "        return int(score.strip(\"%\"))\n",
    "\n",
    "\n",
    "Movie.find(bs)"
   ]
  },
  {
   "cell_type": "code",
   "execution_count": null,
   "metadata": {},
   "outputs": [],
   "source": [
    "from soupsavvy import ClassSelector, TypeSelector\n",
    "from soupsavvy.models import BaseModel, post\n",
    "from soupsavvy.operations import Href, Operation, Text\n",
    "from soupsavvy.selectors.css import FirstOfType\n",
    "\n",
    "\n",
    "class MovieDetails(BaseModel):\n",
    "    __scope__ = ClassSelector(\"details\")\n",
    "\n",
    "    title = ClassSelector(\"title\") | Text(strip=True)\n",
    "    year = (\n",
    "        ClassSelector(\"year\")\n",
    "        | Text()\n",
    "        | Operation(lambda x: x.strip(\"()\"))\n",
    "        | Operation(int)\n",
    "    )\n",
    "    link = ClassSelector(\"title\") | Href()\n",
    "\n",
    "\n",
    "class Movie(BaseModel):\n",
    "    __scope__ = (ClassSelector(\"movie\") & TypeSelector(\"p\")) << TypeSelector(\"tr\")\n",
    "\n",
    "    rank = (FirstOfType() & TypeSelector(\"td\")) | Text()\n",
    "    score = ClassSelector(\"score\") | Text()\n",
    "    details = MovieDetails\n",
    "\n",
    "    @post(\"score\")\n",
    "    def process_score(self, score: str) -> int:\n",
    "        return int(score.strip(\"%\"))\n",
    "\n",
    "    def __post_init__(self) -> None:\n",
    "        self.rank = int(str(self.rank).strip(\".\"))\n",
    "\n",
    "\n",
    "result = Movie.find_all(bs)\n",
    "print(f\"Found {len(result)} movies\")\n",
    "\n",
    "result[0]"
   ]
  }
 ],
 "metadata": {
  "kernelspec": {
   "display_name": "base",
   "language": "python",
   "name": "python3"
  },
  "language_info": {
   "codemirror_mode": {
    "name": "ipython",
    "version": 3
   },
   "file_extension": ".py",
   "mimetype": "text/x-python",
   "name": "python",
   "nbconvert_exporter": "python",
   "pygments_lexer": "ipython3",
   "version": "3.11.8"
  }
 },
 "nbformat": 4,
 "nbformat_minor": 2
}
