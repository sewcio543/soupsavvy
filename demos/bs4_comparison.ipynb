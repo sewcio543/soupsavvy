{
 "cells": [
  {
   "cell_type": "markdown",
   "metadata": {},
   "source": [
    "## Encapsulated logic"
   ]
  },
  {
   "cell_type": "code",
   "execution_count": 19,
   "metadata": {},
   "outputs": [
    {
     "data": {
      "text/plain": [
       "<span>party</span>"
      ]
     },
     "execution_count": 19,
     "metadata": {},
     "output_type": "execute_result"
    }
   ],
   "source": [
    "from bs4 import BeautifulSoup\n",
    "\n",
    "soup = BeautifulSoup(\n",
    "    \"\"\"\n",
    "        <div>\n",
    "            <span class=\"event\">Event</span>\n",
    "            <span>party</span>\n",
    "        </div>\n",
    "    \"\"\",\n",
    "    features=\"lxml\",\n",
    ")\n",
    "\n",
    "for div in soup.find_all(\"div\"):\n",
    "    for event in div.find_all(class_=\"event\", recursive=False):\n",
    "        party = event.find_next_sibling(\"span\", string=\"party\")\n",
    "        if party is not None:\n",
    "            break\n",
    "party"
   ]
  },
  {
   "cell_type": "code",
   "execution_count": 20,
   "metadata": {},
   "outputs": [
    {
     "data": {
      "text/plain": [
       "<span>party</span>"
      ]
     },
     "execution_count": 20,
     "metadata": {},
     "output_type": "execute_result"
    }
   ],
   "source": [
    "from bs4 import BeautifulSoup\n",
    "\n",
    "from soupsavvy import ClassSelector, PatternSelector, TypeSelector\n",
    "\n",
    "soup = BeautifulSoup(\n",
    "    \"\"\"\n",
    "        <div>\n",
    "            <span class=\"event\">Event</span>\n",
    "            <span>party</span>\n",
    "        </div>\n",
    "    \"\"\",\n",
    "    features=\"lxml\",\n",
    ")\n",
    "\n",
    "selector = (TypeSelector(\"div\") > ClassSelector(\"event\") + (\n",
    "    TypeSelector(\"span\") & PatternSelector(\"party\")\n",
    "))\n",
    "selector.find(soup)"
   ]
  },
  {
   "cell_type": "markdown",
   "metadata": {},
   "source": [
    "## Error handling"
   ]
  },
  {
   "cell_type": "code",
   "execution_count": 54,
   "metadata": {},
   "outputs": [
    {
     "name": "stdout",
     "output_type": "stream",
     "text": [
      "This needs to be handled explicitly every time.\n"
     ]
    }
   ],
   "source": [
    "from bs4 import BeautifulSoup\n",
    "\n",
    "soup = BeautifulSoup(\n",
    "    \"\"\"\n",
    "        <div>\n",
    "            <span>No event here</span>\n",
    "            <span>No party</span>\n",
    "        </div>\n",
    "    \"\"\",\n",
    "    features=\"lxml\",\n",
    ")\n",
    "\n",
    "event = soup.find(class_=\"event\")\n",
    "\n",
    "if event is not None:\n",
    "    party = event.find_next_sibling(string=\"party\")\n",
    "else:\n",
    "    print(\"This needs to be handled explicitly every time.\")"
   ]
  },
  {
   "cell_type": "code",
   "execution_count": 58,
   "metadata": {},
   "outputs": [
    {
     "name": "stdout",
     "output_type": "stream",
     "text": [
      "Tag was not found in markup.\n"
     ]
    }
   ],
   "source": [
    "from bs4 import BeautifulSoup\n",
    "\n",
    "from soupsavvy import ClassSelector, PatternSelector\n",
    "from soupsavvy.exceptions import TagNotFoundException\n",
    "\n",
    "soup = BeautifulSoup(\n",
    "    \"\"\"\n",
    "        <div>\n",
    "            <span>No event here</span>\n",
    "            <span>No party</span>\n",
    "        </div>\n",
    "    \"\"\",\n",
    "    features=\"lxml\",\n",
    ")\n",
    "\n",
    "selector = ClassSelector(\"event\") + PatternSelector(\"party\")\n",
    "assert selector.find(soup) is None\n",
    "\n",
    "try:\n",
    "    selector.find(soup, strict=True)\n",
    "except TagNotFoundException as e:\n",
    "    print(e)"
   ]
  },
  {
   "cell_type": "markdown",
   "metadata": {},
   "source": [
    "## Handling sets"
   ]
  },
  {
   "cell_type": "code",
   "execution_count": 17,
   "metadata": {},
   "outputs": [
    {
     "data": {
      "text/plain": [
       "{<p class=\"special\">Festival</p>, <span>Event</span>}"
      ]
     },
     "execution_count": 17,
     "metadata": {},
     "output_type": "execute_result"
    }
   ],
   "source": [
    "from bs4 import BeautifulSoup\n",
    "\n",
    "soup = BeautifulSoup(\n",
    "    \"\"\"\n",
    "        <p class=\"special\">Festival</p>\n",
    "        <div>\n",
    "            <span>Event</span>\n",
    "            <span>Menu</span>\n",
    "        </div>\n",
    "        <div>\n",
    "            <span>Menu</span>\n",
    "        </div>\n",
    "        <div>\n",
    "            <span>Event</span>\n",
    "        </div>\n",
    "        <span>Event</span>\n",
    "    \"\"\",\n",
    "    features=\"lxml\",\n",
    ")\n",
    "\n",
    "result1 = soup.find_all(\"span\", string=\"Event\")\n",
    "result2 = soup.select(\":last-child\")\n",
    "result3 = soup.find_all(class_=\"special\")\n",
    "\n",
    "(set(result1) & set(result2)) | set(result3)"
   ]
  },
  {
   "cell_type": "code",
   "execution_count": 19,
   "metadata": {},
   "outputs": [
    {
     "data": {
      "text/plain": [
       "[<p class=\"special\">Festival</p>, <span>Event</span>, <span>Event</span>]"
      ]
     },
     "execution_count": 19,
     "metadata": {},
     "output_type": "execute_result"
    }
   ],
   "source": [
    "from bs4 import BeautifulSoup\n",
    "\n",
    "from soupsavvy import ClassSelector, PatternSelector, TypeSelector\n",
    "from soupsavvy.selectors.css import LastChild\n",
    "\n",
    "soup = BeautifulSoup(\n",
    "    \"\"\"\n",
    "        <p class=\"special\">Festival</p>\n",
    "        <div>\n",
    "            <span>Event</span>\n",
    "            <span>Menu</span>\n",
    "        </div>\n",
    "        <div>\n",
    "            <span>Menu</span>\n",
    "        </div>\n",
    "        <div>\n",
    "            <span>Event</span>\n",
    "        </div>\n",
    "        <span>Event</span>\n",
    "    \"\"\",\n",
    "    features=\"lxml\",\n",
    ")\n",
    "\n",
    "selector = (\n",
    "    PatternSelector(\"Event\") & TypeSelector(\"span\") & LastChild()\n",
    ") | ClassSelector(\"special\")\n",
    "selector.find_all(soup)\n"
   ]
  },
  {
   "cell_type": "markdown",
   "metadata": {},
   "source": [
    "## Applying operations"
   ]
  },
  {
   "cell_type": "code",
   "execution_count": 63,
   "metadata": {},
   "outputs": [
    {
     "data": {
      "text/plain": [
       "[datetime.datetime(2023, 10, 30, 0, 0), datetime.datetime(2023, 8, 31, 0, 0)]"
      ]
     },
     "execution_count": 63,
     "metadata": {},
     "output_type": "execute_result"
    }
   ],
   "source": [
    "from datetime import datetime\n",
    "\n",
    "from bs4 import BeautifulSoup\n",
    "\n",
    "soup = BeautifulSoup(\n",
    "    \"\"\"\n",
    "        <p>Event</p>\n",
    "        <span class=\"date\">2023-10-30</span>\n",
    "        <span class=\"date\">2023-08-31</span>\n",
    "    \"\"\",\n",
    "    features=\"lxml\",\n",
    ")\n",
    "\n",
    "date_elements = soup.find_all(class_=\"date\")\n",
    "dates = [\n",
    "    datetime.strptime(element.get_text(strip=True), \"%Y-%m-%d\")\n",
    "    for element in date_elements\n",
    "]\n",
    "dates"
   ]
  },
  {
   "cell_type": "code",
   "execution_count": 4,
   "metadata": {},
   "outputs": [
    {
     "data": {
      "text/plain": [
       "[datetime.datetime(2023, 10, 30, 0, 0), datetime.datetime(2023, 8, 31, 0, 0)]"
      ]
     },
     "execution_count": 4,
     "metadata": {},
     "output_type": "execute_result"
    }
   ],
   "source": [
    "from datetime import datetime\n",
    "\n",
    "from bs4 import BeautifulSoup\n",
    "\n",
    "from soupsavvy import ClassSelector\n",
    "from soupsavvy.operations import Operation, Text\n",
    "\n",
    "soup = BeautifulSoup(\n",
    "    \"\"\"\n",
    "        <p>Event</p>\n",
    "        <span class=\"date\">2023-10-30</span>\n",
    "        <span class=\"date\">2023-08-31</span>\n",
    "    \"\"\",\n",
    "    features=\"lxml\",\n",
    ")\n",
    "\n",
    "selector = (\n",
    "    ClassSelector(\"date\") | Text(strip=True) | Operation(datetime.strptime, \"%Y-%m-%d\")\n",
    ")\n",
    "selector.find_all(soup)"
   ]
  },
  {
   "cell_type": "markdown",
   "metadata": {},
   "source": [
    "## Structured information"
   ]
  },
  {
   "cell_type": "code",
   "execution_count": 26,
   "metadata": {},
   "outputs": [
    {
     "data": {
      "text/plain": [
       "[Book(title='Animal Farm', price=100), Book(title='Brave New World', price=80)]"
      ]
     },
     "execution_count": 26,
     "metadata": {},
     "output_type": "execute_result"
    }
   ],
   "source": [
    "from dataclasses import dataclass\n",
    "\n",
    "from bs4 import BeautifulSoup\n",
    "\n",
    "\n",
    "@dataclass\n",
    "class Book:\n",
    "    title: str\n",
    "    price: float\n",
    "\n",
    "\n",
    "text = \"\"\"\n",
    "    <div class=\"book\">\n",
    "        <p class=\"title\">Animal Farm</p>\n",
    "        <p class=\"price\">100$</p>\n",
    "    </div>\n",
    "    <div class=\"book\">\n",
    "        <p class=\"title\">Brave New World  </p>\n",
    "        <p class=\"price\">80$</p>\n",
    "    </div>\n",
    "\"\"\"\n",
    "soup = BeautifulSoup(text, features=\"lxml\")\n",
    "\n",
    "books = []\n",
    "book_elements = soup.find_all(\"div\", class_=\"book\")\n",
    "\n",
    "for book_element in book_elements:\n",
    "    title = book_element.find(class_=\"title\")\n",
    "\n",
    "    if title is None:\n",
    "        raise ValueError(\"Title not found\")\n",
    "\n",
    "    title = title.get_text(strip=True)\n",
    "\n",
    "    price = book_element.find(class_=\"price\")\n",
    "\n",
    "    if price is None:\n",
    "        raise ValueError(\"Price not found\")\n",
    "\n",
    "    price = int(price.get_text(strip=True).replace(\"$\", \"\"))\n",
    "    book = Book(title, price)\n",
    "    books.append(book)\n",
    "\n",
    "books"
   ]
  },
  {
   "cell_type": "code",
   "execution_count": 27,
   "metadata": {},
   "outputs": [
    {
     "data": {
      "text/plain": [
       "[Book(title='Animal Farm', price=100), Book(title='Brave New World', price=80)]"
      ]
     },
     "execution_count": 27,
     "metadata": {},
     "output_type": "execute_result"
    }
   ],
   "source": [
    "from bs4 import BeautifulSoup\n",
    "\n",
    "from soupsavvy import ClassSelector, TypeSelector\n",
    "from soupsavvy.models import BaseModel\n",
    "from soupsavvy.operations import Operation, Text\n",
    "\n",
    "\n",
    "class Book(BaseModel):\n",
    "\n",
    "    __scope__ = TypeSelector(\"div\") & ClassSelector(\"book\")\n",
    "\n",
    "    title = ClassSelector(\"title\") | Text(strip=True)\n",
    "    price = (\n",
    "        ClassSelector(\"price\")\n",
    "        | Text(strip=True)\n",
    "        | Operation(lambda x: x.strip(\"$\"))\n",
    "        | Operation(int)\n",
    "    )\n",
    "\n",
    "\n",
    "text = \"\"\"\n",
    "    <div class=\"book\">\n",
    "        <p class=\"title\">Animal Farm</p>\n",
    "        <p class=\"price\">100$</p>\n",
    "    </div>\n",
    "    <div class=\"book\">\n",
    "        <p class=\"title\">Brave New World  </p>\n",
    "        <p class=\"price\">80$</p>\n",
    "    </div>\n",
    "\"\"\"\n",
    "soup = BeautifulSoup(text, features=\"lxml\")\n",
    "Book.find_all(soup)"
   ]
  }
 ],
 "metadata": {
  "kernelspec": {
   "display_name": "soupsavvy",
   "language": "python",
   "name": "python3"
  },
  "language_info": {
   "codemirror_mode": {
    "name": "ipython",
    "version": 3
   },
   "file_extension": ".py",
   "mimetype": "text/x-python",
   "name": "python",
   "nbconvert_exporter": "python",
   "pygments_lexer": "ipython3",
   "version": "3.11.8"
  }
 },
 "nbformat": 4,
 "nbformat_minor": 2
}
