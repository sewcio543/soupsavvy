{
 "cells": [
  {
   "cell_type": "markdown",
   "metadata": {},
   "source": [
    "# Composite Selectors"
   ]
  },
  {
   "cell_type": "markdown",
   "metadata": {},
   "source": [
    "Combining selectors is one of the most powerful features of `soupsavvy`. By allowing you to mix and match different selectors, `soupsavvy` offers a highly flexible and customizable way to refine your search criteria. In this demo, we'll explore **Higher Order Selectors** and demonstrate how they can be leveraged to perform complex searches effectively."
   ]
  },
  {
   "cell_type": "markdown",
   "metadata": {},
   "source": [
    "**Higher Order Selectors** enable you to combine multiple selectors into a single, composite selector, enhancing your ability to target specific elements. Whether you're matching tags, attributes, or text content, these selectors can be used together to create more advanced search logic."
   ]
  },
  {
   "cell_type": "markdown",
   "metadata": {},
   "source": [
    "## Combinators\n",
    "\n",
    "We'll begin with **Combinators**, which are inspired by the CSS concept of combinators. These allow you to pass multiple selectors and perform a search on a `Tag` object, mimicking the logic of CSS combinators but with the added power and flexibility of `soupsavvy`.\n",
    "\n",
    "For more information on CSS combinators, you can refer to [Mozilla](https://developer.mozilla.org/en-US/docs/Web/CSS/Child_combinator).\n",
    "\n",
    "While `BeautifulSoup` provides methods like `select` and `select_one` to find tags using CSS selectors, these are often limited by the constraints of vanilla CSS. `soupsavvy` goes beyond these limitations, offering more complex conditions such as regular expressions and other advanced selection logic that can be seamlessly combined using these powerful selectors."
   ]
  },
  {
   "cell_type": "markdown",
   "metadata": {},
   "source": [
    "### DescendantCombinator\n",
    "\n",
    "The **Descendant Combinator** is one of the simplest and most frequently used combinators in CSS. It selects elements that match a second selector only if they have an ancestor that matches the first selector. In CSS, this relationship is represented by a single space `\" \"` between two selectors. For example, the following CSS:\n",
    "\n",
    "```css\n",
    ".book .price\n",
    "```\n",
    "\n",
    "matches all tags with the class `price` that are descendants of tags with the class `book`. For more details on CSS combinators, refer to the [Mozilla](https://developer.mozilla.org/en-US/docs/Web/CSS/Descendant_combinator)."
   ]
  },
  {
   "cell_type": "markdown",
   "metadata": {},
   "source": [
    "#### Usage\n",
    "\n",
    "In `soupsavvy`, this logic is encapsulated in the `DescendantCombinator` class, which functions similarly to its CSS counterpart. The `DescendantCombinator` accepts two or more selectors and returns `Tag` objects that satisfy the descendant relationship between them.\n",
    "\n",
    "Here's an example equivalent to the CSS above:"
   ]
  },
  {
   "cell_type": "code",
   "execution_count": null,
   "metadata": {},
   "outputs": [],
   "source": [
    "from bs4 import BeautifulSoup\n",
    "\n",
    "from soupsavvy import AttributeSelector, DescendantCombinator\n",
    "\n",
    "soup = BeautifulSoup(\n",
    "    \"\"\"\n",
    "        <p class=\"price\">Price: $30</p>\n",
    "        <div class=\"book\">\n",
    "            <span class=\"title\">Animal Farm</span>\n",
    "            <span class=\"price_section\">\n",
    "                <p class=\"price\">Price: $20</p>\n",
    "            </span>\n",
    "        </div>\n",
    "    \"\"\",\n",
    "    features=\"lxml\",\n",
    ")\n",
    "\n",
    "book_selector = AttributeSelector(\"class\", value=\"book\")\n",
    "price_selector = AttributeSelector(\"class\", value=\"price\")\n",
    "selector = DescendantCombinator(book_selector, price_selector)\n",
    "selector.find(soup)"
   ]
  },
  {
   "cell_type": "markdown",
   "metadata": {},
   "source": [
    "#### Creating with operator"
   ]
  },
  {
   "cell_type": "markdown",
   "metadata": {},
   "source": [
    "As mentioned in previously, `soupsavvy` provides alternative way of creating some composite selectors by using operators. More concise way to create `DescendantCombinator` is by using the `>>` operator, which acts as syntactic sugar:\n",
    "\n",
    "```python\n",
    "DescendantCombinator(left, right) == left >> right\n",
    "```\n",
    "\n",
    "Where left selector matches ancestor and right selector matches descendant."
   ]
  },
  {
   "cell_type": "code",
   "execution_count": null,
   "metadata": {},
   "outputs": [],
   "source": [
    "from bs4 import BeautifulSoup\n",
    "\n",
    "from soupsavvy import AttributeSelector\n",
    "\n",
    "soup = BeautifulSoup(\n",
    "    \"\"\"\n",
    "        <p class=\"price\">Price: $30</p>\n",
    "        <div class=\"book\">\n",
    "            <span class=\"title\">Animal Farm</span>\n",
    "            <span class=\"price_section\">\n",
    "                <p class=\"price\">Price: $20</p>\n",
    "            </span>\n",
    "        </div>\n",
    "    \"\"\",\n",
    "    features=\"lxml\",\n",
    ")\n",
    "\n",
    "book_selector = AttributeSelector(\"class\", value=\"book\")\n",
    "price_selector = AttributeSelector(\"class\", value=\"price\")\n",
    "selector = book_selector >> price_selector\n",
    "selector.find(soup)"
   ]
  },
  {
   "cell_type": "markdown",
   "metadata": {},
   "source": [
    "#### Multiple selectors\n",
    "\n",
    "`DescendantCombinator` allows you to chain together any number of selectors as positional arguments. When more than two selectors are provided, they are chained them in the order they appear, creating a more complex selection logic. This is similar to chaining selectors in CSS.\n",
    "\n",
    "For instance, the following CSS:\n",
    "\n",
    "```css\n",
    "#available .book .price\n",
    "```\n",
    "\n",
    "matches all elements with the class `price` that are descendants of a `<div>` with the class `book`, which in turn is a descendant of a `<div>` with the ID `available`.\n",
    "\n",
    "In `soupsavvy`, you can achieve this with `DescendantCombinator` as shown below:"
   ]
  },
  {
   "cell_type": "code",
   "execution_count": null,
   "metadata": {},
   "outputs": [],
   "source": [
    "from bs4 import BeautifulSoup\n",
    "\n",
    "from soupsavvy import ClassSelector, IdSelector, TypeSelector\n",
    "\n",
    "soup = BeautifulSoup(\n",
    "    \"\"\"\n",
    "        <p class=\"price\">Price: $30</p>\n",
    "        <div class=\"book\">\n",
    "            <span class=\"title\">Animal Farm</span>\n",
    "            <p class=\"price\">Price: $10</p>\n",
    "        </div>\n",
    "        <div id=\"available\">\n",
    "            <div class=\"book\">\n",
    "                <span class=\"title\">Animal Farm</span>\n",
    "                <span class=\"price_section\">\n",
    "                    <p class=\"price\">Price: $20</p>\n",
    "                </span>\n",
    "            </div>\n",
    "        </div>\n",
    "    \"\"\",\n",
    "    features=\"lxml\",\n",
    ")\n",
    "\n",
    "available_selector = IdSelector(\"available\")\n",
    "book_selector = ClassSelector(\"book\")\n",
    "price_selector = ClassSelector(\"price\")\n",
    "selector = available_selector >> book_selector >> price_selector\n",
    "selector.find(soup)"
   ]
  },
  {
   "cell_type": "markdown",
   "metadata": {},
   "source": [
    "### Combinators equality\n",
    "\n",
    "In `soupsavvy`, two combinators are considered equal only if they are of the same type and involve the exact same selectors in the same order. The order of selectors is significant, meaning `left >> right` is not equal to `right >> left`."
   ]
  },
  {
   "cell_type": "code",
   "execution_count": null,
   "metadata": {},
   "outputs": [],
   "source": [
    "from soupsavvy import AttributeSelector, DescendantCombinator\n",
    "\n",
    "book_selector = AttributeSelector(\"class\", value=\"book\")\n",
    "price_selector = AttributeSelector(\"class\", value=\"price\")\n",
    "\n",
    "print(\n",
    "    \"left >> right == DescendantCombinator(left, right):\",\n",
    "    book_selector >> price_selector\n",
    "    == DescendantCombinator(book_selector, price_selector),\n",
    ")\n",
    "print(\n",
    "    \"left >> right == right >> left:\",\n",
    "    price_selector >> book_selector == book_selector >> price_selector,\n",
    ")"
   ]
  },
  {
   "cell_type": "markdown",
   "metadata": {},
   "source": [
    "### Not Recursive search\n",
    "\n",
    "Setting `recursive` parameter to `False` will return element only if element matched by first selector is a child of searched element. This logic is in place for all `soupsavvy` combinators."
   ]
  },
  {
   "cell_type": "code",
   "execution_count": null,
   "metadata": {},
   "outputs": [],
   "source": [
    "from bs4 import BeautifulSoup\n",
    "\n",
    "from soupsavvy import AttributeSelector\n",
    "\n",
    "soup = BeautifulSoup(\n",
    "    \"\"\"\n",
    "        <p class=\"price\">Price: $30</p>\n",
    "        <span class=\"not_child_book\">\n",
    "            <div class=\"book\">\n",
    "                <span class=\"title\">Animal Farm</span>\n",
    "                <span class=\"price_section\">\n",
    "                    <p class=\"price\">Price: $50</p>\n",
    "                </span>\n",
    "            </div>\n",
    "        </span>\n",
    "        <div class=\"book\">\n",
    "            <span class=\"title\">Animal Farm</span>\n",
    "            <span class=\"price_section\">\n",
    "                <p class=\"price\">Price: $20</p>\n",
    "            </span>\n",
    "        </div>\n",
    "    \"\"\",\n",
    "    features=\"html.parser\",\n",
    ")\n",
    "\n",
    "book_selector = AttributeSelector(\"class\", value=\"book\")\n",
    "price_selector = AttributeSelector(\"class\", value=\"price\")\n",
    "selector = book_selector >> price_selector\n",
    "selector.find(soup, recursive=False)"
   ]
  },
  {
   "cell_type": "markdown",
   "metadata": {},
   "source": [
    "In this case `Price: $50` is not selected, as it's ancestor `<div class=\"book\">` that matched first selector is not a direct parent of searched element."
   ]
  },
  {
   "cell_type": "markdown",
   "metadata": {},
   "source": [
    "### ChildCombinator\n",
    "\n",
    "`ChildCombinator` mirrors the behavior of the CSS child combinator. In CSS, a child combinator (`>` symbol) selects elements that are direct children of a specified parent element. This is a stricter relationship than the descendant combinator, as it only matches elements that are immediate children of a given element, not just any descendant.\n",
    "\n",
    "For example, in CSS:\n",
    "\n",
    "```css\n",
    "div > .price\n",
    "```\n",
    "\n",
    "This selector matches all elements with the class `price` that are direct children of `<div>` element. For more details refer to [Mozilla](https://developer.mozilla.org/en-US/docs/Web/CSS/Child_combinator)."
   ]
  },
  {
   "cell_type": "markdown",
   "metadata": {},
   "source": [
    "#### Usage\n",
    "\n",
    "In `soupsavvy`, this logic is implemented with the `ChildCombinator` class. It accepts two or more selectors as positional arguments and returns elements that match the specified child-parent relationships."
   ]
  },
  {
   "cell_type": "code",
   "execution_count": null,
   "metadata": {},
   "outputs": [],
   "source": [
    "from bs4 import BeautifulSoup\n",
    "\n",
    "from soupsavvy import AttributeSelector, ChildCombinator, TypeSelector\n",
    "\n",
    "soup = BeautifulSoup(\n",
    "    \"\"\"\n",
    "        <p class=\"price\">Price: $30</p>\n",
    "        <div>\n",
    "            <span class=\"title\">Animal Farm</span>\n",
    "            <span class=\"discount\">\n",
    "                <h2>Discounted</h2>\n",
    "                <p class=\"price\">Price: $15</p>\n",
    "            </span>\n",
    "            <p class=\"price\">Price: $20</p>\n",
    "        </div>\n",
    "    \"\"\",\n",
    "    features=\"lxml\",\n",
    ")\n",
    "\n",
    "book_selector = TypeSelector(\"div\")\n",
    "price_selector = AttributeSelector(\"class\", value=\"price\")\n",
    "selector = ChildCombinator(book_selector, price_selector)\n",
    "selector.find(soup)"
   ]
  },
  {
   "cell_type": "markdown",
   "metadata": {},
   "source": [
    "#### Creating with operator"
   ]
  },
  {
   "cell_type": "markdown",
   "metadata": {},
   "source": [
    "More concise way to create `ChildCombinator` is by using the `>` operator, which is consistent with CSS syntax:\n",
    "\n",
    "```python\n",
    "ChildCombinator(left, right) == left > right\n",
    "```\n",
    "\n",
    "Where left selector matches parent and right selector matches child."
   ]
  },
  {
   "cell_type": "code",
   "execution_count": null,
   "metadata": {},
   "outputs": [],
   "source": [
    "from bs4 import BeautifulSoup\n",
    "\n",
    "from soupsavvy import ClassSelector, TypeSelector\n",
    "\n",
    "soup = BeautifulSoup(\n",
    "    \"\"\"\n",
    "        <p class=\"price\">Price: $30</p>\n",
    "        <div>\n",
    "            <span class=\"title\">Animal Farm</span>\n",
    "            <span class=\"discount\">\n",
    "                <h2>Discounted</h2>\n",
    "                <p class=\"price\">Price: $15</p>\n",
    "            </span>\n",
    "            <p class=\"price\">Price: $20</p>\n",
    "        </div>\n",
    "    \"\"\",\n",
    "    features=\"lxml\",\n",
    ")\n",
    "\n",
    "book_selector = TypeSelector(\"div\")\n",
    "price_selector = ClassSelector(\"price\")\n",
    "selector = book_selector > price_selector\n",
    "selector.find(soup)"
   ]
  },
  {
   "cell_type": "markdown",
   "metadata": {},
   "source": [
    "### Combining Combinators\n",
    "\n",
    "Just like any other `soupsavvy` selector, combinators can be used as inputs to other higher-order selectors. For instance, you can define a combination of parent-child and descendant relationships within a single selector. In CSS, this would be represented as:\n",
    "\n",
    "```css\n",
    "#available > div .price\n",
    "```\n",
    "\n",
    "In `soupsavvy`, this logic can be replicated by using both the `ChildCombinator` and the `DescendantCombinator` together. This combination allows you to specify that tag with id `available` should contain a direct child `<div>`, which in turn should contain a descendant element with the class `price`."
   ]
  },
  {
   "cell_type": "code",
   "execution_count": null,
   "metadata": {},
   "outputs": [],
   "source": [
    "from bs4 import BeautifulSoup\n",
    "\n",
    "from soupsavvy import ClassSelector, IdSelector, TypeSelector\n",
    "\n",
    "soup = BeautifulSoup(\n",
    "    \"\"\"\n",
    "        <p class=\"price\">Price: $30</p>\n",
    "        <div>\n",
    "            <span class=\"title\">Animal Farm</span>\n",
    "            <p class=\"price\">Price: $10</p>\n",
    "        </div>\n",
    "        <div id=\"available\">\n",
    "            <div>\n",
    "                <span class=\"title\">Animal Farm</span>\n",
    "                <span class=\"discount\">\n",
    "                    <h2>Discounted</h2>\n",
    "                    <p class=\"price\">Price: $15</p>\n",
    "                </span>\n",
    "                <p class=\"price\">Price: $20</p>\n",
    "            </div>\n",
    "        </div>\n",
    "    \"\"\",\n",
    "    features=\"lxml\",\n",
    ")\n",
    "\n",
    "available_selector = IdSelector(\"available\")\n",
    "book_selector = TypeSelector(\"div\")\n",
    "price_selector = ClassSelector(\"price\")\n",
    "selector = (available_selector > book_selector) >> price_selector\n",
    "selector.find(soup)"
   ]
  },
  {
   "cell_type": "markdown",
   "metadata": {},
   "source": [
    "#### Caveats"
   ]
  },
  {
   "cell_type": "markdown",
   "metadata": {},
   "source": [
    "When combining selectors with operators in `soupsavvy`, it's important to understand that some operators have higher precedence than others, which can affect the order in which expressions are evaluated.\n",
    "\n",
    "For example, the `right shift` operator (`>>`) has higher precedence than the `greater than` operator (`>`). This means that in an expression like:\n",
    "\n",
    "```python\n",
    "left > middle >> right\n",
    "```\n",
    "\n",
    "The `>>` operation is performed first, resulting in:\n",
    "\n",
    "```python\n",
    "ChildCombinator(left, DescendantCombinator(middle, right))\n",
    "```\n",
    "\n",
    "In contrast, if you add parentheses to explicitly define the order of operations:\n",
    "\n",
    "```python\n",
    "(left > middle) >> right\n",
    "```\n",
    "\n",
    "This expression would be interpreted as:\n",
    "\n",
    "```python\n",
    "DescendantCombinator(ChildCombinator(left, middle), right)\n",
    "```"
   ]
  },
  {
   "cell_type": "markdown",
   "metadata": {},
   "source": [
    "#### Example\n",
    "\n",
    "In provided example, the order of selectors isn't significant because both the `ChildCombinator` and `DescendantCombinator` are commutative — meaning the order in which you apply them doesn't affect the final result. However, this may not always be the case, so to avoid ambiguity and ensure expected behavior, it's always safer to include parentheses when combining operators."
   ]
  },
  {
   "cell_type": "code",
   "execution_count": null,
   "metadata": {},
   "outputs": [],
   "source": [
    "from soupsavvy import (\n",
    "    ChildCombinator,\n",
    "    ClassSelector,\n",
    "    DescendantCombinator,\n",
    "    IdSelector,\n",
    "    TypeSelector,\n",
    ")\n",
    "\n",
    "available_selector = IdSelector(\"available\")\n",
    "book_selector = TypeSelector(\"div\")\n",
    "price_selector = ClassSelector(\"price\")\n",
    "\n",
    "print(\n",
    "    DescendantCombinator(\n",
    "        ChildCombinator(available_selector, book_selector), price_selector\n",
    "    )\n",
    "    == (available_selector > book_selector) >> price_selector\n",
    ")"
   ]
  },
  {
   "cell_type": "markdown",
   "metadata": {},
   "source": [
    "### NextSiblingCombinator\n",
    "\n",
    "`NextSiblingCombinator` replicates the behavior of the CSS adjacent sibling combinator. In CSS, the next (aka adjacent) sibling combinator (denoted by the `+` symbol) selects an element that directly follows a specified sibling element.\n",
    "\n",
    "For example, in CSS:\n",
    "\n",
    "```css\n",
    "div + .price\n",
    "```\n",
    "\n",
    "This selector matches all elements with the class `price` that are the immediate next siblings of `<div>` elements. For more details, refer to [Mozilla](https://developer.mozilla.org/en-US/docs/Web/CSS/Next-sibling_combinator)."
   ]
  },
  {
   "cell_type": "markdown",
   "metadata": {},
   "source": [
    "#### Usage\n",
    "\n",
    "In `soupsavvy`, the `NextSiblingCombinator` class implements this logic. It takes two or more selectors as positional arguments and returns elements that match the specified preceding-adjacent sibling relationships. Example below demonstrate different example by using `PatternSelector` to match text content, element with class `price` that is immediate sibling of element with text content `Discounted` will be selected.\t  "
   ]
  },
  {
   "cell_type": "code",
   "execution_count": null,
   "metadata": {},
   "outputs": [],
   "source": [
    "from bs4 import BeautifulSoup\n",
    "\n",
    "from soupsavvy import ClassSelector, NextSiblingCombinator, PatternSelector\n",
    "\n",
    "soup = BeautifulSoup(\n",
    "    \"\"\"\n",
    "        <h2>Discounted</h2>\n",
    "        <span>Unavailable</span>\n",
    "        <p class=\"price\">Price: $10</p>\n",
    "        <h1>Discounted</h1>\n",
    "        <p class=\"price\">Price: $15</p>\n",
    "    \"\"\",\n",
    "    features=\"lxml\",\n",
    ")\n",
    "\n",
    "discount_selector = PatternSelector(\"Discounted\")\n",
    "price_selector = ClassSelector(\"price\")\n",
    "selector = NextSiblingCombinator(discount_selector, price_selector)\n",
    "selector.find(soup)"
   ]
  },
  {
   "cell_type": "markdown",
   "metadata": {},
   "source": [
    "#### Creating with operator\n",
    "\n",
    "More concise way to create `NextSiblingCombinator` is by using the `+` operator, which is consistent with CSS syntax:\n",
    "\n",
    "```python\n",
    "NextSiblingCombinator(left, right) == left + right\n",
    "```\n",
    "\n",
    "Where left selector matches preceding sibling and right selector matches next sibling."
   ]
  },
  {
   "cell_type": "code",
   "execution_count": null,
   "metadata": {},
   "outputs": [],
   "source": [
    "from bs4 import BeautifulSoup\n",
    "\n",
    "from soupsavvy import ClassSelector, PatternSelector\n",
    "\n",
    "soup = BeautifulSoup(\n",
    "    \"\"\"\n",
    "        <h2>Discounted</h2>\n",
    "        <span>Unavailable</span>\n",
    "        <p class=\"price\">Price: $10</p>\n",
    "        <h1>Discounted</h1>\n",
    "        <p class=\"price\">Price: $15</p>\n",
    "    \"\"\",\n",
    "    features=\"lxml\",\n",
    ")\n",
    "\n",
    "discount_selector = PatternSelector(\"Discounted\")\n",
    "price_selector = ClassSelector(\"price\")\n",
    "selector = discount_selector + price_selector\n",
    "selector.find(soup)"
   ]
  },
  {
   "cell_type": "markdown",
   "metadata": {},
   "source": [
    "In case of having multiple selectors, they are chained in the order they appear, first selector matches element and each subsequent selector matches next sibling of previously matched element."
   ]
  },
  {
   "cell_type": "code",
   "execution_count": null,
   "metadata": {},
   "outputs": [],
   "source": [
    "from bs4 import BeautifulSoup\n",
    "\n",
    "from soupsavvy import ClassSelector, PatternSelector\n",
    "\n",
    "soup = BeautifulSoup(\n",
    "    \"\"\"\n",
    "        <h2>Discounted</h2>\n",
    "        <span>Breaking relationship :(</span>\n",
    "        <p class=\"price\">Price: $15</p>\n",
    "        <span class=\"title\">Animal Farm 1</span>\n",
    "        \n",
    "        <h2>Discounted</h2>\n",
    "        <p class=\"price\">Price: $15</p>\n",
    "        <span>Breaking relationship :(</span>\n",
    "        <span class=\"title\">Animal Farm 2</span>\n",
    "        \n",
    "        <h2>Discounted</h2>\n",
    "        <p class=\"price\">Price: $15</p>\n",
    "        <span class=\"title\">Animal Farm 3</span>\n",
    "    \"\"\",\n",
    "    features=\"lxml\",\n",
    ")\n",
    "\n",
    "discount_selector = PatternSelector(\"Discounted\")\n",
    "price_selector = ClassSelector(\"price\")\n",
    "title_selector = ClassSelector(\"title\")\n",
    "selector = discount_selector + price_selector + title_selector\n",
    "selector.find(soup)"
   ]
  },
  {
   "cell_type": "markdown",
   "metadata": {},
   "source": [
    "### Reducing combinators"
   ]
  },
  {
   "cell_type": "markdown",
   "metadata": {},
   "source": [
    "When using multiple selectors for Higher Order Selector, they can be *reduced* into one by chaining them with operator, `functools.reduce` can be used for this purpose in a convenient way."
   ]
  },
  {
   "cell_type": "code",
   "execution_count": null,
   "metadata": {},
   "outputs": [],
   "source": [
    "from functools import reduce\n",
    "from operator import add\n",
    "\n",
    "from bs4 import BeautifulSoup\n",
    "\n",
    "from soupsavvy import ClassSelector\n",
    "\n",
    "soup = BeautifulSoup(\n",
    "    \"\"\"\n",
    "       <span class=\"c1\"></span>\n",
    "       <span class=\"c2\"></span>\n",
    "       <span class=\"c3\"></span>\n",
    "       <span class=\"c4\"></span>\n",
    "       <span class=\"c5\"></span>\n",
    "    \"\"\",\n",
    "    features=\"lxml\",\n",
    ")\n",
    "\n",
    "selector = reduce(add, (ClassSelector(f\"c{i}\") for i in range(1, 6)))\n",
    "selector.find(soup)"
   ]
  },
  {
   "cell_type": "markdown",
   "metadata": {},
   "source": [
    "### SubsequentSiblingCombinator\n",
    "\n",
    "`SubsequentSiblingCombinator` emulates the behavior of the CSS subsequent sibling combinator. In CSS, the subsequent sibling combinator (denoted by the `~` symbol) selects elements that follow the element matched by the first selector and share the same parent.\n",
    "\n",
    "For example, in CSS:\n",
    "\n",
    "```css\n",
    "div ~ .price\n",
    "```\n",
    "\n",
    "This selector matches all elements with class `price` that are siblings of `<div>` and appear after it in document. For more details, refer to [Mozilla](https://developer.mozilla.org/en-US/docs/Web/CSS/Subsequent-sibling_combinator)."
   ]
  },
  {
   "cell_type": "markdown",
   "metadata": {},
   "source": [
    "#### Usage\n",
    "\n",
    "In `soupsavvy`, the `SubsequentSiblingCombinator` class provides similar functionality. It accepts two or more selectors as positional arguments and returns elements that match the specified preceding-subsequent sibling relationships. For more information on search logic when multiple selectors are provided, refer to the `NextSiblingCombinator` section."
   ]
  },
  {
   "cell_type": "code",
   "execution_count": null,
   "metadata": {},
   "outputs": [],
   "source": [
    "from bs4 import BeautifulSoup\n",
    "\n",
    "from soupsavvy import ClassSelector, SubsequentSiblingCombinator, TypeSelector\n",
    "\n",
    "soup = BeautifulSoup(\n",
    "    \"\"\"\n",
    "        <p class=\"price\">Price: $25</p>\n",
    "        <h2>Discounted</h2>\n",
    "        <span>Bargain!!!</span>\n",
    "        <p class=\"price\">Price: $15</p>\n",
    "        <p class=\"price\">Price: $10</p>\n",
    "    \"\"\",\n",
    "    features=\"lxml\",\n",
    ")\n",
    "\n",
    "discount_selector = TypeSelector(\"h2\")\n",
    "price_selector = ClassSelector(\"price\")\n",
    "selector = SubsequentSiblingCombinator(discount_selector, price_selector)\n",
    "selector.find_all(soup)"
   ]
  },
  {
   "cell_type": "markdown",
   "metadata": {},
   "source": [
    "#### Creating with operator\n",
    "\n",
    "More concise way to create `SubsequentSiblingCombinator` is by using the `*` operator:\n",
    "\n",
    "```python\n",
    "SubsequentSiblingCombinator(left, right) == left * right\n",
    "```\n",
    "\n",
    "Where left selector matches preceding sibling and right selector matches subsequent sibling."
   ]
  },
  {
   "cell_type": "code",
   "execution_count": null,
   "metadata": {},
   "outputs": [],
   "source": [
    "from bs4 import BeautifulSoup\n",
    "\n",
    "from soupsavvy import ClassSelector, TypeSelector\n",
    "\n",
    "soup = BeautifulSoup(\n",
    "    \"\"\"\n",
    "        <p class=\"price\">Price: $25</p>\n",
    "        <h2>Discounted</h2>\n",
    "        <span>Bargain!!!</span>\n",
    "        <p class=\"price\">Price: $15</p>\n",
    "        <p class=\"price\">Price: $10</p>\n",
    "    \"\"\",\n",
    "    features=\"lxml\",\n",
    ")\n",
    "\n",
    "discount_selector = TypeSelector(\"h2\")\n",
    "price_selector = ClassSelector(\"price\")\n",
    "selector = discount_selector * price_selector\n",
    "selector.find(soup)"
   ]
  },
  {
   "cell_type": "markdown",
   "metadata": {},
   "source": [
    "## Logical Selectors"
   ]
  },
  {
   "cell_type": "markdown",
   "metadata": {},
   "source": [
    "Another category of Higher Order Selectors in `soupsavvy` is **Logical Selectors**. These selectors enables you to create new selectors by combining multiple selectors using logical operators like `AND`, `OR`, `NOT` and `XOR`."
   ]
  },
  {
   "cell_type": "markdown",
   "metadata": {},
   "source": [
    "### AndSelector"
   ]
  },
  {
   "cell_type": "markdown",
   "metadata": {},
   "source": [
    "`AndSelector` is the `soupsavvy` equivalent of the CSS compound selector. In CSS, a compound selector is a sequence of simple selectors that are not separated by a combinator. An element matches a compound selector if it satisfies all the simple selectors in the sequence. For example, the following CSS compound selector:\n",
    "\n",
    "```css\n",
    "p.price\n",
    "```\n",
    "\n",
    "matches all `<p>` elements with the class `price`. For more information about this selector refer to [Mozilla](https://developer.mozilla.org/en-US/docs/Web/CSS/CSS_selectors/Selector_structure#compound_selector)."
   ]
  },
  {
   "cell_type": "markdown",
   "metadata": {},
   "source": [
    "#### Usage\n",
    "\n",
    "In `soupsavvy`, the `AndSelector` class achieves similar functionality. It accepts two or more selectors as positional arguments and returns elements that match **all** the specified selectors. This allows for highly specific and precise element selection."
   ]
  },
  {
   "cell_type": "code",
   "execution_count": null,
   "metadata": {},
   "outputs": [],
   "source": [
    "from bs4 import BeautifulSoup\n",
    "\n",
    "from soupsavvy import AndSelector, ClassSelector, TypeSelector\n",
    "\n",
    "soup = BeautifulSoup(\n",
    "    \"\"\"\n",
    "        <p class=\"title\">Animal Farm</p>\n",
    "        <span class=\"price\">Price: $30</p>\n",
    "        <p class=\"price\">Price: $20</p>\n",
    "    \"\"\",\n",
    "    features=\"lxml\",\n",
    ")\n",
    "\n",
    "p_selector = TypeSelector(\"p\")\n",
    "price_selector = ClassSelector(\"price\")\n",
    "selector = AndSelector(p_selector, price_selector)\n",
    "selector.find(soup)"
   ]
  },
  {
   "cell_type": "markdown",
   "metadata": {},
   "source": [
    "#### Creating with operator\n",
    "\n",
    "More concise way to create `AndSelector` is by using the `&` operator:\n",
    "\n",
    "```python\n",
    "AndSelector(left, right) == left & right\n",
    "```\n",
    "\n",
    "Where both left and right selectors must match for element to be selected.\n",
    "\n",
    "It accepts two or more selectors as positional arguments and returns elements that match **all** of them."
   ]
  },
  {
   "cell_type": "code",
   "execution_count": null,
   "metadata": {},
   "outputs": [],
   "source": [
    "import re\n",
    "\n",
    "from bs4 import BeautifulSoup\n",
    "\n",
    "from soupsavvy import AttributeSelector, ClassSelector, PatternSelector, TypeSelector\n",
    "\n",
    "soup = BeautifulSoup(\n",
    "    \"\"\"\n",
    "        <p class=\"title\">Animal Farm</p>\n",
    "        <p class=\"price\">Price: $30</p>\n",
    "        <p class=\"price\">Price: $20</p>\n",
    "        <p class=\"price\" href=\"/shop\">Price: €12</p>\n",
    "        <span class=\"price\" href=\"/shop\">Price: $18</p>\n",
    "        <p class=\"price\" href=\"/shop\">Price: $15</p>\n",
    "    \"\"\",\n",
    "    features=\"lxml\",\n",
    ")\n",
    "\n",
    "selector = (\n",
    "    TypeSelector(\"p\")\n",
    "    & ClassSelector(\"price\")\n",
    "    & AttributeSelector(\"href\", value=\"/shop\")\n",
    "    & PatternSelector(re.compile(r\"\\$\\d+\"))\n",
    ")\n",
    "selector.find(soup)"
   ]
  },
  {
   "cell_type": "markdown",
   "metadata": {},
   "source": [
    "### SelectorList"
   ]
  },
  {
   "cell_type": "markdown",
   "metadata": {},
   "source": [
    "`SelectorList` is `soupsavvy`'s counterpart of the CSS selector list. In CSS, a selector list is a comma-separated collection of selectors, and an element matches the list if it satisfies any of the individual selectors. For example, consider the following CSS selector list:\n",
    "\n",
    "```css\n",
    "h1, h2\n",
    "```\n",
    "\n",
    "This selector list matches all `<h1>` and `<h2>` elements. For more information selector list refer to [Mozilla](https://developer.mozilla.org/en-US/docs/Web/CSS/Selector_list)."
   ]
  },
  {
   "cell_type": "markdown",
   "metadata": {},
   "source": [
    "#### Usage\n",
    "\n",
    "In `soupsavvy`, `SelectorList` (also known as `OrSelector`, which is an alias) offers similar functionality. It accepts two or more selectors as positional arguments and returns elements that match **any** of the specified selectors."
   ]
  },
  {
   "cell_type": "code",
   "execution_count": null,
   "metadata": {},
   "outputs": [],
   "source": [
    "from bs4 import BeautifulSoup\n",
    "\n",
    "from soupsavvy import ClassSelector, OrSelector\n",
    "\n",
    "soup = BeautifulSoup(\n",
    "    \"\"\"\n",
    "        <p class=\"title\">Animal Farm</p>\n",
    "        <span class=\"discount\">\n",
    "            <p class=\"price\">Price: $25</p>\n",
    "        </span>\n",
    "        <p class=\"title\">Brave New World</p>\n",
    "        <p class=\"price\">Price: $15</p>\n",
    "    \"\"\",\n",
    "    features=\"lxml\",\n",
    ")\n",
    "\n",
    "title_selector = ClassSelector(\"title\")\n",
    "price_selector = ClassSelector(\"price\")\n",
    "discount_price_selector = title_selector + ClassSelector(\"discount\") > price_selector\n",
    "standard_price_selector = title_selector + price_selector\n",
    "\n",
    "selector = OrSelector(discount_price_selector, standard_price_selector)\n",
    "selector.find_all(soup)"
   ]
  },
  {
   "cell_type": "markdown",
   "metadata": {},
   "source": [
    "#### Creating with operator\n",
    "\n",
    "More concise way to create `SelectorList` is by using the `|` operator:\n",
    "\n",
    "```python\n",
    "SelectorList(left, right) == left | right\n",
    "```\n",
    "Where any of left or right selector must match for element to be selected.\n",
    "\n",
    "It accepts two or more selectors as positional arguments and returns elements that match **any** of them."
   ]
  },
  {
   "cell_type": "code",
   "execution_count": null,
   "metadata": {},
   "outputs": [],
   "source": [
    "from bs4 import BeautifulSoup\n",
    "\n",
    "from soupsavvy import ClassSelector\n",
    "\n",
    "soup = BeautifulSoup(\n",
    "    \"\"\"\n",
    "        <p class=\"title\">Animal Farm</p>\n",
    "        <span class=\"discount\">\n",
    "            <p class=\"price\">Price: $25</p>\n",
    "        </span>\n",
    "        <p class=\"title\">Brave New World</p>\n",
    "        <p class=\"price\">Price: $15</p>\n",
    "    \"\"\",\n",
    "    features=\"lxml\",\n",
    ")\n",
    "\n",
    "title_selector = ClassSelector(\"title\")\n",
    "price_selector = ClassSelector(\"price\")\n",
    "discount_price_selector = title_selector + ClassSelector(\"discount\") > price_selector\n",
    "standard_price_selector = title_selector + price_selector\n",
    "\n",
    "selector = discount_price_selector | standard_price_selector\n",
    "selector.find_all(soup)"
   ]
  },
  {
   "cell_type": "markdown",
   "metadata": {},
   "source": [
    "#### Equality\n",
    "\n",
    "The `SelectorList` in `soupsavvy` is unique in that it functions both as a combinator (due to its CSS-like use case) and as a logical selector (because of its general logic). Unlike other combinators, the order of selectors within a `SelectorList` is not significant, changing the order will not affect the results."
   ]
  },
  {
   "cell_type": "code",
   "execution_count": null,
   "metadata": {},
   "outputs": [],
   "source": [
    "from soupsavvy import ClassSelector, SelectorList\n",
    "\n",
    "discount_selector = ClassSelector(\"discount\")\n",
    "price_selector = ClassSelector(\"price\")\n",
    "\n",
    "print(\n",
    "    SelectorList(discount_selector, price_selector)\n",
    "    == SelectorList(price_selector, discount_selector)\n",
    ")"
   ]
  },
  {
   "cell_type": "markdown",
   "metadata": {},
   "source": [
    "Additionally, two `SelectorList` instances can be considered equal even if they contain a different number of selectors, as long as they match the same elements."
   ]
  },
  {
   "cell_type": "code",
   "execution_count": null,
   "metadata": {},
   "outputs": [],
   "source": [
    "from soupsavvy import AttributeSelector, ClassSelector, SelectorList\n",
    "\n",
    "discount_selector = ClassSelector(\"discount\")\n",
    "price_selector = ClassSelector(\"price\")\n",
    "another_price_selector = AttributeSelector(\"class\", value=\"price\")\n",
    "\n",
    "print(\n",
    "    SelectorList(discount_selector, price_selector)\n",
    "    == SelectorList(discount_selector, price_selector, another_price_selector)\n",
    ")"
   ]
  },
  {
   "cell_type": "markdown",
   "metadata": {},
   "source": [
    "#### API shortcuts"
   ]
  },
  {
   "cell_type": "markdown",
   "metadata": {},
   "source": [
    "`SelectorList` can also be created using `soupsavvy` API shortcut functions. These functions—`is_`, `or_`, and `where_`—provide alternative ways to instantiate a `SelectorList`. All these functions are equivalent and can be used interchangeably, depending on the context or the developer's preference.\n",
    "\n",
    "For example, in CSS:\n",
    "\n",
    "```css\n",
    ":is(h1, h2)\n",
    ":where(h1, h2)\n",
    "```\n",
    "\n",
    "Both `:is` and `:where` match all `<h1>` and `<h2>` elements. In `soupsavvy`, the `is_` and `where_` functions mimic these pseudo-classes. While they differ in terms of specificity in CSS, here, they are interchangeable. `or_` function serves as a more intuitive alias, especially when using `SelectorList` in a logical selector context.\n",
    "\n",
    "For more information about these CSS pseudo-classes, refer to [:is()](https://developer.mozilla.org/en-US/docs/Web/CSS/:is) and [:where()](https://developer.mozilla.org/en-US/docs/Web/CSS/:where)."
   ]
  },
  {
   "cell_type": "markdown",
   "metadata": {},
   "source": [
    "### NotSelector"
   ]
  },
  {
   "cell_type": "markdown",
   "metadata": {},
   "source": [
    "`NotSelector` in `soupsavvy` corresponds to the CSS `:not()` pseudo-class. In CSS, `:not()` is used to exclude elements that match a certain selector. It allows you to apply styles to elements that do not match the specified criteria. For example:\n",
    "\n",
    "```css\n",
    ":not(.discount)\n",
    "```\n",
    "\n",
    "This selector matches all  elements except those that have the class `discount`. For further details, refer to [Mozilla](https://developer.mozilla.org/en-US/docs/Web/CSS/:not)."
   ]
  },
  {
   "cell_type": "markdown",
   "metadata": {},
   "source": [
    "#### Usage\n",
    "\n",
    "In `soupsavvy`, `NotSelector` provides similar functionality. It accepts one or more selectors as arguments and returns elements that do **not** match **any** of the specified selectors."
   ]
  },
  {
   "cell_type": "code",
   "execution_count": null,
   "metadata": {},
   "outputs": [],
   "source": [
    "from bs4 import BeautifulSoup\n",
    "\n",
    "from soupsavvy import ClassSelector, NotSelector\n",
    "\n",
    "soup = BeautifulSoup(\n",
    "    \"\"\"\n",
    "        <p class=\"price discount\">Price: €10</p>\n",
    "        <p class=\"price\">Price: $20</p>\n",
    "        <p class=\"price\">Price: €15</p>\n",
    "    \"\"\",\n",
    "    features=\"html.parser\",\n",
    ")\n",
    "\n",
    "discount_selector = ClassSelector(\"discount\")\n",
    "selector = NotSelector(discount_selector)\n",
    "selector.find(soup)"
   ]
  },
  {
   "cell_type": "markdown",
   "metadata": {},
   "source": [
    "#### Creating with operator\n",
    "\n",
    "More concise way to create `NotSelector` is by using the `~` operator:\n",
    "\n",
    "```python\n",
    "NotSelector(left) == ~selector\n",
    "```\n",
    "In this case, the element must not match the given selector to be selected."
   ]
  },
  {
   "cell_type": "code",
   "execution_count": null,
   "metadata": {},
   "outputs": [],
   "source": [
    "from bs4 import BeautifulSoup\n",
    "\n",
    "from soupsavvy import ClassSelector\n",
    "\n",
    "soup = BeautifulSoup(\n",
    "    \"\"\"\n",
    "        <p class=\"price discount\">Price: €10</p>\n",
    "        <p class=\"price\">Price: $20</p>\n",
    "        <p class=\"price\">Price: €15</p>\n",
    "    \"\"\",\n",
    "    features=\"html.parser\",\n",
    ")\n",
    "\n",
    "discount_selector = ClassSelector(\"discount\")\n",
    "selector = ~discount_selector\n",
    "selector.find(soup)"
   ]
  },
  {
   "cell_type": "markdown",
   "metadata": {},
   "source": [
    "#### Multiple selectors\n",
    "\n",
    "It accepts two or more selectors as positional arguments and returns elements that do **not** match **any** of them.  Since the `~` operator accepts only one operand, you can use `SelectorList` to negate multiple selectors:\n",
    "\n",
    "```python\n",
    "NotSelector(left, right) == ~(left | right)\n",
    "```\n",
    "\n",
    "This is equivalent to the logical expression:\n",
    "\n",
    "```python\n",
    "if not any([left, right]):\n",
    "    ...\n",
    "```"
   ]
  },
  {
   "cell_type": "code",
   "execution_count": null,
   "metadata": {},
   "outputs": [],
   "source": [
    "\n",
    "import re\n",
    "\n",
    "from bs4 import BeautifulSoup\n",
    "\n",
    "from soupsavvy import ClassSelector, NotSelector, PatternSelector\n",
    "\n",
    "soup = BeautifulSoup(\n",
    "    \"\"\"\n",
    "        <p class=\"price discount\">Price: €10</p>\n",
    "        <p class=\"price\">Price: $20</p>\n",
    "        <p class=\"price\">Price: €15</p>\n",
    "    \"\"\",\n",
    "    features=\"html.parser\",\n",
    ")\n",
    "\n",
    "discount_selector = ClassSelector(\"discount\")\n",
    "dollars_selector = PatternSelector(re.compile(r\"\\$\\d+\"))\n",
    "selector = NotSelector(discount_selector, dollars_selector)\n",
    "selector.find(soup)"
   ]
  },
  {
   "cell_type": "markdown",
   "metadata": {},
   "source": [
    "Alternative way of defining `NotSelector` with multiple selectors is by using `~` operator on `SelectorList`:"
   ]
  },
  {
   "cell_type": "code",
   "execution_count": null,
   "metadata": {},
   "outputs": [],
   "source": [
    "import re\n",
    "\n",
    "from bs4 import BeautifulSoup\n",
    "\n",
    "from soupsavvy import ClassSelector, PatternSelector\n",
    "\n",
    "soup = BeautifulSoup(\n",
    "    \"\"\"\n",
    "        <p class=\"price discount\">Price: €10</p>\n",
    "        <p class=\"price\">Price: $20</p>\n",
    "        <p class=\"price\">Price: €15</p>\n",
    "    \"\"\",\n",
    "    features=\"html.parser\",\n",
    ")\n",
    "\n",
    "discount_selector = ClassSelector(\"discount\")\n",
    "dollars_selector = PatternSelector(re.compile(r\"\\$\\d+\"))\n",
    "selector = ~(discount_selector | dollars_selector)\n",
    "selector.find(soup)"
   ]
  },
  {
   "cell_type": "markdown",
   "metadata": {},
   "source": [
    "### XORSelector"
   ]
  },
  {
   "cell_type": "markdown",
   "metadata": {},
   "source": [
    "`XORSelector` is `soupsavvy`'s counterpart of the logical XOR operation, where an element is selected only if it matches exactly one of the provided selectors, but not more than one.\n",
    "\n",
    "In CSS, there's no direct equivalent to `XORSelector`, but this can be achieved through selector list with compound selectors and `:not()` pseudo-class. For example this CSS:\n",
    "\n",
    "```css \n",
    "span:not(.discount), .discount:not(span)\n",
    "```\n",
    "\n",
    "Matches all `<span>` elements that do not have the class `discount` and all elements with the class `discount` that are not `<span>` elements."
   ]
  },
  {
   "cell_type": "markdown",
   "metadata": {},
   "source": [
    "#### Usage"
   ]
  },
  {
   "cell_type": "code",
   "execution_count": null,
   "metadata": {},
   "outputs": [],
   "source": [
    "from bs4 import BeautifulSoup\n",
    "\n",
    "from soupsavvy import ClassSelector, TypeSelector, XORSelector\n",
    "\n",
    "soup = BeautifulSoup(\n",
    "    \"\"\"\n",
    "        <span class=\"discount\">Buy!</span>\n",
    "        <p class=\"price\">Price: $10</p>\n",
    "        <span class=\"price\">Price: $20</span>\n",
    "        <p class=\"discount\">Price: $30</p>\n",
    "    \"\"\",\n",
    "    features=\"lxml\",\n",
    ")\n",
    "\n",
    "discount_selector = ClassSelector(\"discount\")\n",
    "span_selector = TypeSelector(\"span\")\n",
    "selector = XORSelector(discount_selector, span_selector)\n",
    "selector.find_all(soup)"
   ]
  },
  {
   "cell_type": "markdown",
   "metadata": {},
   "source": [
    "This logic could be achieved by combining `SelectorList` and `NotSelector` in `soupsavvy`."
   ]
  },
  {
   "cell_type": "code",
   "execution_count": null,
   "metadata": {},
   "outputs": [],
   "source": [
    "from soupsavvy import ClassSelector, TypeSelector\n",
    "\n",
    "discount_selector = ClassSelector(\"discount\")\n",
    "span_selector = TypeSelector(\"span\")\n",
    "\n",
    "xor = (discount_selector & ~span_selector) | (~discount_selector & span_selector)"
   ]
  },
  {
   "cell_type": "markdown",
   "metadata": {},
   "source": [
    "#### Multiple selectors"
   ]
  },
  {
   "cell_type": "markdown",
   "metadata": {},
   "source": [
    "However, it is not scalable in case of having multiple selectors. `XORSelector` provides a more concise and readable way to express this logic. It accept two or more selectors as positional arguments and returns elements that match **exactly one** of the provided selectors."
   ]
  },
  {
   "cell_type": "code",
   "execution_count": null,
   "metadata": {},
   "outputs": [],
   "source": [
    "import re\n",
    "\n",
    "from bs4 import BeautifulSoup\n",
    "\n",
    "from soupsavvy import ClassSelector, PatternSelector, TypeSelector, XORSelector\n",
    "\n",
    "soup = BeautifulSoup(\n",
    "    \"\"\"\n",
    "        <span class=\"discount\">Buy!</span>\n",
    "        <p class=\"price\">Price: $10</p>\n",
    "        <span class=\"price\">Price: $20</span>\n",
    "        <p class=\"discount\">Price: $30</p>\n",
    "        <p class=\"discount\">Only Today: $8</p>\n",
    "        <span>Only Today: $7</span>\n",
    "        <p>Only Today: $6</p>\n",
    "    \"\"\",\n",
    "    features=\"lxml\",\n",
    ")\n",
    "\n",
    "discount_selector = ClassSelector(\"discount\")\n",
    "span_selector = TypeSelector(\"span\")\n",
    "only_today_selector = PatternSelector(re.compile(\"Only Today:\"))\n",
    "selector = XORSelector(discount_selector, span_selector, only_today_selector)\n",
    "selector.find_all(soup)"
   ]
  },
  {
   "cell_type": "markdown",
   "metadata": {},
   "source": [
    "## Relative Selectors"
   ]
  },
  {
   "cell_type": "markdown",
   "metadata": {},
   "source": [
    "The next category of Higher Order Selectors in `soupsavvy` is **Relative Selectors**. As outlined by [Mozilla](https://developer.mozilla.org/en-US/docs/Web/CSS/CSS_selectors/Selector_structure#relative_selector), in CSS, a relative selector represents an element in relation to one or more anchor elements, typically introduced by a combinator. If a relative selector doesn't start with an explicit combinator, it is interpreted as having an implied descendant combinator.\n",
    "\n",
    "### CSS vs soupsavvy\n",
    "\n",
    "In CSS, relative selectors are generally used within specific contexts, such as the `:has()` pseudo-class. For example, consider this CSS:\n",
    "\n",
    "```css\n",
    ":has(> .price)\n",
    "```\n",
    "\n",
    "This selector matches any element that has a direct child with the class `price`. Here, the `anchor element` is the one being matched by the `> .price` relative selector. However, CSS restricts the use of relative selectors in a selector list, allowing them only in specific contexts.\n",
    "\n",
    "In contrast, `soupsavvy` provides greater flexibility with relative selectors. These selectors can be used in any context, allowing you to search for elements relative to an `anchor element` passed directly to the `find` methods of these selectors."
   ]
  },
  {
   "cell_type": "markdown",
   "metadata": {},
   "source": [
    "### RelativeChild\n",
    "\n",
    "Consider an example where the `RelativeChild` selector is used to find all elements with the class `price` that are direct children of the `body` element.\n",
    "\n",
    "In this case:\n",
    "- The `anchor element` is the `body` element.\n",
    "- The `relative element` is any element with the class `price` that is a direct child of the `body` element.\n",
    "\n",
    "In CSS, this would correspond to the selector `body > .price`, where `body` serves as the dynamically defined `anchor element`."
   ]
  },
  {
   "cell_type": "code",
   "execution_count": null,
   "metadata": {},
   "outputs": [],
   "source": [
    "from bs4 import BeautifulSoup\n",
    "\n",
    "from soupsavvy import AttributeSelector\n",
    "from soupsavvy.selectors.relative import RelativeChild\n",
    "\n",
    "soup = BeautifulSoup(\n",
    "    \"\"\"\n",
    "        <p class=\"title\">Animal Farm</p>\n",
    "        <p class=\"discount\">Price: $20</p>\n",
    "        <p class=\"price\">Price: $30</p>\n",
    "    \"\"\",\n",
    "    features=\"html.parser\",\n",
    ")\n",
    "\n",
    "selector = AttributeSelector(\"class\", value=\"price\")\n",
    "relative = RelativeChild(selector)\n",
    "relative.find(soup)"
   ]
  },
  {
   "cell_type": "markdown",
   "metadata": {},
   "source": [
    "### Anchor"
   ]
  },
  {
   "cell_type": "markdown",
   "metadata": {},
   "source": [
    "You can create relative selectors in `soupsavvy` using the `Anchor` class, which allows you to chain selectors using specific operators:\n",
    "\n",
    "- `>>` creates a `RelativeDescendant`\n",
    "- `>` creates a `RelativeChild`\n",
    "- `+` creates a `RelativeNextSibling`\n",
    "- `*` creates a `RelativeSubsequentSibling`\n",
    "\n",
    "These operators function similarly to how they are used with combinators, allowing you to define relationships between elements relative to a given anchor."
   ]
  },
  {
   "cell_type": "code",
   "execution_count": null,
   "metadata": {},
   "outputs": [],
   "source": [
    "from bs4 import BeautifulSoup\n",
    "\n",
    "from soupsavvy import Anchor, AttributeSelector\n",
    "\n",
    "soup = BeautifulSoup(\n",
    "    \"\"\"\n",
    "        <p class=\"title\">Animal Farm</p>\n",
    "        <p class=\"discount\">Price: $20</p>\n",
    "        <p class=\"price\">Price: $30</p>\n",
    "    \"\"\",\n",
    "    features=\"html.parser\",\n",
    ")\n",
    "\n",
    "selector = AttributeSelector(\"class\", value=\"price\")\n",
    "relative = Anchor > selector\n",
    "print(type(relative))\n",
    "relative.find(soup)"
   ]
  },
  {
   "cell_type": "markdown",
   "metadata": {},
   "source": [
    "### Behavior of Relative Selectors\n",
    "\n",
    "Relative selectors in `soupsavvy` have unique behaviors that distinguish them from other selectors:\n",
    "\n",
    "- **`RelativeChild`**: Always returns direct children of the searched element, regardless of the `recursive` parameter.\n",
    "- **`RelativeDescendant`**: Always returns descendants of the searched element, even if `recursive` is set to `False`.\n",
    "- **`RelativeNextSibling`** and **`RelativeSubsequentSibling`**: Always search for siblings of the searched element."
   ]
  },
  {
   "cell_type": "code",
   "execution_count": null,
   "metadata": {},
   "outputs": [],
   "source": [
    "from bs4 import BeautifulSoup\n",
    "\n",
    "from soupsavvy import AttributeSelector\n",
    "from soupsavvy.selectors.relative import RelativeChild\n",
    "\n",
    "soup = BeautifulSoup(\n",
    "    \"\"\"\n",
    "        <p class=\"title\">Animal Farm</p>\n",
    "        <p class=\"discount\">Price: $20</p>\n",
    "        <p class=\"price\">Price: $30</p>\n",
    "        <div>\n",
    "            <p class=\"price\">Price: $40</p>\n",
    "        </div>\n",
    "    \"\"\",\n",
    "    features=\"html.parser\",\n",
    ")\n",
    "\n",
    "selector = AttributeSelector(\"class\", value=\"price\")\n",
    "relative = RelativeChild(selector)\n",
    "\n",
    "print(relative.find_all(soup, recursive=False))\n",
    "print(relative.find_all(soup, recursive=True))"
   ]
  },
  {
   "cell_type": "markdown",
   "metadata": {},
   "source": [
    "### RelativeNextSibling\n",
    "\n",
    "Let's say you want to find elements that are immediate siblings of the `div` (searched element) and have the class `price`. You would use `RelativeNextSibling`:\n",
    "\n",
    "This will return elements that are the immediate next sibling of the `div` element and have the class `price`. Since only one element can be the next sibling, this selector will return at most one element."
   ]
  },
  {
   "cell_type": "code",
   "execution_count": null,
   "metadata": {},
   "outputs": [],
   "source": [
    "from bs4 import BeautifulSoup\n",
    "\n",
    "from soupsavvy import AttributeSelector\n",
    "from soupsavvy.selectors.relative import RelativeNextSibling\n",
    "\n",
    "soup = BeautifulSoup(\n",
    "    \"\"\"\n",
    "        <p class=\"title\">Animal Farm</p>\n",
    "        <div class=\"section\">Book 1</div>\n",
    "        <p class=\"price\">Price: $30</p>\n",
    "        <p class=\"discount\">Price: $20</p>\n",
    "        <p class=\"price\">Price: $10</p>\n",
    "    \"\"\",\n",
    "    features=\"lxml\",\n",
    ")\n",
    "\n",
    "selector = AttributeSelector(\"class\", value=\"price\")\n",
    "relative = RelativeNextSibling(selector)\n",
    "relative.find_all(soup.div)  # type: ignore"
   ]
  },
  {
   "cell_type": "markdown",
   "metadata": {},
   "source": [
    "### Recursivity\n",
    "\n",
    "Another powerful use of relative selectors in `soupsavvy` is their ability to \"lock\" the recursive behavior of other selectors. For example, when used within a `SelectorList`, `RelativeChild` ensures that matching elements are only found among the direct children of the searched element, regardless of the `recursive` parameter's setting. This allows for more precise control over the scope of element selection in complex queries."
   ]
  },
  {
   "cell_type": "code",
   "execution_count": null,
   "metadata": {},
   "outputs": [],
   "source": [
    "from bs4 import BeautifulSoup\n",
    "\n",
    "from soupsavvy import Anchor, AttributeSelector\n",
    "\n",
    "soup = BeautifulSoup(\n",
    "    \"\"\"\n",
    "        <p class=\"title\">Animal Farm</p>\n",
    "        <p class=\"discount\">Price: $20</p>\n",
    "        <p class=\"price\">Price: $30</p>\n",
    "        <div>\n",
    "            <p class=\"price\">Price: $40</p>\n",
    "            <a href=\"/shop\">Buy Now</a>\n",
    "        </div>\n",
    "    \"\"\",\n",
    "    features=\"html.parser\",\n",
    ")\n",
    "\n",
    "price_selector = AttributeSelector(\"class\", value=\"price\")\n",
    "shop_selector = AttributeSelector(\"href\", value=\"/shop\")\n",
    "and_selector = (Anchor > price_selector) | shop_selector\n",
    "and_selector.find_all(soup, recursive=True)"
   ]
  },
  {
   "cell_type": "markdown",
   "metadata": {},
   "source": [
    "### HasSelector"
   ]
  },
  {
   "cell_type": "markdown",
   "metadata": {},
   "source": [
    "The `HasSelector` in `soupsavvy` corresponds to the CSS `:has()` pseudo-class. As explained by [Mozilla](https://developer.mozilla.org/en-US/docs/Web/CSS/:has), this pseudo-class represents an element if any of the relative selectors passed as an argument match at least one element when anchored against this element.\n",
    "\n",
    "#### CSS vs soupsavvy\n",
    "\n",
    "In CSS, the `:has()` pseudo-class allows for matching an element based on the presence of its child or another relative element. For example:\n",
    "\n",
    "```css\n",
    ":has(> .price)\n",
    "```\n",
    "\n",
    "This CSS selector matches any element that has a direct child with the class `price`. Here, the element matched by the `:has()` pseudo-class is the one that contains the `.price` element as a direct child.\n",
    "\n",
    "In `soupsavvy`, the `HasSelector` provides similar functionality. It accepts one or more selectors as arguments and returns elements if any of the relative selectors match at least one element when anchored against the current element."
   ]
  },
  {
   "cell_type": "markdown",
   "metadata": {},
   "source": [
    "#### Default Recursive Search\n",
    "\n",
    "When you use the `HasSelector` without specifying a combinator, it defaults to the descendant combinator. This means that any selector passed to `HasSelector` that is not a `Relative Selector` or is `RelativeDescendant` will use the `recursive` search logic. In practical terms, this will search through all descendants of the anchor element to find matches. For instance, if a `<body>` element matches the selector, its parent `<html>` element will also be selected."
   ]
  },
  {
   "cell_type": "code",
   "execution_count": null,
   "metadata": {},
   "outputs": [],
   "source": [
    "from bs4 import BeautifulSoup\n",
    "\n",
    "from soupsavvy import ClassSelector, HasSelector\n",
    "\n",
    "soup = BeautifulSoup(\n",
    "    \"\"\"\n",
    "    <div class=\"book\">\n",
    "        <span class=\"title\">Brave New World</span>\n",
    "        <p class=\"price\">Price: $20</p>\n",
    "    </div>\n",
    "    <div class=\"book\">\n",
    "        <span class=\"title\">Animal Farm</span>\n",
    "        <span>\n",
    "            <span class=\"discount\">\n",
    "                <p class=\"price\">Price: $15</p>\n",
    "            </span>\n",
    "        </span>\n",
    "        <p class=\"price\">Price: $20</p>\n",
    "    </div>\n",
    "    \"\"\",\n",
    "    features=\"html.parser\",\n",
    ")\n",
    "\n",
    "discount_selector = ClassSelector(\"discount\")\n",
    "selector = HasSelector(discount_selector)\n",
    "selector.find_all(soup)"
   ]
  },
  {
   "cell_type": "markdown",
   "metadata": {},
   "source": [
    "#### Multiple Selectors\n",
    "\n",
    "When multiple selectors are used with `HasSelector`, it will return elements that match **any** of the provided selectors."
   ]
  },
  {
   "cell_type": "code",
   "execution_count": null,
   "metadata": {},
   "outputs": [],
   "source": [
    "from bs4 import BeautifulSoup\n",
    "\n",
    "from soupsavvy import ClassSelector, HasSelector, PatternSelector\n",
    "\n",
    "soup = BeautifulSoup(\n",
    "    \"\"\"\n",
    "    <div class=\"book\">\n",
    "        <span class=\"title\">Brave New World</span>\n",
    "        <p class=\"price\">Price: $20</p>\n",
    "    </div>\n",
    "    <div class=\"book\">\n",
    "        <span class=\"title\">Animal Farm</span>\n",
    "        <span class=\"discount\">\n",
    "            <p class=\"price\">Price: $15</p>\n",
    "        </span>\n",
    "        <p class=\"price\">Price: $20</p>\n",
    "    </div>\n",
    "    <div class=\"book\">\n",
    "        <span>Bestseller</span>\n",
    "        <span class=\"title\">Frankenstein</span>\n",
    "        <p class=\"price\">Price: $30</p>\n",
    "    </div>\n",
    "    \"\"\",\n",
    "    features=\"html.parser\",\n",
    ")\n",
    "\n",
    "discount_selector = ClassSelector(\"discount\")\n",
    "bestseller_selector = PatternSelector(\"Bestseller\")\n",
    "selector = HasSelector(discount_selector, bestseller_selector)\n",
    "selector.find_all(soup)"
   ]
  },
  {
   "cell_type": "markdown",
   "metadata": {},
   "source": [
    "#### Relative Selectors\n",
    "\n",
    "By using relative selectors, you can define specific relationships other than descendants between the anchor and relative elements. For instance, you can search for elements that have a specific next sibling, rather than just a descendant.\n",
    "\n",
    "To find elements that have a direct next sibling with the class `price`, you would use `RelativeNextSibling` within `HasSelector`:"
   ]
  },
  {
   "cell_type": "code",
   "execution_count": null,
   "metadata": {},
   "outputs": [],
   "source": [
    "from bs4 import BeautifulSoup\n",
    "\n",
    "from soupsavvy import Anchor, AttributeSelector, HasSelector\n",
    "\n",
    "soup = BeautifulSoup(\n",
    "    \"\"\"\n",
    "        <p class=\"title\">Animal Farm</p>\n",
    "        <p class=\"discount\">Price: $20</p>\n",
    "        <div class=\"section\">Book 1</div>\n",
    "        <p class=\"price\">Price: $30</p>\n",
    "    \"\"\",\n",
    "    features=\"lxml\",\n",
    ")\n",
    "\n",
    "selector = AttributeSelector(\"class\", value=\"price\")\n",
    "has_selector = HasSelector(Anchor + selector)\n",
    "has_selector.find(soup)"
   ]
  },
  {
   "cell_type": "markdown",
   "metadata": {},
   "source": [
    "#### Compound Selectors\n",
    "\n",
    "You can mimic CSS compound selectors with the `:has()` pseudo-class by combining `HasSelector` with `AndSelector`. For example:\n",
    "\n",
    "```css\n",
    "div:has(> .price)\n",
    "```\n",
    "\n",
    "The above CSS would match any `<div>` element that has a direct child with the class `price`.\n",
    "\n",
    "In `soupsavvy`, this can be achieved by combining `HasSelector` with `RelativeChild` and `AndSelector`."
   ]
  },
  {
   "cell_type": "code",
   "execution_count": null,
   "metadata": {},
   "outputs": [],
   "source": [
    "from bs4 import BeautifulSoup\n",
    "\n",
    "from soupsavvy import Anchor, ClassSelector, HasSelector, TypeSelector\n",
    "\n",
    "soup = BeautifulSoup(\n",
    "    \"\"\"\n",
    "        <div><p class=\"discount\">Price: $20</p></div>\n",
    "        <span><p class=\"price\">Price: $30</p></div>\n",
    "        <div><p class=\"price\">Price: $40</p></div>\n",
    "    \"\"\",\n",
    "    features=\"lxml\",\n",
    ")\n",
    "\n",
    "relative = Anchor > ClassSelector(\"price\")\n",
    "has_selector = HasSelector(relative) & TypeSelector(\"div\")\n",
    "has_selector.find(soup)"
   ]
  },
  {
   "cell_type": "markdown",
   "metadata": {},
   "source": [
    "#### Mixed Relative Selectors\n",
    "\n",
    "You can also mix different relative selectors within `HasSelector`. For example, to find elements that have a next sibling with text content `Read more` or child with class `price`, you would use:"
   ]
  },
  {
   "cell_type": "code",
   "execution_count": null,
   "metadata": {},
   "outputs": [],
   "source": [
    "from bs4 import BeautifulSoup\n",
    "\n",
    "from soupsavvy import Anchor, AttributeSelector, HasSelector, PatternSelector\n",
    "\n",
    "soup = BeautifulSoup(\n",
    "    \"\"\"\n",
    "        <div class=\"newspaper\">\n",
    "            <p class=\"title\">New York Times</p>\n",
    "            <h1>Only 5$!</h1>\n",
    "        </div>\n",
    "        <p>Read more</p>\n",
    "        <div class=\"book\">\n",
    "            <span>Animal Farm</span>\n",
    "            <p class=\"price\">Price: $30</p>\n",
    "        </div>\n",
    "    \"\"\",\n",
    "    features=\"lxml\",\n",
    ")\n",
    "\n",
    "relative_newspaper = Anchor + PatternSelector(\"Read more\")\n",
    "relative_book = Anchor > AttributeSelector(\"class\", value=\"price\")\n",
    "has_selector = HasSelector(relative_newspaper, relative_book)\n",
    "has_selector.find_all(soup)"
   ]
  },
  {
   "cell_type": "markdown",
   "metadata": {},
   "source": [
    "#### RelativeSubsequentSibling\n",
    "\n",
    "The `RelativeSubsequentSibling` within `HasSelector` can be used to find elements that are siblings preceding a specific **relative element**. For example, to find all siblings preceding the element with text content `Stop` you would use:"
   ]
  },
  {
   "cell_type": "code",
   "execution_count": null,
   "metadata": {},
   "outputs": [],
   "source": [
    "from bs4 import BeautifulSoup\n",
    "\n",
    "from soupsavvy import Anchor, HasSelector, PatternSelector\n",
    "\n",
    "soup = BeautifulSoup(\n",
    "    \"\"\"\n",
    "        <div class=\"countdown\">4</div>\n",
    "        <span>3</span>\n",
    "        <p id=\"fgai23\">2</p>\n",
    "        <a href=\"https://example.com\">1</a>\n",
    "        <span>Stop</span>\n",
    "        <p>Go</p>\n",
    "    \"\"\",\n",
    "    features=\"lxml\",\n",
    ")\n",
    "\n",
    "relative_countdown = Anchor * PatternSelector(\"Stop\")\n",
    "has_selector = HasSelector(relative_countdown)\n",
    "has_selector.find_all(soup)"
   ]
  },
  {
   "cell_type": "markdown",
   "metadata": {},
   "source": [
    "## Nth Selectors"
   ]
  },
  {
   "cell_type": "markdown",
   "metadata": {},
   "source": [
    "CSS provides several pseudo-classes such as `nth-child`, `nth-of-type`, and others, which allow you to select elements based on their position within a list of siblings. However, these CSS selectors are limited to selecting elements based on their ordinal position among all siblings. `soupsavvy` extends this functionality with a set of `Nth` selectors that allow you to select the nth element that matches a given selector, rather than just the nth child.\n",
    "\n",
    "The `soupsavvy.selectors.nth` module introduces three components:\n",
    "\n",
    "- **NthOfSelector**\n",
    "- **NthLastOfSelector**\n",
    "- **OnlyOfSelector**\n",
    "\n",
    "Which allow you to perform more advanced selections based on the position of elements that match specific criteria.\n",
    "\n",
    "#### CSS vs soupsavvy\n",
    "\n",
    "For instance, if you want to select every 2nd element with a class `price`, this would be impossible in pure CSS, because:\n",
    "\n",
    "```css\n",
    ".price:nth-child(2n)\n",
    "```\n",
    "\n",
    "would select every element that is the 2nd child **and** has the class `price`, not every 3rd element with the class `price`!\n",
    "\n",
    "In `soupsavvy`, this can be achieved with:\n",
    "\n",
    "```python\n",
    "NthOfSelector(ClassSelector('price'), nth=\"3n\")\n",
    "```\n",
    "\n",
    "This selector would correctly select every 3rd element that matches the `price` class."
   ]
  },
  {
   "cell_type": "markdown",
   "metadata": {},
   "source": [
    "#### NthOfSelector\n",
    "\n",
    "The `NthOfSelector` allows you to select elements that match a specified pattern of occurrence, based on the `nth` rule. Provided `nth` needs to be valid CSS nth rule `(<An+B> | even | odd)`. For example, to select every 2nd element with a class `price`, you would use:"
   ]
  },
  {
   "cell_type": "code",
   "execution_count": null,
   "metadata": {},
   "outputs": [],
   "source": [
    "from bs4 import BeautifulSoup\n",
    "\n",
    "from soupsavvy import ClassSelector\n",
    "from soupsavvy.selectors.nth import NthOfSelector\n",
    "\n",
    "soup = BeautifulSoup(\n",
    "    \"\"\"\n",
    "        <span class=\"title\">Animal Farm</span>\n",
    "        <p class=\"price discount\">Price: €1</p>\n",
    "        <p class=\"price\">Price: $2</p>\n",
    "        <span>Bestseller</span>\n",
    "        <p class=\"price\">Price: €3</p>\n",
    "        <p class=\"price\">Price: €4</p>\n",
    "        <p class=\"price\">Price: €5</p>\n",
    "    \"\"\",\n",
    "    features=\"lxml\",\n",
    ")\n",
    "\n",
    "price_selector = ClassSelector(\"price\")\n",
    "selector = NthOfSelector(price_selector, nth=\"2n\")\n",
    "selector.find_all(soup)"
   ]
  },
  {
   "cell_type": "markdown",
   "metadata": {},
   "source": [
    "#### NthLastOfSelector\n",
    "\n",
    "The `NthLastOfSelector` works similarly to `NthOfSelector` but counts elements from the end of the list. It selects the nth element matching the provided selector, starting from the last element and moving backward."
   ]
  },
  {
   "cell_type": "code",
   "execution_count": null,
   "metadata": {},
   "outputs": [],
   "source": [
    "import re\n",
    "\n",
    "from bs4 import BeautifulSoup\n",
    "\n",
    "from soupsavvy import PatternSelector\n",
    "from soupsavvy.selectors.nth import NthLastOfSelector\n",
    "\n",
    "soup = BeautifulSoup(\n",
    "    \"\"\"\n",
    "        <span class=\"title\">Animal Farm</span>\n",
    "        <p class=\"price discount\">Price: €1</p>\n",
    "        <p>Price: $2</p>\n",
    "        <span>Bestseller</span>\n",
    "        <p class=\"price\">Price: €3</p>\n",
    "        <p>Price: €4</p>\n",
    "        <p class=\"price\">Price: €5</p>\n",
    "    \"\"\",\n",
    "    features=\"lxml\",\n",
    ")\n",
    "\n",
    "price_selector = PatternSelector(re.compile(\"^price\", re.IGNORECASE))\n",
    "selector = NthLastOfSelector(price_selector, nth=\"odd\")\n",
    "selector.find_all(soup)"
   ]
  },
  {
   "cell_type": "markdown",
   "metadata": {},
   "source": [
    "#### OnlyOfSelector\n",
    "\n",
    "The `OnlyOfSelector` is used to select an element if it is the **only** element that matches the provided selector among its siblings. If more than one element matches the selector, none will be selected."
   ]
  },
  {
   "cell_type": "code",
   "execution_count": null,
   "metadata": {},
   "outputs": [],
   "source": [
    "from bs4 import BeautifulSoup\n",
    "\n",
    "from soupsavvy import ClassSelector, HasSelector\n",
    "from soupsavvy.selectors.nth import OnlyOfSelector\n",
    "\n",
    "soup = BeautifulSoup(\n",
    "    \"\"\"\n",
    "    <div class=\"book\">\n",
    "        <span class=\"title\">Animal Farm</span>\n",
    "        <p class=\"price\">Price: $15</p>\n",
    "        <p class=\"price\">Price: $20</p>\n",
    "    </div>\n",
    "    <div class=\"book\">\n",
    "        <span class=\"title\">Frankenstein</span>\n",
    "        <p class=\"price\">Price: $30</p>\n",
    "    </div>\n",
    "    \"\"\",\n",
    "    features=\"html.parser\",\n",
    ")\n",
    "price_selector = ClassSelector(\"price\")\n",
    "selector = OnlyOfSelector(price_selector)\n",
    "selector.find(soup)"
   ]
  },
  {
   "cell_type": "markdown",
   "metadata": {},
   "source": [
    "#### Combining\n",
    "\n",
    "Here's an example demonstrating how to select an element with the class `title` that is a direct child of an element containing only one child with the class `price`."
   ]
  },
  {
   "cell_type": "code",
   "execution_count": null,
   "metadata": {},
   "outputs": [],
   "source": [
    "from bs4 import BeautifulSoup\n",
    "\n",
    "from soupsavvy import Anchor, ClassSelector, HasSelector\n",
    "from soupsavvy.selectors.nth import OnlyOfSelector\n",
    "\n",
    "soup = BeautifulSoup(\n",
    "    \"\"\"\n",
    "    <div class=\"book\">\n",
    "        <span class=\"title\">Brave New world</span>\n",
    "        <p class=\"price\">Price: $25</p>\n",
    "        <p class=\"price\">Price: $20</p>\n",
    "    </div>\n",
    "    <div class=\"book\">\n",
    "        <span class=\"title\">Animal Farm</span>\n",
    "    </div>\n",
    "    <div class=\"book\">\n",
    "        <span class=\"title\">Frankenstein</span>\n",
    "        <p class=\"price\">Price: $30</p>\n",
    "    </div>\n",
    "    \"\"\",\n",
    "    features=\"html.parser\",\n",
    ")\n",
    "price_selector = ClassSelector(\"price\")\n",
    "selector = HasSelector(Anchor > OnlyOfSelector(price_selector)) > ClassSelector(\"title\")\n",
    "selector.find_all(soup, recursive=False)"
   ]
  },
  {
   "cell_type": "markdown",
   "metadata": {},
   "source": [
    "## API module"
   ]
  },
  {
   "cell_type": "markdown",
   "metadata": {},
   "source": [
    "As an alternative way of combining selectors, `soupsavvy` offers a set of convenient API functions within the `soupsavvy.selectors.api` module, which acts as shortcuts:\n",
    "\n",
    "- `and_` - for creating `AndSelector`\n",
    "- `or_` - for creating `SelectorList`\n",
    "- `is_` - for creating `SelectorList`\n",
    "- `where` - for creating `SelectorList`\n",
    "- `not_` - for creating `NotSelector`\n",
    "- `has` - for creating `HasSelector`\n",
    "- `xor` - for creating `XORSelector`\n",
    "\n",
    "These functions could in some contexts be more clear and concise."
   ]
  },
  {
   "cell_type": "code",
   "execution_count": null,
   "metadata": {},
   "outputs": [],
   "source": [
    "from soupsavvy import ClassSelector, TypeSelector\n",
    "from soupsavvy.api import and_\n",
    "\n",
    "and_(ClassSelector(\"price\"), TypeSelector(\"p\"))"
   ]
  },
  {
   "cell_type": "code",
   "execution_count": null,
   "metadata": {},
   "outputs": [],
   "source": [
    "from soupsavvy import ClassSelector, TypeSelector\n",
    "from soupsavvy.api import has\n",
    "\n",
    "has(ClassSelector(\"price\"), TypeSelector(\"p\"))"
   ]
  },
  {
   "cell_type": "markdown",
   "metadata": {},
   "source": [
    "## Summary"
   ]
  },
  {
   "cell_type": "markdown",
   "metadata": {},
   "source": [
    "`soupsavvy` provides a wide range of Higher Order Selectors that allow you to combine multiple selectors in various ways to create complex search criteria. Selectors were designed to be highly flexible and combinable, so that they can be customized to user specific needs without much trouble. Hopefully, this will help you to kick the ground running with this topic."
   ]
  },
  {
   "cell_type": "markdown",
   "metadata": {},
   "source": [
    "**Enjoy `soupsavvy` and leave us feedback!**  \n",
    "**Happy scraping!**"
   ]
  }
 ],
 "metadata": {
  "kernelspec": {
   "display_name": "soupsavvy",
   "language": "python",
   "name": "python3"
  },
  "language_info": {
   "codemirror_mode": {
    "name": "ipython",
    "version": 3
   },
   "file_extension": ".py",
   "mimetype": "text/x-python",
   "name": "python",
   "nbconvert_exporter": "python",
   "pygments_lexer": "ipython3",
   "version": "3.11.8"
  }
 },
 "nbformat": 4,
 "nbformat_minor": 2
}
